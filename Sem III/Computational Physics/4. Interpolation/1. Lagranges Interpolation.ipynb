{
 "cells": [
  {
   "cell_type": "markdown",
   "source": [
    "### Lagrange's Linear Interpolation"
   ],
   "metadata": {
    "collapsed": false
   },
   "id": "62c9207af8783c12"
  },
  {
   "cell_type": "code",
   "execution_count": 7,
   "outputs": [
    {
     "name": "stdout",
     "output_type": "stream",
     "text": [
      "Step 1: Define the known points (x0, f0) = (2, 1.4142), (x1, f1) = (4, 2)\n",
      "Step 2: Define the point of interpolation xp = 3\n",
      "Step 3: Compute the first term:\n",
      "       (xp - x1) / (x0 - x1) * f0\n",
      "       = (3 - 4) / (2 - 4) * 1.4142\n",
      "       = 0.7071\n",
      "Step 4: Compute the second term:\n",
      "       (xp - x0) / (x1 - x0) * f1\n",
      "       = (3 - 2) / (4 - 2) * 2\n",
      "       = 1.0\n",
      "Step 5: Add the two terms to get p1(xp):\n",
      "       p1(xp)\n",
      "       = 0.7071 + 1.0\n",
      "       = 1.7071\n",
      "\n",
      "The interpolated value at xp = 3 is p1(xp) = 1.7071\n"
     ]
    }
   ],
   "source": [
    "# Function to compute Lagrange Linear Interpolation\n",
    "def lagrange_linear_interpolation(x, y, xp):\n",
    "    print(f\"Step 1: Define the known points (x0, f0) = ({x[0]}, {y[0]}), (x1, f1) = ({x[1]}, {y[1]})\")\n",
    "    print(f\"Step 2: Define the point of interpolation xp = {xp}\")\n",
    "    \n",
    "    # Step 3: Compute the first term of the interpolation formula\n",
    "    term1_numerator = xp - x[1]\n",
    "    term1_denominator = x[0] - x[1]\n",
    "    term1 = (term1_numerator / term1_denominator) * y[0]\n",
    "    print(f\"Step 3: Compute the first term:\")\n",
    "    print(f\"       (xp - x1) / (x0 - x1) * f0\")\n",
    "    print(f\"       = ({xp} - {x[1]}) / ({x[0]} - {x[1]}) * {y[0]}\")\n",
    "    print(f\"       = {term1}\")\n",
    "    \n",
    "    # Step 4: Compute the second term of the interpolation formula\n",
    "    term2_numerator = xp - x[0]\n",
    "    term2_denominator = x[1] - x[0]\n",
    "    term2 = (term2_numerator / term2_denominator) * y[1]\n",
    "    print(f\"Step 4: Compute the second term:\")\n",
    "    print(f\"       (xp - x0) / (x1 - x0) * f1\")\n",
    "    print(f\"       = ({xp} - {x[0]}) / ({x[1]} - {x[0]}) * {y[1]}\")\n",
    "    print(f\"       = {term2}\")\n",
    "    \n",
    "    # Step 5: Add the two terms to get the interpolated value p1(xp)\n",
    "    p1_x = term1 + term2\n",
    "    print(f\"Step 5: Add the two terms to get p1(xp):\")\n",
    "    print(f\"       p1(xp)\")\n",
    "    print(f\"       = {term1} + {term2}\")\n",
    "    print(f\"       = {p1_x}\")\n",
    "    \n",
    "    # Return the final interpolated value\n",
    "    return p1_x\n",
    "\n",
    "# Input values as lists for x and y\n",
    "x = [2, 4]\n",
    "y = [1.4142, 2]\n",
    "xp = 3\n",
    "\n",
    "# Perform the interpolation and print the result step-by-step\n",
    "interpolated_value = lagrange_linear_interpolation(x, y, xp)\n",
    "\n",
    "print(f\"\\nThe interpolated value at xp = {xp} is p1(xp) = {interpolated_value}\")\n"
   ],
   "metadata": {
    "collapsed": false,
    "ExecuteTime": {
     "end_time": "2024-09-20T14:28:32.137719Z",
     "start_time": "2024-09-20T14:28:32.132170Z"
    }
   },
   "id": "2e3fe107f8dd381b"
  },
  {
   "cell_type": "markdown",
   "source": [
    "### Lagranges Quadratic Interpolation"
   ],
   "metadata": {
    "collapsed": false
   },
   "id": "557437e33dd7c5bf"
  },
  {
   "cell_type": "code",
   "execution_count": 8,
   "outputs": [
    {
     "name": "stdout",
     "output_type": "stream",
     "text": [
      "Step 1: Define the known points (x0, f0) = (2, 9), (x1, f1) = (4, 15), (x2, f2) = (7, 20)\n",
      "Step 2: Define the point of interpolation xp = 5\n",
      "Step 3: Compute the first term:\n",
      "       (xp - x1) * (xp - x2) / (x0 - x1) * (x0 - x2) * f0\n",
      "       = (5 - 4) * (5 - 7) / (2 - 4) * (2 - 7) * 9\n",
      "       = -1.8\n",
      "Step 4: Compute the second term:\n",
      "       (xp - x0) * (xp - x2) / (x1 - x0) * (x1 - x2) * f1\n",
      "       = (5 - 2) * (5 - 7) / (4 - 2) * (4 - 7) * 15\n",
      "       = 15.0\n",
      "Step 5: Compute the third term:\n",
      "       (xp - x0) * (xp - x1) / (x2 - x0) * (x2 - x1) * f2\n",
      "       = (5 - 2) * (5 - 4) / (7 - 2) * (7 - 4) * 20\n",
      "       = 4.0\n",
      "Step 6: Add the three terms to get p2(xp):\n",
      "       p2(xp)\n",
      "       = -1.8 + 15.0 + 4.0\n",
      "       = 17.2\n",
      "\n",
      "The interpolated value at xp = 5 is p2(xp) = 17.2\n"
     ]
    }
   ],
   "source": [
    "# Function to compute Lagrange Quadratic Interpolation\n",
    "\n",
    "def lagrange_quadratic_interpolation(x, y, xp):\n",
    "    print(f\"Step 1: Define the known points (x0, f0) = ({x[0]}, {y[0]}), (x1, f1) = ({x[1]}, {y[1]}), (x2, f2) = ({x[2]}, {y[2]})\")\n",
    "    print(f\"Step 2: Define the point of interpolation xp = {xp}\")\n",
    "    \n",
    "    # Step 3: Compute the first term of the interpolation formula\n",
    "    term1_numerator = (xp - x[1]) * (xp - x[2])\n",
    "    term1_denominator = (x[0] - x[1]) * (x[0] - x[2])\n",
    "    term1 = (term1_numerator / term1_denominator) * y[0]\n",
    "    print(f\"Step 3: Compute the first term:\")\n",
    "    print(f\"       (xp - x1) * (xp - x2) / (x0 - x1) * (x0 - x2) * f0\")\n",
    "    print(f\"       = ({xp} - {x[1]}) * ({xp} - {x[2]}) / ({x[0]} - {x[1]}) * ({x[0]} - {x[2]}) * {y[0]}\")\n",
    "    print(f\"       = {term1}\")\n",
    "    \n",
    "    # Step 4: Compute the second term of the interpolation formula\n",
    "    term2_numerator = (xp - x[0]) * (xp - x[2])\n",
    "    term2_denominator = (x[1] - x[0]) * (x[1] - x[2])\n",
    "    term2 = (term2_numerator / term2_denominator) * y[1]\n",
    "    print(f\"Step 4: Compute the second term:\")\n",
    "    print(f\"       (xp - x0) * (xp - x2) / (x1 - x0) * (x1 - x2) * f1\")\n",
    "    print(f\"       = ({xp} - {x[0]}) * ({xp} - {x[2]}) / ({x[1]} - {x[0]}) * ({x[1]} - {x[2]}) * {y[1]}\")\n",
    "    print(f\"       = {term2}\")\n",
    "    \n",
    "    # Step 5: Compute the third term of the interpolation formula\n",
    "    term3_numerator = (xp - x[0]) * (xp - x[1])\n",
    "    term3_denominator = (x[2] - x[0]) * (x[2] - x[1])\n",
    "    term3 = (term3_numerator / term3_denominator) * y[2]\n",
    "    print(f\"Step 5: Compute the third term:\")\n",
    "    print(f\"       (xp - x0) * (xp - x1) / (x2 - x0) * (x2 - x1) * f2\")\n",
    "    print(f\"       = ({xp} - {x[0]}) * ({xp} - {x[1]}) / ({x[2]} - {x[0]}) * ({x[2]} - {x[1]}) * {y[2]}\")\n",
    "    print(f\"       = {term3}\")\n",
    "    \n",
    "    # Step 6: Add the three terms to get the interpolated value p2(xp)\n",
    "    p2_x = term1 + term2 + term3\n",
    "    print(f\"Step 6: Add the three terms to get p2(xp):\")\n",
    "    print(f\"       p2(xp)\")\n",
    "    print(f\"       = {term1} + {term2} + {term3}\")\n",
    "    print(f\"       = {p2_x}\")\n",
    "    \n",
    "    # Return the final interpolated value\n",
    "    return p2_x\n",
    "\n",
    "# Input values as lists for x and y\n",
    "x = [2, 4, 7]\n",
    "y = [9, 15, 20]\n",
    "xp = 5\n",
    "\n",
    "# Perform the interpolation and print the result step-by-step\n",
    "interpolated_value = lagrange_quadratic_interpolation(x, y, xp)\n",
    "\n",
    "print(f\"\\nThe interpolated value at xp = {xp} is p2(xp) = {interpolated_value}\")"
   ],
   "metadata": {
    "collapsed": false,
    "ExecuteTime": {
     "end_time": "2024-09-20T14:30:18.324343Z",
     "start_time": "2024-09-20T14:30:18.319052Z"
    }
   },
   "id": "63e47c3903c3320e"
  },
  {
   "cell_type": "markdown",
   "source": [
    "### Lagranges Polynomial Interpolation"
   ],
   "metadata": {
    "collapsed": false
   },
   "id": "981183bd32d1174b"
  },
  {
   "cell_type": "code",
   "execution_count": 10,
   "outputs": [
    {
     "name": "stdout",
     "output_type": "stream",
     "text": [
      "Step 1: Define the known points (x0, f0) = (2, 9), (x1, f1) = (4, 15), (x2, f2) = (7, 20), (x3, f3) = (10, 25)\n",
      "Step 2: Define the point of interpolation xp = 8\n",
      "Step 3: Compute the first term:\n",
      "       (xp - x1) * (xp - x2) * (xp - x3) / (x0 - x1) * (x0 - x2) * (x0 - x3) * f0\n",
      "       = (8 - 4) * (8 - 7) * (8 - 10) / (2 - 4) * (2 - 7) * (2 - 10) * 9\n",
      "       = 0.9\n",
      "Step 4: Compute the second term:\n",
      "       (xp - x0) * (xp - x2) * (xp - x3) / (x1 - x0) * (x1 - x2) * (x1 - x3) * f1\n",
      "       = (8 - 2) * (8 - 7) * (8 - 10) / (4 - 2) * (4 - 7) * (4 - 10) * 15\n",
      "       = -5.0\n",
      "Step 5: Compute the third term:\n",
      "       (xp - x0) * (xp - x1) * (xp - x3) / (x2 - x0) * (x2 - x1) * (x2 - x3) * f2\n",
      "       = (8 - 2) * (8 - 4) * (8 - 10) / (7 - 2) * (7 - 4) * (7 - 10) * 20\n",
      "       = 21.333333333333332\n",
      "Step 6: Compute the fourth term:\n",
      "       (xp - x0) * (xp - x1) * (xp - x2) / (x3 - x0) * (x3 - x1) * (x3 - x2) * f3\n",
      "       = (8 - 2) * (8 - 4) * (8 - 7) / (10 - 2) * (10 - 4) * (10 - 7) * 25\n",
      "       = 4.166666666666666\n",
      "Step 7: Add the four terms to get p3(xp):\n",
      "       p3(xp)\n",
      "       = 0.9 + -5.0 + 21.333333333333332 + 4.166666666666666\n",
      "       = 21.4\n",
      "\n",
      "The interpolated value at xp = 8 is p3(xp) = 21.4\n"
     ]
    }
   ],
   "source": [
    "# Function to compute Lagrange Polynomial Interpolation\n",
    "\n",
    "def lagrange_polynomial_interpolation(x, y, xp):\n",
    "    print(f\"Step 1: Define the known points (x0, f0) = ({x[0]}, {y[0]}), (x1, f1) = ({x[1]}, {y[1]}), (x2, f2) = ({x[2]}, {y[2]}), (x3, f3) = ({x[3]}, {y[3]})\")\n",
    "    print(f\"Step 2: Define the point of interpolation xp = {xp}\")\n",
    "    \n",
    "    # Step 3: Compute the first term of the interpolation formula\n",
    "    term1_numerator = (xp - x[1]) * (xp - x[2]) * (xp - x[3])\n",
    "    term1_denominator = (x[0] - x[1]) * (x[0] - x[2]) * (x[0] - x[3])\n",
    "    term1 = (term1_numerator / term1_denominator) * y[0]\n",
    "    print(f\"Step 3: Compute the first term:\")\n",
    "    print(f\"       (xp - x1) * (xp - x2) * (xp - x3) / (x0 - x1) * (x0 - x2) * (x0 - x3) * f0\")\n",
    "    print(f\"       = ({xp} - {x[1]}) * ({xp} - {x[2]}) * ({xp} - {x[3]}) / ({x[0]} - {x[1]}) * ({x[0]} - {x[2]}) * ({x[0]} - {x[3]}) * {y[0]}\")\n",
    "    print(f\"       = {term1}\")\n",
    "    \n",
    "    # Step 4: Compute the second term of the interpolation formula\n",
    "    term2_numerator = (xp - x[0]) * (xp - x[2]) * (xp - x[3])\n",
    "    term2_denominator = (x[1] - x[0]) * (x[1] - x[2]) * (x[1] - x[3])\n",
    "    term2 = (term2_numerator / term2_denominator) * y[1]\n",
    "    print(f\"Step 4: Compute the second term:\")\n",
    "    print(f\"       (xp - x0) * (xp - x2) * (xp - x3) / (x1 - x0) * (x1 - x2) * (x1 - x3) * f1\")\n",
    "    print(f\"       = ({xp} - {x[0]}) * ({xp} - {x[2]}) * ({xp} - {x[3]}) / ({x[1]} - {x[0]}) * ({x[1]} - {x[2]}) * ({x[1]} - {x[3]}) * {y[1]}\")\n",
    "    print(f\"       = {term2}\")\n",
    "    \n",
    "    # Step 5: Compute the third term of the interpolation formula\n",
    "    term3_numerator = (xp - x[0]) * (xp - x[1]) * (xp - x[3])\n",
    "    term3_denominator = (x[2] - x[0]) * (x[2] - x[1]) * (x[2] - x[3])\n",
    "    term3 = (term3_numerator / term3_denominator) * y[2]\n",
    "    print(f\"Step 5: Compute the third term:\")\n",
    "    print(f\"       (xp - x0) * (xp - x1) * (xp - x3) / (x2 - x0) * (x2 - x1) * (x2 - x3) * f2\")\n",
    "    print(f\"       = ({xp} - {x[0]}) * ({xp} - {x[1]}) * ({xp} - {x[3]}) / ({x[2]} - {x[0]}) * ({x[2]} - {x[1]}) * ({x[2]} - {x[3]}) * {y[2]}\")\n",
    "    print(f\"       = {term3}\")\n",
    "    \n",
    "    # Step 6: Compute the fourth term of the interpolation formula\n",
    "    term4_numerator = (xp - x[0]) * (xp - x[1]) * (xp - x[2])\n",
    "    term4_denominator = (x[3] - x[0]) * (x[3] - x[1]) * (x[3] - x[2])\n",
    "    term4 = (term4_numerator / term4_denominator) * y[3]\n",
    "    print(f\"Step 6: Compute the fourth term:\")\n",
    "    print(f\"       (xp - x0) * (xp - x1) * (xp - x2) / (x3 - x0) * (x3 - x1) * (x3 - x2) * f3\")\n",
    "    print(f\"       = ({xp} - {x[0]}) * ({xp} - {x[1]}) * ({xp} - {x[2]}) / ({x[3]} - {x[0]}) * ({x[3]} - {x[1]}) * ({x[3]} - {x[2]}) * {y[3]}\")\n",
    "    print(f\"       = {term4}\")\n",
    "    \n",
    "    # Step 7: Add the four terms to get the interpolated value p3(xp)\n",
    "    p3_x = term1 + term2 + term3 + term4\n",
    "    print(f\"Step 7: Add the four terms to get p3(xp):\")\n",
    "    print(f\"       p3(xp)\")\n",
    "    print(f\"       = {term1} + {term2} + {term3} + {term4}\")\n",
    "    print(f\"       = {p3_x}\")\n",
    "    \n",
    "    # Return the final interpolated value\n",
    "    return p3_x\n",
    "\n",
    "# Input values as lists for x and y\n",
    "x = [2, 4, 7, 10]\n",
    "y = [9, 15, 20, 25]\n",
    "xp = 8\n",
    "\n",
    "# Perform the interpolation and print the result step-by-step\n",
    "interpolated_value = lagrange_polynomial_interpolation(x, y, xp)\n",
    "\n",
    "print(f\"\\nThe interpolated value at xp = {xp} is p3(xp) = {interpolated_value}\")"
   ],
   "metadata": {
    "collapsed": false,
    "ExecuteTime": {
     "end_time": "2024-09-20T14:35:10.970444Z",
     "start_time": "2024-09-20T14:35:10.961016Z"
    }
   },
   "id": "7e8a937ade781323"
  },
  {
   "cell_type": "markdown",
   "source": [
    "### Lagranges Inverse Interpolation"
   ],
   "metadata": {
    "collapsed": false
   },
   "id": "bc66d1f7601f7c29"
  },
  {
   "cell_type": "code",
   "execution_count": 11,
   "outputs": [
    {
     "name": "stdout",
     "output_type": "stream",
     "text": [
      "Step 1: Define the known points (x0, f0) = (0, 0), (x1, f1) = (0.5, 0.57)\n",
      "Step 2: Define the point of interpolation yp = 0.5\n",
      "Step 3: Compute the first term:\n",
      "       (yp - f1) / (f0 - f1) * x0\n",
      "       = (0.5 - 0.57) / (0 - 0.57) * 0\n",
      "       = 0.0\n",
      "Step 4: Compute the second term:\n",
      "       (yp - f0) / (f1 - f0) * x1\n",
      "       = (0.5 - 0) / (0.57 - 0) * 0.5\n",
      "       = 0.4385964912280702\n",
      "Step 5: Add the two terms to get p1(yp):\n",
      "       p1(yp)\n",
      "       = 0.0 + 0.4385964912280702\n",
      "       = 0.4385964912280702\n",
      "\n",
      "The interpolated value at yp = 0.5 is p1(yp) = 0.4385964912280702\n"
     ]
    }
   ],
   "source": [
    "# Function to compute Lagrange inverse interpolation\n",
    "\n",
    "def lagrange_inverse_interpolation(x, y, yp):\n",
    "    print(f\"Step 1: Define the known points (x0, f0) = ({x[0]}, {y[0]}), (x1, f1) = ({x[1]}, {y[1]})\")\n",
    "    print(f\"Step 2: Define the point of interpolation yp = {yp}\")\n",
    "    \n",
    "    # Step 3: Compute the first term of the interpolation formula\n",
    "    term1_numerator = yp - y[1]\n",
    "    term1_denominator = y[0] - y[1]\n",
    "    term1 = (term1_numerator / term1_denominator) * x[0]\n",
    "    print(f\"Step 3: Compute the first term:\")\n",
    "    print(f\"       (yp - f1) / (f0 - f1) * x0\")\n",
    "    print(f\"       = ({yp} - {y[1]}) / ({y[0]} - {y[1]}) * {x[0]}\")\n",
    "    print(f\"       = {term1}\")\n",
    "    \n",
    "    # Step 4: Compute the second term of the interpolation formula\n",
    "    term2_numerator = yp - y[0]\n",
    "    term2_denominator = y[1] - y[0]\n",
    "    term2 = (term2_numerator / term2_denominator) * x[1]\n",
    "    print(f\"Step 4: Compute the second term:\")\n",
    "    print(f\"       (yp - f0) / (f1 - f0) * x1\")\n",
    "    print(f\"       = ({yp} - {y[0]}) / ({y[1]} - {y[0]}) * {x[1]}\")\n",
    "    print(f\"       = {term2}\")\n",
    "    \n",
    "    # Step 5: Add the two terms to get the interpolated value p1(yp)\n",
    "    p1_y = term1 + term2\n",
    "    print(f\"Step 5: Add the two terms to get p1(yp):\")\n",
    "    print(f\"       p1(yp)\")\n",
    "    print(f\"       = {term1} + {term2}\")\n",
    "    print(f\"       = {p1_y}\")\n",
    "    \n",
    "    # Return the final interpolated value\n",
    "    return p1_y\n",
    "\n",
    "# Input values as lists for x and y\n",
    "x = [0, 0.5]\n",
    "y = [0, 0.57]\n",
    "yp = 0.5\n",
    "\n",
    "# Perform the interpolation and print the result step-by-step\n",
    "interpolated_value = lagrange_inverse_interpolation(x, y, yp)\n",
    "\n",
    "print(f\"\\nThe interpolated value at yp = {yp} is p1(yp) = {interpolated_value}\")"
   ],
   "metadata": {
    "collapsed": false,
    "ExecuteTime": {
     "end_time": "2024-09-20T14:36:28.318569Z",
     "start_time": "2024-09-20T14:36:28.303696Z"
    }
   },
   "id": "f73c5fa38ba3b2e3"
  },
  {
   "cell_type": "code",
   "execution_count": null,
   "outputs": [],
   "source": [],
   "metadata": {
    "collapsed": false
   },
   "id": "f7e99e470ec38b26"
  }
 ],
 "metadata": {
  "kernelspec": {
   "display_name": "Python 3",
   "language": "python",
   "name": "python3"
  },
  "language_info": {
   "codemirror_mode": {
    "name": "ipython",
    "version": 2
   },
   "file_extension": ".py",
   "mimetype": "text/x-python",
   "name": "python",
   "nbconvert_exporter": "python",
   "pygments_lexer": "ipython2",
   "version": "2.7.6"
  }
 },
 "nbformat": 4,
 "nbformat_minor": 5
}
