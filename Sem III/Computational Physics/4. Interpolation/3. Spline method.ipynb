{
 "cells": [
  {
   "cell_type": "markdown",
   "source": [
    "### Spline Interpolation"
   ],
   "metadata": {
    "collapsed": false
   },
   "id": "b1b3a7096f77eb14"
  },
  {
   "cell_type": "code",
   "execution_count": 2,
   "id": "initial_id",
   "metadata": {
    "collapsed": true,
    "ExecuteTime": {
     "end_time": "2024-09-20T15:18:09.718708Z",
     "start_time": "2024-09-20T15:18:09.715270Z"
    }
   },
   "outputs": [
    {
     "name": "stdout",
     "output_type": "stream",
     "text": [
      "Step 1: Given points (x1, f(x1)) = (2, 7) and (x2, f(x2)) = (4, 21)\n",
      "Step 2: Interpolating at x = 3\n",
      "\n",
      "Step 3: Applying the formula:\n",
      "       f(x) = f(x1) + (x - x1) * (f(x2) - f(x1)) / (x2 - x1)\n",
      "       f(x) = 7 + (3 - 2) * (21 - 7) / (4 - 2)\n",
      "       f(x) = 7 + (1) * (14) / (2)\n",
      "       f(x) = 7 + (14) / (2)\n",
      "       f(x) = 14.0\n",
      "\n",
      "The interpolated value at x = 3 is f(x) = 14.0\n"
     ]
    }
   ],
   "source": [
    "# Function to perform spline interpolation\n",
    "def linear_interpolation(x, f, xp):\n",
    "    print(f\"Step 1: Given points (x1, f(x1)) = ({x[0]}, {f[0]}) and (x2, f(x2)) = ({x[1]}, {f[1]})\")\n",
    "    print(f\"Step 2: Interpolating at x = {xp}\")\n",
    "\n",
    "    # Step 3: Apply the linear interpolation formula\n",
    "    f_x = f[0] + (xp - x[0]) * (f[1] - f[0]) / (x[1] - x[0])\n",
    "\n",
    "    # Step 4: Display each step of the formula calculation\n",
    "    print(f\"\\nStep 3: Applying the formula:\")\n",
    "    print(f\"       f(x) = f(x1) + (x - x1) * (f(x2) - f(x1)) / (x2 - x1)\")\n",
    "    print(f\"       f(x) = {f[0]} + ({xp} - {x[0]}) * ({f[1]} - {f[0]}) / ({x[1]} - {x[0]})\")\n",
    "    print(f\"       f(x) = {f[0]} + ({xp - x[0]}) * ({f[1] - f[0]}) / ({x[1] - x[0]})\")\n",
    "    print(f\"       f(x) = {f[0]} + ({(xp - x[0]) * (f[1] - f[0])}) / ({x[1] - x[0]})\")\n",
    "    print(f\"       f(x) = {f_x}\")\n",
    "\n",
    "    return f_x\n",
    "\n",
    "# Input values as lists for x and f\n",
    "x = [2, 4]  # List of x values\n",
    "f = [7, 21]  # List of corresponding f(x) values\n",
    "xp = 3    # The x value at which we want to interpolate\n",
    "\n",
    "# Perform linear interpolation step-by-step\n",
    "interpolated_value = linear_interpolation(x, f, xp)\n",
    "\n",
    "# Display the result\n",
    "print(f\"\\nThe interpolated value at x = {xp} is f(x) = {interpolated_value}\")\n"
   ]
  },
  {
   "cell_type": "markdown",
   "source": [
    "### Spline Quadratic Interpolation"
   ],
   "metadata": {
    "collapsed": false
   },
   "id": "abc999304fb5331d"
  },
  {
   "cell_type": "code",
   "execution_count": 3,
   "outputs": [
    {
     "name": "stdout",
     "output_type": "stream",
     "text": [
      "Step 1: Given points (x1, f(x1)) = (1, 3), (x2, f(x2)) = (2, 7), and (x3, f(x3)) = (3, 21)\n",
      "Step 2: Interpolating at x = 2.5\n",
      "\n",
      "Step 3: Applying the formula:\n",
      "       f(x) = f(x1) * (x - x2) * (x - x3) / ((x1 - x2) * (x1 - x3)) +\n",
      "              f(x2) * (x - x1) * (x - x3) / ((x2 - x1) * (x2 - x3)) +\n",
      "              f(x3) * (x - x1) * (x - x2) / ((x3 - x1) * (x3 - x2))\n",
      "       f(x) = 3 * (2.5 - 2) * (2.5 - 3) / ((1 - 2) * (1 - 3)) +\n",
      "              7 * (2.5 - 1) * (2.5 - 3) / ((2 - 1) * (2 - 3)) +\n",
      "              21 * (2.5 - 1) * (2.5 - 2) / ((3 - 1) * (3 - 2))\n",
      "       f(x) = 3 * (0.5) * (-0.5) / ((-1) * (-2)) +\n",
      "              7 * (1.5) * (-0.5) / ((1) * (-1)) +\n",
      "              21 * (1.5) * (0.5) / ((2) * (1))\n",
      "       f(x) = -0.375 +\n",
      "              5.25 +\n",
      "              7.875\n",
      "       f(x) = 12.75\n",
      "\n",
      "The interpolated value at x = 2.5 is f(x) = 12.75\n"
     ]
    }
   ],
   "source": [
    "# Function to perform spline quadratic interpolation\n",
    "\n",
    "def quadratic_interpolation(x, f, xp):\n",
    "    print(f\"Step 1: Given points (x1, f(x1)) = ({x[0]}, {f[0]}), (x2, f(x2)) = ({x[1]}, {f[1]}), and (x3, f(x3)) = ({x[2]}, {f[2]})\")\n",
    "    print(f\"Step 2: Interpolating at x = {xp}\")\n",
    "\n",
    "    # Step 3: Apply the quadratic interpolation formula\n",
    "    f_x = f[0] * (xp - x[1]) * (xp - x[2]) / ((x[0] - x[1]) * (x[0] - x[2])) + \\\n",
    "          f[1] * (xp - x[0]) * (xp - x[2]) / ((x[1] - x[0]) * (x[1] - x[2])) + \\\n",
    "          f[2] * (xp - x[0]) * (xp - x[1]) / ((x[2] - x[0]) * (x[2] - x[1]))\n",
    "\n",
    "    # Step 4: Display each step of the formula calculation\n",
    "    print(f\"\\nStep 3: Applying the formula:\")\n",
    "    print(f\"       f(x) = f(x1) * (x - x2) * (x - x3) / ((x1 - x2) * (x1 - x3)) +\")\n",
    "    print(f\"              f(x2) * (x - x1) * (x - x3) / ((x2 - x1) * (x2 - x3)) +\")\n",
    "    print(f\"              f(x3) * (x - x1) * (x - x2) / ((x3 - x1) * (x3 - x2))\")\n",
    "    print(f\"       f(x) = {f[0]} * ({xp} - {x[1]}) * ({xp} - {x[2]}) / (({x[0]} - {x[1]}) * ({x[0]} - {x[2]})) +\")\n",
    "    print(f\"              {f[1]} * ({xp} - {x[0]}) * ({xp} - {x[2]}) / (({x[1]} - {x[0]}) * ({x[1]} - {x[2]})) +\")\n",
    "    print(f\"              {f[2]} * ({xp} - {x[0]}) * ({xp} - {x[1]}) / (({x[2]} - {x[0]}) * ({x[2]} - {x[1]}))\")\n",
    "    print(f\"       f(x) = {f[0]} * ({xp - x[1]}) * ({xp - x[2]}) / (({x[0] - x[1]}) * ({x[0] - x[2]})) +\")\n",
    "    print(f\"              {f[1]} * ({xp - x[0]}) * ({xp - x[2]}) / (({x[1] - x[0]}) * ({x[1] - x[2]})) +\")\n",
    "    print(f\"              {f[2]} * ({xp - x[0]}) * ({xp - x[1]}) / (({x[2] - x[0]}) * ({x[2] - x[1]}))\")\n",
    "    print(f\"       f(x) = {f[0] * (xp - x[1]) * (xp - x[2]) / ((x[0] - x[1]) * (x[0] - x[2]))} +\")\n",
    "    print(f\"              {f[1] * (xp - x[0]) * (xp - x[2]) / ((x[1] - x[0]) * (x[1] - x[2]))} +\")\n",
    "    print(f\"              {f[2] * (xp - x[0]) * (xp - x[1]) / ((x[2] - x[0]) * (x[2] - x[1]))}\")\n",
    "    print(f\"       f(x) = {f_x}\")\n",
    "    \n",
    "    return f_x\n",
    "\n",
    "# Input values as lists for x and f\n",
    "x = [1, 2, 3]  # List of x values\n",
    "f = [3, 7, 21]  # List of corresponding f(x) values\n",
    "xp = 2.5    # The x value at which we\n",
    "\n",
    "# Perform quadratic interpolation step-by-step\n",
    "interpolated_value = quadratic_interpolation(x, f, xp)\n",
    "\n",
    "# Display the result\n",
    "print(f\"\\nThe interpolated value at x = {xp} is f(x) = {interpolated_value}\")"
   ],
   "metadata": {
    "collapsed": false,
    "ExecuteTime": {
     "end_time": "2024-09-20T15:33:22.558698Z",
     "start_time": "2024-09-20T15:33:22.552041Z"
    }
   },
   "id": "bfa31b44ceb6d9a7"
  },
  {
   "cell_type": "code",
   "execution_count": null,
   "outputs": [],
   "source": [],
   "metadata": {
    "collapsed": false
   },
   "id": "525b0ff780e470ec"
  }
 ],
 "metadata": {
  "kernelspec": {
   "display_name": "Python 3",
   "language": "python",
   "name": "python3"
  },
  "language_info": {
   "codemirror_mode": {
    "name": "ipython",
    "version": 2
   },
   "file_extension": ".py",
   "mimetype": "text/x-python",
   "name": "python",
   "nbconvert_exporter": "python",
   "pygments_lexer": "ipython2",
   "version": "2.7.6"
  }
 },
 "nbformat": 4,
 "nbformat_minor": 5
}
