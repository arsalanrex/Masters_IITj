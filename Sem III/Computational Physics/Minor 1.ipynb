{
 "cells": [
  {
   "cell_type": "markdown",
   "source": [
    "### Bisection Method"
   ],
   "metadata": {
    "collapsed": false
   },
   "id": "677a3510f8d55f41"
  },
  {
   "cell_type": "code",
   "execution_count": 10,
   "id": "initial_id",
   "metadata": {
    "collapsed": true,
    "ExecuteTime": {
     "end_time": "2024-09-20T15:39:26.010538Z",
     "start_time": "2024-09-20T15:39:26.004911Z"
    }
   },
   "outputs": [
    {
     "name": "stdout",
     "output_type": "stream",
     "text": [
      "Iteration  | a        | b        | c        | f(c)     | Tol       \n",
      "------------------------------------------------------------\n",
      "1          | -2       | -1       | -1.5     | -1.4019  | 0.5       \n",
      "2          | -2       | -1.5     | -1.75    | 0.5331   | 0.25      \n",
      "3          | -1.75    | -1.5     | -1.625   | -0.5121  | 0.125     \n",
      "4          | -1.75    | -1.625   | -1.6875  | -0.0096  | 0.0625    \n",
      "5          | -1.75    | -1.6875  | -1.7188  | 0.2571   | 0.0312    \n",
      "6          | -1.7188  | -1.6875  | -1.7031  | 0.122    | 0.0157    \n",
      "7          | -1.7031  | -1.6875  | -1.6953  | 0.0559   | 0.0078    \n",
      "8          | -1.6953  | -1.6875  | -1.6914  | 0.0231   | 0.0039    \n",
      "9          | -1.6914  | -1.6875  | -1.6894  | 0.0063   | 0.002     \n",
      "10         | -1.6894  | -1.6875  | -1.6885  | -0.0012  | 0.001     \n",
      "11         | -1.6894  | -1.6885  | -1.6889  | 0.0021   | 0.0005    \n",
      "12         | -1.6889  | -1.6885  | -1.6887  | 0.0004   | 0.0002    \n",
      "13         | -1.6887  | -1.6885  | -1.6886  | -0.0004  | 0.0001    \n",
      "\n",
      "The root is approximately: -1.6886\n"
     ]
    }
   ],
   "source": [
    "import plotly.graph_objs as go\n",
    "import math\n",
    "\n",
    "def f(x):\n",
    "    # return 2*x**3 - 2*x - 5\n",
    "    return math.exp(x) - x**3 - 5\n",
    "    # return x**3 - (x + 1)\n",
    "    # return x - math.sin(x) - 0.5\n",
    "    # return math.log(x) - x + 2\n",
    "    # return x**4 - x - 10\n",
    "    # return math.exp(-x) - 3 * math.log(x)\n",
    "\n",
    "def bisection_method(a, b, tol):\n",
    "    if f(a) * f(b) >= 0:\n",
    "        print(\"The Bisection method fails.\")\n",
    "        return None\n",
    "    \n",
    "    iteration = 0\n",
    "    a_values = []\n",
    "    b_values = []\n",
    "    c_values = []\n",
    "    tolerances = []\n",
    "    \n",
    "    # Print the table header\n",
    "    print(f\"{'Iteration':<10} | {'a':<8} | {'b':<8} | {'c':<8} | {'f(c)':<8} | {'Tol':<10}\")\n",
    "    print('-' * 60)\n",
    "    \n",
    "    while (b - a) / 2 > tol:\n",
    "        c = round((a + b) / 2, decimals)\n",
    "        \n",
    "        # Append the current values of a, b, c, and tolerance\n",
    "        a_values.append(round(a, decimals))\n",
    "        b_values.append(round(b, decimals))\n",
    "        c_values.append(round(c, decimals))\n",
    "        tolerances.append(round((b - a) / 2, decimals))\n",
    "        \n",
    "        # Print current iteration details in tabular form\n",
    "        iteration += 1\n",
    "        print(f\"{iteration:<10} | {round(a, decimals):<8} | {round(b, decimals):<8} | {round(c, decimals):<8} | {round(f(c), decimals):<8} | {tolerances[-1]:<10}\")\n",
    "        \n",
    "        # Update the interval based on the sign of f(c)\n",
    "        if f(c) == 0:  # We've found the exact root\n",
    "            break\n",
    "        elif f(a) * f(c) < 0:  # The root lies between a and c\n",
    "            b = c\n",
    "        else:  # The root lies between c and b\n",
    "            a = c\n",
    "    \n",
    "    return c, a_values, b_values, c_values, tolerances\n",
    "\n",
    "\n",
    "# Given values\n",
    "a = -2\n",
    "b = -1\n",
    "tol = 0.0001\n",
    "decimals = 4\n",
    "\n",
    "root, a_values, b_values, c_values, tolerances = bisection_method(a, b, tol)\n",
    "if root is not None:\n",
    "    print(f\"\\nThe root is approximately: {root}\")\n"
   ]
  },
  {
   "cell_type": "markdown",
   "source": [
    "### Newton-Raphson Method"
   ],
   "metadata": {
    "collapsed": false
   },
   "id": "33fee1dccef8bf29"
  },
  {
   "cell_type": "code",
   "execution_count": 11,
   "outputs": [
    {
     "name": "stdout",
     "output_type": "stream",
     "text": [
      "f(x)  = x**3 - 2*x - 5\n",
      "f'(x) = 3*x**2 - 2\n",
      "\n",
      "x(n+1) = x(n) - f(x(n))\n",
      "               --------\n",
      "                f'(x(n)\n",
      "\n",
      "\n",
      "Iteration  | x0         | f(xn)      | f_prm(xn)  | x1         | Tol       \n",
      "---------------------------------------------------------------------------\n",
      "1          | 2          | -1         | 10         | 2.1        | 0.1       \n",
      "2          | 2.1        | 0.061      | 11.23      | 2.0946     | 0.0054    \n",
      "3          | 2.0946     | 0.0002     | 11.1616    | 2.0946     | 0.0       \n",
      "\n",
      "The root is approximately: 2.0946\n"
     ]
    }
   ],
   "source": [
    "import sympy as sp\n",
    "import plotly.graph_objs as go\n",
    "import math\n",
    "\n",
    "# Define the symbolic variable and function\n",
    "x = sp.Symbol('x')\n",
    "\n",
    "f_symbolic = x**3 - 2*x - 5\n",
    "# f_symbolic = sp.sin(x) - (x + 1) / (x - 1)\n",
    "# f_symbolic = x -2 + sp.ln(x)\n",
    "# f_symbolic = math.exp(-x) - 3 * math.log(x)\n",
    "\n",
    "# Define the derivative of the function symbolically\n",
    "f_prime_symbolic = sp.diff(f_symbolic, x)\n",
    "\n",
    "# Convert symbolic function and derivative to numerical functions\n",
    "f = sp.lambdify(x, f_symbolic, 'math')\n",
    "f_prime = sp.lambdify(x, f_prime_symbolic, 'math')\n",
    "print(f\"f(x)  = {f_symbolic}\")\n",
    "print(f\"f'(x) = {f_prime_symbolic}\\n\")\n",
    "print(\"x(n+1) = x(n) - f(x(n))\")\n",
    "print(\"               --------\")\n",
    "print(\"                f'(x(n)\\n\\n\")\n",
    "\n",
    "def newton_raphson_method(x0, tol):\n",
    "    # Compute initial x1\n",
    "    x1 = x0 - f(x0) / f_prime(x0)\n",
    "    \n",
    "    iteration = 0\n",
    "    x_values = []\n",
    "    tolerances = []\n",
    "    f_prime_values = []\n",
    "    \n",
    "    # Print the table header\n",
    "    print(f\"{'Iteration':<10} | {'x0':<10} | {'f(xn)':<10} | {'f_prm(xn)':<10} | {'x1':<10} | {'Tol':<10}\")\n",
    "    print('-' * 75)\n",
    "    \n",
    "    while abs(x1 - x0) > tol:\n",
    "        # Append the current values of x0, f(x1), f'(x1), and tolerance\n",
    "        x_values.append(round(x0, decimals))\n",
    "        tolerances.append(round(abs(x1 - x0), decimals))\n",
    "        f_prime_values.append(round(f_prime(x1), decimals))\n",
    "        \n",
    "        # Print current iteration details in tabular form\n",
    "        iteration += 1\n",
    "        print(f\"{iteration:<10} | {round(x0, decimals):<10} | {round(f(x0), decimals):<10} | {round(f_prime(x0), decimals):<10} | {round(x1, decimals):<10} | {round(abs(x1 - x0), decimals):<10}\")\n",
    "        \n",
    "        # Update x0 and x1 for the next iteration\n",
    "        x0 = x1\n",
    "        x1 = x0 - f(x0) / f_prime(x0)\n",
    "    \n",
    "    return x1, x_values, tolerances\n",
    "\n",
    "\n",
    "# Given values\n",
    "x0 = 2\n",
    "tol = 0.000001\n",
    "decimals = 4\n",
    "\n",
    "root, x_values, tolerances = newton_raphson_method(x0, tol)\n",
    "if root is not None:\n",
    "    print(f\"\\nThe root is approximately: {round(root, decimals)}\")\n",
    "    "
   ],
   "metadata": {
    "collapsed": false,
    "ExecuteTime": {
     "end_time": "2024-09-20T15:39:26.346399Z",
     "start_time": "2024-09-20T15:39:26.343465Z"
    }
   },
   "id": "62f10a86ef020846"
  },
  {
   "cell_type": "markdown",
   "source": [
    "### Secant Method"
   ],
   "metadata": {
    "collapsed": false
   },
   "id": "5fbae47bf841a2f6"
  },
  {
   "cell_type": "code",
   "execution_count": 12,
   "outputs": [
    {
     "name": "stdout",
     "output_type": "stream",
     "text": [
      "x(n+1) = x(n) - f(x(n)) * [x(n) - x(n-1)]\n",
      "                -------------------------\n",
      "                  [f(x(n)) - f(x(n-1))]\n",
      "\n",
      "\n",
      "Iteration  | x0       | x1       | f(x_n)   | f(x_n-1) | num      | denom    | x2       | Tol       \n",
      "----------------------------------------------------------------------------------------------------\n",
      "1          | 0        | 1        | -3       | 1        | -3       | -4       | 0.25     | 0.75      \n",
      "2          | 1        | 0.25     | -0.23438 | -3       | 0.17578  | -1.23438 | 0.18644  | 0.06356   \n",
      "3          | 0.25     | 0.18644  | 0.07428  | -0.23438 | -0.00472 | -0.92572 | 0.20174  | 0.0153    \n",
      "\n",
      "The root is approximately: 0.20164\n"
     ]
    }
   ],
   "source": [
    "import plotly.graph_objs as go\n",
    "import math\n",
    "\n",
    "print(\"x(n+1) = x(n) - f(x(n)) * [x(n) - x(n-1)]\")\n",
    "print(\"                -------------------------\")\n",
    "print(\"                  [f(x(n)) - f(x(n-1))]\\n\\n\")\n",
    "\n",
    "def f(x):\n",
    "    return x**3 - 5*x + 1\n",
    "    # return x**2 * math.exp(-x / 2) - 1\n",
    "    # return math.exp(-x) - x\n",
    "    # return x**3 - 0.165 * x**2 + 0.0003993\n",
    "\n",
    "def secant_method(x0, x1, tol):\n",
    "    x2 = x1 - f(x1) * (x1 - x0) / (f(x1) - f(x0))\n",
    "    \n",
    "    iteration = 0\n",
    "    x_values = []\n",
    "    tolerances = []\n",
    "    \n",
    "    # Print the table header\n",
    "    print(f\"{'Iteration':<10} | {'x0':<8} | {'x1':<8} | {'f(x_n)':<8} | {'f(x_n-1)':<8} | {'num':<8} | {'denom':<8} | {'x2':<8} | {'Tol':<10}\")\n",
    "    print('-' * 100)\n",
    "    \n",
    "    while abs(x2 - x1) > tol:\n",
    "        # Append the current values of x0, x1, and tolerance\n",
    "        x_values.append(round(x1, decimals))\n",
    "        tolerances.append(round(abs(x2 - x1), decimals))\n",
    "        \n",
    "        # Print current iteration details in tabular form\n",
    "        iteration += 1\n",
    "        print(f\"{iteration:<10} | {round(x0, decimals):<8} | {round(x1, decimals):<8} | {round(f(x1), decimals):<8} | {round(f(x0), decimals):<8} | {round(f(x1)*(x1-x0), decimals):<8} | {round(f(x1)-f(0), decimals):<8} | {round(x2, decimals):<8} | {round(abs(x2 - x1), decimals):<10}\")\n",
    "        \n",
    "        x0 = x1\n",
    "        x1 = x2\n",
    "        x2 = x1 - f(x1) * (x1 - x0) / (f(x1) - f(x0))\n",
    "    \n",
    "    return x2, x_values, tolerances\n",
    "    \n",
    "# Given values\n",
    "x0 = 0\n",
    "x1 = 1\n",
    "tol = 0.0001\n",
    "decimals = 5\n",
    "\n",
    "root, x_values, tolerances = secant_method(x0, x1, tol)\n",
    "if root is not None:\n",
    "    print(f\"\\nThe root is approximately: {round(root, decimals)}\")\n",
    "    "
   ],
   "metadata": {
    "collapsed": false,
    "ExecuteTime": {
     "end_time": "2024-09-20T15:39:26.689245Z",
     "start_time": "2024-09-20T15:39:26.685565Z"
    }
   },
   "id": "668052456d6fddd0"
  },
  {
   "cell_type": "markdown",
   "source": [
    "### Fixed Point Iteration"
   ],
   "metadata": {
    "collapsed": false
   },
   "id": "454d919e269c5a07"
  },
  {
   "cell_type": "code",
   "execution_count": 13,
   "outputs": [
    {
     "name": "stdout",
     "output_type": "stream",
     "text": [
      "x          | f(x)           \n",
      "--------------------------\n",
      "0.0000     | -5.0000        \n",
      "1.0000     | -5.0000        \n",
      "2.0000     | 7.0000         \n",
      "\n",
      "Sign change detected in the interval [1.0000, 2.0000]\n",
      "Midpoint c = 1.5000\n",
      "Iteration  | x0       | x1       | Tol       \n",
      "----------------------------------------\n",
      "1          | 1.5      | 1.5874   | 0.0874    \n",
      "2          | 1.5874   | 1.5989   | 0.0115    \n",
      "3          | 1.5989   | 1.6004   | 0.0015    \n",
      "\n",
      "The root is approximately: 1.6006\n"
     ]
    }
   ],
   "source": [
    "import math\n",
    "import plotly.graph_objs as go\n",
    "\n",
    "# Define f(x)\n",
    "def f(x):\n",
    "    return 2*x**3 - 2*x - 5\n",
    "\n",
    "# Define g(x) for the iteration method\n",
    "def g(x):\n",
    "    return ((5 + 2*x) / 2)**(1/3)  # Example transformation for iteration\n",
    "\n",
    "# Create a table of values for x with x incrementing by 1 and stopping on sign change\n",
    "def create_table_until_sign_change(x_start):\n",
    "    x_values = []\n",
    "    f_values = []\n",
    "    \n",
    "    print(f\"{'x':<10} | {'f(x)':<15}\")\n",
    "    print('-' * 26)\n",
    "    \n",
    "    x = x_start\n",
    "    while True:\n",
    "        f_x = f(x)\n",
    "        x_values.append(x)\n",
    "        f_values.append(f_x)\n",
    "        print(f\"{x:<10.4f} | {f_x:<15.4f}\")\n",
    "        \n",
    "        # Stop when the sign changes\n",
    "        if len(f_values) > 1 and f_values[-1] * f_values[-2] < 0:\n",
    "            return x_values, f_values\n",
    "        \n",
    "        x += 1  # Increment x by 1 for each step\n",
    "\n",
    "# Midpoint calculation to narrow down root\n",
    "def midpoint(a, b):\n",
    "    return (a + b) / 2\n",
    "\n",
    "# Iterate to find midpoint in the interval\n",
    "def find_midpoint_in_interval(a, b):\n",
    "    c = midpoint(a, b)\n",
    "    print(f\"Midpoint c = {c:.4f}\")\n",
    "    return c\n",
    "\n",
    "# Iteration method to find the root\n",
    "def iteration_method(x0, tol, decimals, max_iter=100):\n",
    "    x1 = g(x0)\n",
    "    iteration = 0\n",
    "    x_values = []\n",
    "    tolerances = []\n",
    "    \n",
    "    print(f\"{'Iteration':<10} | {'x0':<8} | {'x1':<8} | {'Tol':<10}\")\n",
    "    print('-' * 40)\n",
    "    \n",
    "    # Append initial values\n",
    "    x_values.append(round(x0, decimals))\n",
    "    tolerances.append(round(abs(x1 - x0), decimals))\n",
    "    \n",
    "    # Iterate until the tolerance is met or the maximum number of iterations is reached\n",
    "    while abs(x1 - x0) > tol and iteration < max_iter:\n",
    "        iteration += 1\n",
    "        print(f\"{iteration:<10} | {round(x0, decimals):<8} | {round(x1, decimals):<8} | {round(abs(x1 - x0), decimals):<10}\")\n",
    "        \n",
    "        x0 = x1\n",
    "        x1 = g(x0)\n",
    "\n",
    "        # Append current values\n",
    "        x_values.append(round(x0, decimals))\n",
    "        tolerances.append(round(abs(x1 - x0), decimals))\n",
    "    \n",
    "    if iteration == max_iter:\n",
    "        print(\"The method did not converge within the maximum number of iterations.\")\n",
    "        return None, x_values, tolerances\n",
    "    \n",
    "    return x1, x_values, tolerances\n",
    "\n",
    "# Parameters\n",
    "x_start = 0  # Start of the interval\n",
    "\n",
    "# Step 1: Create table of values for x, stopping at sign change\n",
    "x_values, f_values = create_table_until_sign_change(x_start)\n",
    "\n",
    "# Step 2: Find the interval [a, b] where f(x) changes sign\n",
    "if len(f_values) > 1 and f_values[-1] * f_values[-2] < 0:\n",
    "    a, b = x_values[-2], x_values[-1]\n",
    "    print(f\"\\nSign change detected in the interval [{a:.4f}, {b:.4f}]\")\n",
    "\n",
    "    # Step 3: Calculate the midpoint c\n",
    "    c = find_midpoint_in_interval(a, b)\n",
    "\n",
    "    # Given values for iteration method\n",
    "    tol = 0.001\n",
    "    decimals = 4\n",
    "\n",
    "    # Run the iteration method with c as the starting point\n",
    "    root, x_values, tolerances = iteration_method(c, tol, decimals)\n",
    "    if root is not None:\n",
    "        print(f\"\\nThe root is approximately: {round(root, decimals)}\")\n",
    "else:\n",
    "    print(\"No sign change detected in the given range.\")\n"
   ],
   "metadata": {
    "collapsed": false,
    "ExecuteTime": {
     "end_time": "2024-09-20T15:39:27.022967Z",
     "start_time": "2024-09-20T15:39:27.011172Z"
    }
   },
   "id": "e20685b5034eb997"
  },
  {
   "cell_type": "markdown",
   "source": [
    "### Lagrange Linear Interpolation"
   ],
   "metadata": {
    "collapsed": false
   },
   "id": "a8ea9aad6a460acd"
  },
  {
   "cell_type": "code",
   "execution_count": 14,
   "outputs": [
    {
     "name": "stdout",
     "output_type": "stream",
     "text": [
      "Step 1: Define the known points (x0, f0) = (2, 1.4142), (x1, f1) = (4, 2)\n",
      "Step 2: Define the point of interpolation xp = 3\n",
      "Step 3: Compute the first term:\n",
      "       (xp - x1) / (x0 - x1) * f0\n",
      "       = (3 - 4) / (2 - 4) * 1.4142\n",
      "       = 0.7071\n",
      "Step 4: Compute the second term:\n",
      "       (xp - x0) / (x1 - x0) * f1\n",
      "       = (3 - 2) / (4 - 2) * 2\n",
      "       = 1.0\n",
      "Step 5: Add the two terms to get p1(xp):\n",
      "       p1(xp)\n",
      "       = 0.7071 + 1.0\n",
      "       = 1.7071\n",
      "\n",
      "The interpolated value at xp = 3 is p1(xp) = 1.7071\n"
     ]
    }
   ],
   "source": [
    "# Function to compute Lagrange Linear Interpolation\n",
    "def lagrange_linear_interpolation(x, y, xp):\n",
    "    print(f\"Step 1: Define the known points (x0, f0) = ({x[0]}, {y[0]}), (x1, f1) = ({x[1]}, {y[1]})\")\n",
    "    print(f\"Step 2: Define the point of interpolation xp = {xp}\")\n",
    "    \n",
    "    # Step 3: Compute the first term of the interpolation formula\n",
    "    term1_numerator = xp - x[1]\n",
    "    term1_denominator = x[0] - x[1]\n",
    "    term1 = (term1_numerator / term1_denominator) * y[0]\n",
    "    print(f\"Step 3: Compute the first term:\")\n",
    "    print(f\"       (xp - x1) / (x0 - x1) * f0\")\n",
    "    print(f\"       = ({xp} - {x[1]}) / ({x[0]} - {x[1]}) * {y[0]}\")\n",
    "    print(f\"       = {term1}\")\n",
    "    \n",
    "    # Step 4: Compute the second term of the interpolation formula\n",
    "    term2_numerator = xp - x[0]\n",
    "    term2_denominator = x[1] - x[0]\n",
    "    term2 = (term2_numerator / term2_denominator) * y[1]\n",
    "    print(f\"Step 4: Compute the second term:\")\n",
    "    print(f\"       (xp - x0) / (x1 - x0) * f1\")\n",
    "    print(f\"       = ({xp} - {x[0]}) / ({x[1]} - {x[0]}) * {y[1]}\")\n",
    "    print(f\"       = {term2}\")\n",
    "    \n",
    "    # Step 5: Add the two terms to get the interpolated value p1(xp)\n",
    "    p1_x = term1 + term2\n",
    "    print(f\"Step 5: Add the two terms to get p1(xp):\")\n",
    "    print(f\"       p1(xp)\")\n",
    "    print(f\"       = {term1} + {term2}\")\n",
    "    print(f\"       = {p1_x}\")\n",
    "    \n",
    "    # Return the final interpolated value\n",
    "    return p1_x\n",
    "\n",
    "# Input values as lists for x and y\n",
    "x = [2, 4]\n",
    "y = [1.4142, 2]\n",
    "xp = 3\n",
    "\n",
    "# Perform the interpolation and print the result step-by-step\n",
    "interpolated_value = lagrange_linear_interpolation(x, y, xp)\n",
    "\n",
    "print(f\"\\nThe interpolated value at xp = {xp} is p1(xp) = {interpolated_value}\")\n"
   ],
   "metadata": {
    "collapsed": false,
    "ExecuteTime": {
     "end_time": "2024-09-20T15:39:27.325486Z",
     "start_time": "2024-09-20T15:39:27.321378Z"
    }
   },
   "id": "84e7f25ad9eaffe2"
  },
  {
   "cell_type": "markdown",
   "source": [
    "### Lagrange Quadratic Interpolation"
   ],
   "metadata": {
    "collapsed": false
   },
   "id": "6ed6fa1989e0945f"
  },
  {
   "cell_type": "code",
   "execution_count": 15,
   "outputs": [
    {
     "name": "stdout",
     "output_type": "stream",
     "text": [
      "Step 1: Define the known points (x0, f0) = (2, 9), (x1, f1) = (4, 15), (x2, f2) = (7, 20)\n",
      "Step 2: Define the point of interpolation xp = 5\n",
      "Step 3: Compute the first term:\n",
      "       (xp - x1) * (xp - x2) / (x0 - x1) * (x0 - x2) * f0\n",
      "       = (5 - 4) * (5 - 7) / (2 - 4) * (2 - 7) * 9\n",
      "       = -1.8\n",
      "Step 4: Compute the second term:\n",
      "       (xp - x0) * (xp - x2) / (x1 - x0) * (x1 - x2) * f1\n",
      "       = (5 - 2) * (5 - 7) / (4 - 2) * (4 - 7) * 15\n",
      "       = 15.0\n",
      "Step 5: Compute the third term:\n",
      "       (xp - x0) * (xp - x1) / (x2 - x0) * (x2 - x1) * f2\n",
      "       = (5 - 2) * (5 - 4) / (7 - 2) * (7 - 4) * 20\n",
      "       = 4.0\n",
      "Step 6: Add the three terms to get p2(xp):\n",
      "       p2(xp)\n",
      "       = -1.8 + 15.0 + 4.0\n",
      "       = 17.2\n",
      "\n",
      "The interpolated value at xp = 5 is p2(xp) = 17.2\n"
     ]
    }
   ],
   "source": [
    "# Function to compute Lagrange Quadratic Interpolation\n",
    "\n",
    "def lagrange_quadratic_interpolation(x, y, xp):\n",
    "    print(f\"Step 1: Define the known points (x0, f0) = ({x[0]}, {y[0]}), (x1, f1) = ({x[1]}, {y[1]}), (x2, f2) = ({x[2]}, {y[2]})\")\n",
    "    print(f\"Step 2: Define the point of interpolation xp = {xp}\")\n",
    "    \n",
    "    # Step 3: Compute the first term of the interpolation formula\n",
    "    term1_numerator = (xp - x[1]) * (xp - x[2])\n",
    "    term1_denominator = (x[0] - x[1]) * (x[0] - x[2])\n",
    "    term1 = (term1_numerator / term1_denominator) * y[0]\n",
    "    print(f\"Step 3: Compute the first term:\")\n",
    "    print(f\"       (xp - x1) * (xp - x2) / (x0 - x1) * (x0 - x2) * f0\")\n",
    "    print(f\"       = ({xp} - {x[1]}) * ({xp} - {x[2]}) / ({x[0]} - {x[1]}) * ({x[0]} - {x[2]}) * {y[0]}\")\n",
    "    print(f\"       = {term1}\")\n",
    "    \n",
    "    # Step 4: Compute the second term of the interpolation formula\n",
    "    term2_numerator = (xp - x[0]) * (xp - x[2])\n",
    "    term2_denominator = (x[1] - x[0]) * (x[1] - x[2])\n",
    "    term2 = (term2_numerator / term2_denominator) * y[1]\n",
    "    print(f\"Step 4: Compute the second term:\")\n",
    "    print(f\"       (xp - x0) * (xp - x2) / (x1 - x0) * (x1 - x2) * f1\")\n",
    "    print(f\"       = ({xp} - {x[0]}) * ({xp} - {x[2]}) / ({x[1]} - {x[0]}) * ({x[1]} - {x[2]}) * {y[1]}\")\n",
    "    print(f\"       = {term2}\")\n",
    "    \n",
    "    # Step 5: Compute the third term of the interpolation formula\n",
    "    term3_numerator = (xp - x[0]) * (xp - x[1])\n",
    "    term3_denominator = (x[2] - x[0]) * (x[2] - x[1])\n",
    "    term3 = (term3_numerator / term3_denominator) * y[2]\n",
    "    print(f\"Step 5: Compute the third term:\")\n",
    "    print(f\"       (xp - x0) * (xp - x1) / (x2 - x0) * (x2 - x1) * f2\")\n",
    "    print(f\"       = ({xp} - {x[0]}) * ({xp} - {x[1]}) / ({x[2]} - {x[0]}) * ({x[2]} - {x[1]}) * {y[2]}\")\n",
    "    print(f\"       = {term3}\")\n",
    "    \n",
    "    # Step 6: Add the three terms to get the interpolated value p2(xp)\n",
    "    p2_x = term1 + term2 + term3\n",
    "    print(f\"Step 6: Add the three terms to get p2(xp):\")\n",
    "    print(f\"       p2(xp)\")\n",
    "    print(f\"       = {term1} + {term2} + {term3}\")\n",
    "    print(f\"       = {p2_x}\")\n",
    "    \n",
    "    # Return the final interpolated value\n",
    "    return p2_x\n",
    "\n",
    "# Input values as lists for x and y\n",
    "x = [2, 4, 7]\n",
    "y = [9, 15, 20]\n",
    "xp = 5\n",
    "\n",
    "# Perform the interpolation and print the result step-by-step\n",
    "interpolated_value = lagrange_quadratic_interpolation(x, y, xp)\n",
    "\n",
    "print(f\"\\nThe interpolated value at xp = {xp} is p2(xp) = {interpolated_value}\")"
   ],
   "metadata": {
    "collapsed": false,
    "ExecuteTime": {
     "end_time": "2024-09-20T15:39:27.644431Z",
     "start_time": "2024-09-20T15:39:27.636340Z"
    }
   },
   "id": "f3fed92b3c3cc215"
  },
  {
   "cell_type": "markdown",
   "source": [
    "### Lagrange Polynomial Interpolation"
   ],
   "metadata": {
    "collapsed": false
   },
   "id": "9fb52a7cedd39688"
  },
  {
   "cell_type": "code",
   "execution_count": 16,
   "outputs": [
    {
     "name": "stdout",
     "output_type": "stream",
     "text": [
      "Step 1: Define the known points (x0, f0) = (2, 9), (x1, f1) = (4, 15), (x2, f2) = (7, 20), (x3, f3) = (10, 25)\n",
      "Step 2: Define the point of interpolation xp = 8\n",
      "Step 3: Compute the first term:\n",
      "       (xp - x1) * (xp - x2) * (xp - x3) / (x0 - x1) * (x0 - x2) * (x0 - x3) * f0\n",
      "       = (8 - 4) * (8 - 7) * (8 - 10) / (2 - 4) * (2 - 7) * (2 - 10) * 9\n",
      "       = 0.9\n",
      "Step 4: Compute the second term:\n",
      "       (xp - x0) * (xp - x2) * (xp - x3) / (x1 - x0) * (x1 - x2) * (x1 - x3) * f1\n",
      "       = (8 - 2) * (8 - 7) * (8 - 10) / (4 - 2) * (4 - 7) * (4 - 10) * 15\n",
      "       = -5.0\n",
      "Step 5: Compute the third term:\n",
      "       (xp - x0) * (xp - x1) * (xp - x3) / (x2 - x0) * (x2 - x1) * (x2 - x3) * f2\n",
      "       = (8 - 2) * (8 - 4) * (8 - 10) / (7 - 2) * (7 - 4) * (7 - 10) * 20\n",
      "       = 21.333333333333332\n",
      "Step 6: Compute the fourth term:\n",
      "       (xp - x0) * (xp - x1) * (xp - x2) / (x3 - x0) * (x3 - x1) * (x3 - x2) * f3\n",
      "       = (8 - 2) * (8 - 4) * (8 - 7) / (10 - 2) * (10 - 4) * (10 - 7) * 25\n",
      "       = 4.166666666666666\n",
      "Step 7: Add the four terms to get p3(xp):\n",
      "       p3(xp)\n",
      "       = 0.9 + -5.0 + 21.333333333333332 + 4.166666666666666\n",
      "       = 21.4\n",
      "\n",
      "The interpolated value at xp = 8 is p3(xp) = 21.4\n"
     ]
    }
   ],
   "source": [
    "# Function to compute Lagrange Polynomial Interpolation\n",
    "\n",
    "def lagrange_polynomial_interpolation(x, y, xp):\n",
    "    print(f\"Step 1: Define the known points (x0, f0) = ({x[0]}, {y[0]}), (x1, f1) = ({x[1]}, {y[1]}), (x2, f2) = ({x[2]}, {y[2]}), (x3, f3) = ({x[3]}, {y[3]})\")\n",
    "    print(f\"Step 2: Define the point of interpolation xp = {xp}\")\n",
    "    \n",
    "    # Step 3: Compute the first term of the interpolation formula\n",
    "    term1_numerator = (xp - x[1]) * (xp - x[2]) * (xp - x[3])\n",
    "    term1_denominator = (x[0] - x[1]) * (x[0] - x[2]) * (x[0] - x[3])\n",
    "    term1 = (term1_numerator / term1_denominator) * y[0]\n",
    "    print(f\"Step 3: Compute the first term:\")\n",
    "    print(f\"       (xp - x1) * (xp - x2) * (xp - x3) / (x0 - x1) * (x0 - x2) * (x0 - x3) * f0\")\n",
    "    print(f\"       = ({xp} - {x[1]}) * ({xp} - {x[2]}) * ({xp} - {x[3]}) / ({x[0]} - {x[1]}) * ({x[0]} - {x[2]}) * ({x[0]} - {x[3]}) * {y[0]}\")\n",
    "    print(f\"       = {term1}\")\n",
    "    \n",
    "    # Step 4: Compute the second term of the interpolation formula\n",
    "    term2_numerator = (xp - x[0]) * (xp - x[2]) * (xp - x[3])\n",
    "    term2_denominator = (x[1] - x[0]) * (x[1] - x[2]) * (x[1] - x[3])\n",
    "    term2 = (term2_numerator / term2_denominator) * y[1]\n",
    "    print(f\"Step 4: Compute the second term:\")\n",
    "    print(f\"       (xp - x0) * (xp - x2) * (xp - x3) / (x1 - x0) * (x1 - x2) * (x1 - x3) * f1\")\n",
    "    print(f\"       = ({xp} - {x[0]}) * ({xp} - {x[2]}) * ({xp} - {x[3]}) / ({x[1]} - {x[0]}) * ({x[1]} - {x[2]}) * ({x[1]} - {x[3]}) * {y[1]}\")\n",
    "    print(f\"       = {term2}\")\n",
    "    \n",
    "    # Step 5: Compute the third term of the interpolation formula\n",
    "    term3_numerator = (xp - x[0]) * (xp - x[1]) * (xp - x[3])\n",
    "    term3_denominator = (x[2] - x[0]) * (x[2] - x[1]) * (x[2] - x[3])\n",
    "    term3 = (term3_numerator / term3_denominator) * y[2]\n",
    "    print(f\"Step 5: Compute the third term:\")\n",
    "    print(f\"       (xp - x0) * (xp - x1) * (xp - x3) / (x2 - x0) * (x2 - x1) * (x2 - x3) * f2\")\n",
    "    print(f\"       = ({xp} - {x[0]}) * ({xp} - {x[1]}) * ({xp} - {x[3]}) / ({x[2]} - {x[0]}) * ({x[2]} - {x[1]}) * ({x[2]} - {x[3]}) * {y[2]}\")\n",
    "    print(f\"       = {term3}\")\n",
    "    \n",
    "    # Step 6: Compute the fourth term of the interpolation formula\n",
    "    term4_numerator = (xp - x[0]) * (xp - x[1]) * (xp - x[2])\n",
    "    term4_denominator = (x[3] - x[0]) * (x[3] - x[1]) * (x[3] - x[2])\n",
    "    term4 = (term4_numerator / term4_denominator) * y[3]\n",
    "    print(f\"Step 6: Compute the fourth term:\")\n",
    "    print(f\"       (xp - x0) * (xp - x1) * (xp - x2) / (x3 - x0) * (x3 - x1) * (x3 - x2) * f3\")\n",
    "    print(f\"       = ({xp} - {x[0]}) * ({xp} - {x[1]}) * ({xp} - {x[2]}) / ({x[3]} - {x[0]}) * ({x[3]} - {x[1]}) * ({x[3]} - {x[2]}) * {y[3]}\")\n",
    "    print(f\"       = {term4}\")\n",
    "    \n",
    "    # Step 7: Add the four terms to get the interpolated value p3(xp)\n",
    "    p3_x = term1 + term2 + term3 + term4\n",
    "    print(f\"Step 7: Add the four terms to get p3(xp):\")\n",
    "    print(f\"       p3(xp)\")\n",
    "    print(f\"       = {term1} + {term2} + {term3} + {term4}\")\n",
    "    print(f\"       = {p3_x}\")\n",
    "    \n",
    "    # Return the final interpolated value\n",
    "    return p3_x\n",
    "\n",
    "# Input values as lists for x and y\n",
    "x = [2, 4, 7, 10]\n",
    "y = [9, 15, 20, 25]\n",
    "xp = 8\n",
    "\n",
    "# Perform the interpolation and print the result step-by-step\n",
    "interpolated_value = lagrange_polynomial_interpolation(x, y, xp)\n",
    "\n",
    "print(f\"\\nThe interpolated value at xp = {xp} is p3(xp) = {interpolated_value}\")"
   ],
   "metadata": {
    "collapsed": false,
    "ExecuteTime": {
     "end_time": "2024-09-20T15:39:27.961275Z",
     "start_time": "2024-09-20T15:39:27.958305Z"
    }
   },
   "id": "6fc633d66ef79859"
  },
  {
   "cell_type": "markdown",
   "source": [
    "### Lagranges Inverse Interpolation"
   ],
   "metadata": {
    "collapsed": false
   },
   "id": "4339e5affbba52c6"
  },
  {
   "cell_type": "code",
   "execution_count": 17,
   "outputs": [
    {
     "name": "stdout",
     "output_type": "stream",
     "text": [
      "Step 1: Define the known points (x0, f0) = (0, 0), (x1, f1) = (0.5, 0.57)\n",
      "Step 2: Define the point of interpolation yp = 0.5\n",
      "Step 3: Compute the first term:\n",
      "       (yp - f1) / (f0 - f1) * x0\n",
      "       = (0.5 - 0.57) / (0 - 0.57) * 0\n",
      "       = 0.0\n",
      "Step 4: Compute the second term:\n",
      "       (yp - f0) / (f1 - f0) * x1\n",
      "       = (0.5 - 0) / (0.57 - 0) * 0.5\n",
      "       = 0.4385964912280702\n",
      "Step 5: Add the two terms to get p1(yp):\n",
      "       p1(yp)\n",
      "       = 0.0 + 0.4385964912280702\n",
      "       = 0.4385964912280702\n",
      "\n",
      "The interpolated value at yp = 0.5 is p1(yp) = 0.4385964912280702\n"
     ]
    }
   ],
   "source": [
    "# Function to compute Lagrange inverse interpolation\n",
    "\n",
    "def lagrange_inverse_interpolation(x, y, yp):\n",
    "    print(f\"Step 1: Define the known points (x0, f0) = ({x[0]}, {y[0]}), (x1, f1) = ({x[1]}, {y[1]})\")\n",
    "    print(f\"Step 2: Define the point of interpolation yp = {yp}\")\n",
    "    \n",
    "    # Step 3: Compute the first term of the interpolation formula\n",
    "    term1_numerator = yp - y[1]\n",
    "    term1_denominator = y[0] - y[1]\n",
    "    term1 = (term1_numerator / term1_denominator) * x[0]\n",
    "    print(f\"Step 3: Compute the first term:\")\n",
    "    print(f\"       (yp - f1) / (f0 - f1) * x0\")\n",
    "    print(f\"       = ({yp} - {y[1]}) / ({y[0]} - {y[1]}) * {x[0]}\")\n",
    "    print(f\"       = {term1}\")\n",
    "    \n",
    "    # Step 4: Compute the second term of the interpolation formula\n",
    "    term2_numerator = yp - y[0]\n",
    "    term2_denominator = y[1] - y[0]\n",
    "    term2 = (term2_numerator / term2_denominator) * x[1]\n",
    "    print(f\"Step 4: Compute the second term:\")\n",
    "    print(f\"       (yp - f0) / (f1 - f0) * x1\")\n",
    "    print(f\"       = ({yp} - {y[0]}) / ({y[1]} - {y[0]}) * {x[1]}\")\n",
    "    print(f\"       = {term2}\")\n",
    "    \n",
    "    # Step 5: Add the two terms to get the interpolated value p1(yp)\n",
    "    p1_y = term1 + term2\n",
    "    print(f\"Step 5: Add the two terms to get p1(yp):\")\n",
    "    print(f\"       p1(yp)\")\n",
    "    print(f\"       = {term1} + {term2}\")\n",
    "    print(f\"       = {p1_y}\")\n",
    "    \n",
    "    # Return the final interpolated value\n",
    "    return p1_y\n",
    "\n",
    "# Input values as lists for x and y\n",
    "x = [0, 0.5]\n",
    "y = [0, 0.57]\n",
    "yp = 0.5\n",
    "\n",
    "# Perform the interpolation and print the result step-by-step\n",
    "interpolated_value = lagrange_inverse_interpolation(x, y, yp)\n",
    "\n",
    "print(f\"\\nThe interpolated value at yp = {yp} is p1(yp) = {interpolated_value}\")"
   ],
   "metadata": {
    "collapsed": false,
    "ExecuteTime": {
     "end_time": "2024-09-20T15:39:28.282842Z",
     "start_time": "2024-09-20T15:39:28.278458Z"
    }
   },
   "id": "7f5e43ec4ca81f84"
  },
  {
   "cell_type": "markdown",
   "source": [
    "### Newton's Forward Difference Interpolation"
   ],
   "metadata": {
    "collapsed": false
   },
   "id": "81a5202427a86d95"
  },
  {
   "cell_type": "code",
   "execution_count": 18,
   "outputs": [
    {
     "name": "stdout",
     "output_type": "stream",
     "text": [
      "Step 1: Given values of x: [0, 0.001, 0.002, 0.003, 0.004, 0.005]\n",
      "Step 1: Corresponding values of f(x): [1.121, 1.123, 1.1255, 1.127, 1.128, 1.1285]\n",
      "\n",
      "Step 2: Forward Difference Table:\n",
      "     x        |      f(x)      |      Δ^1f      |      Δ^2f      |      Δ^3f      |      Δ^4f      |      Δ^5f    \n",
      "------------------------------------------------------------------------------------------------------------------\n",
      "    0.00      |     1.1210     |     0.0020     |     0.0005     |    -0.0015     |     0.0020     |    -0.0025   \n",
      "    0.00      |     1.1230     |     0.0025     |    -0.0010     |     0.0005     |    -0.0005     |              \n",
      "    0.00      |     1.1255     |     0.0015     |    -0.0005     |     0.0000     |                |              \n",
      "    0.00      |     1.1270     |     0.0010     |    -0.0005     |                |                |              \n",
      "    0.00      |     1.1280     |     0.0005     |                |                |                |              \n",
      "    0.01      |     1.1285     |                |                |                |                |              \n",
      "\n",
      "Step 3: Calculate the step size h = x1 - x0 = 0.001 - 0 = 0.001\n",
      "Step 4: Calculate p = (xp - x0) / h = (0.0045 - 0) / 0.001 = 4.5\n",
      "\n",
      "Step 5: Calculate interpolated value using Newton's formula:\n",
      "       P(x) = f0 + p Δf0 + p(p-1)/2! Δ²f0 + p(p-1)(p-2)/3! Δ³f0 + ...\n",
      "       Term 1: p Δ^1f0 / 1! = 0.009000000000000008\n",
      "       Term 2: (p - 0) * (p - 1) Δ^2f0 / 2! = 0.003937499999999566\n",
      "       Term 3: (p - 0) * (p - 1) * (p - 2) Δ^3f0 / 3! = -0.009843749999998916\n",
      "       Term 4: (p - 0) * (p - 1) * (p - 2) * (p - 3) Δ^4f0 / 4! = 0.0049218749999989115\n",
      "       Term 5: (p - 0) * (p - 1) * (p - 2) * (p - 3) * (p - 4) Δ^5f0 / 5! = -0.0006152343749997136\n",
      "\n",
      "The interpolated value at xp = 0.0045 is P(xp) = 1.1284003906249997\n"
     ]
    }
   ],
   "source": [
    "import math\n",
    "\n",
    "# Function to compute forward differences\n",
    "def compute_forward_differences(x, y):\n",
    "    n = len(x)\n",
    "    diff_table = [y[:]]  # Start with the given y values as the 0th difference\n",
    "    for i in range(1, n):\n",
    "        differences = [diff_table[i-1][j+1] - diff_table[i-1][j] for j in range(n-i)]\n",
    "        diff_table.append(differences)\n",
    "    return diff_table\n",
    "\n",
    "# Function to calculate factorial (for Newton's formula terms)\n",
    "def factorial(n):\n",
    "    return math.factorial(n)\n",
    "\n",
    "# Function to print the forward difference table with proper formatting\n",
    "def print_forward_difference_table(x, diff_table):\n",
    "    n = len(x)\n",
    "    \n",
    "    # Step 2: Prepare headers\n",
    "    headers = [\"x\", \"f(x)\"] + [f\"Δ^{i}f\" for i in range(1, n)]\n",
    "    header_line = \"  |  \".join(f\"{header:^12}\" for header in headers)\n",
    "    \n",
    "    # Print the header\n",
    "    print(f\"\\nStep 2: Forward Difference Table:\")\n",
    "    print(header_line)\n",
    "    print(\"-\" * len(header_line))\n",
    "    \n",
    "    # Print each row of the table\n",
    "    for i in range(n):\n",
    "        row = [f\"{x[i]:^12.2f}\"] + [f\"{diff_table[j][i]:^12.4f}\" if i < len(diff_table[j]) else \" \" * 12 for j in range(len(diff_table))]\n",
    "        print(\"  |  \".join(row))\n",
    "\n",
    "# Function for Newton's Forward Interpolation\n",
    "def newtons_forward_interpolation(x, y, xp):\n",
    "    print(f\"Step 1: Given values of x: {x}\")\n",
    "    print(f\"Step 1: Corresponding values of f(x): {y}\")\n",
    "    \n",
    "    # Compute the forward difference table\n",
    "    diff_table = compute_forward_differences(x, y)\n",
    "    \n",
    "    # Print the forward difference table with better formatting\n",
    "    print_forward_difference_table(x, diff_table)\n",
    "    \n",
    "    # Step 3: Calculate h (difference between x values)\n",
    "    h = x[1] - x[0]\n",
    "    print(f\"\\nStep 3: Calculate the step size h = x1 - x0 = {x[1]} - {x[0]} = {h}\")\n",
    "    \n",
    "    # Step 4: Calculate p = (xp - x0) / h\n",
    "    p = (xp - x[0]) / h\n",
    "    print(f\"Step 4: Calculate p = (xp - x0) / h = ({xp} - {x[0]}) / {h} = {p}\")\n",
    "    \n",
    "    # Step 5: Use Newton's Forward Interpolation formula\n",
    "    interpolation = diff_table[0][0]  # Start with f0\n",
    "    p_product = 1  # To hold the product of p terms\n",
    "    print(\"\\nStep 5: Calculate interpolated value using Newton's formula:\")\n",
    "    print(f\"       P(x) = f0 + p Δf0 + p(p-1)/2! Δ²f0 + p(p-1)(p-2)/3! Δ³f0 + ...\")\n",
    "    \n",
    "    # Print the complete expansion for each term\n",
    "    for i in range(1, len(diff_table)):\n",
    "        # Compute the product p(p-1)... for each term\n",
    "        p_product *= (p - (i - 1))  \n",
    "        term = (p_product * diff_table[i][0]) / factorial(i)  # Calculate each term\n",
    "        \n",
    "        # Display the step-by-step equation for each term\n",
    "        p_expansion = \" * \".join([f\"(p - {k})\" for k in range(i)]) if i > 1 else \"p\"\n",
    "        print(f\"       Term {i}: {p_expansion} Δ^{i}f0 / {i}! = {term}\")\n",
    "        \n",
    "        # Add the term to the total interpolation\n",
    "        interpolation += term\n",
    "    \n",
    "    # Return the interpolated value\n",
    "    return interpolation\n",
    "\n",
    "# Input values as lists for x and y\n",
    "x = [0, 0.001, 0.002, 0.003, 0.004, 0.005]\n",
    "y = [1.121, 1.123, 1.1255, 1.127, 1.128, 1.1285]\n",
    "xp = 0.0045\n",
    "\n",
    "# Perform the interpolation and print the result step-by-step\n",
    "interpolated_value = newtons_forward_interpolation(x, y, xp)\n",
    "\n",
    "print(f\"\\nThe interpolated value at xp = {xp} is P(xp) = {interpolated_value}\")\n"
   ],
   "metadata": {
    "collapsed": false,
    "ExecuteTime": {
     "end_time": "2024-09-20T15:39:28.579260Z",
     "start_time": "2024-09-20T15:39:28.575962Z"
    }
   },
   "id": "af7d11ad857919f4"
  },
  {
   "cell_type": "markdown",
   "source": [
    "### Newton's Divided Difference Interpolation"
   ],
   "metadata": {
    "collapsed": false
   },
   "id": "941a02159a28ec26"
  },
  {
   "cell_type": "code",
   "execution_count": 19,
   "outputs": [
    {
     "name": "stdout",
     "output_type": "stream",
     "text": [
      "Step 1: Given values of x: [0, 0.5, 1, 2]\n",
      "Step 1: Corresponding values of f(x): [1, 1.8987, 3.7183, 11.3891]\n",
      "\n",
      "Step 2: Divided Difference Table:\n",
      "     x        |      f(x)      |  f[x1, x2, ..., x2]  |  f[x1, x2, ..., x3]  |  f[x1, x2, ..., x4]\n",
      "--------------------------------------------------------------------------------------------------\n",
      "    0.00      |     1.0000     |     1.7974     |     1.8418     |     0.4230     |\n",
      "    0.50      |     1.8987     |     3.6392     |     2.6877     |                |\n",
      "    1.00      |     3.7183     |     7.6708     |                |                |\n",
      "    2.00      |    11.3891     |                |                |                |\n",
      "\n",
      "Step 5: Calculate interpolated value using Newton's Divided Difference formula:\n",
      "       P(x) = f0 + (xp - x0) f[x0, x1] + (xp - x0)(xp - x1) f[x0, x1, x2] + ...\n",
      "       Term 1: (xp - 0) * f[x0, x1, ..., x1] = 0.44935\n",
      "       Term 2: (xp - 0) * (xp - 0.5) * f[x0, x1, ..., x2] = -0.1151125\n",
      "       Term 3: (xp - 0) * (xp - 0.5) * (xp - 1) * f[x0, x1, ..., x3] = 0.01982656249999998\n",
      "\n",
      "The interpolated value at xp = 0.25 is P(xp) = 1.3540640625\n"
     ]
    }
   ],
   "source": [
    "# Function to compute divided differences\n",
    "def compute_divided_differences(x, y):\n",
    "    n = len(x)\n",
    "    divided_diff = [y[:]]  # Start with the given y values as the 0th divided difference\n",
    "    for i in range(1, n):\n",
    "        differences = [(divided_diff[i-1][j+1] - divided_diff[i-1][j]) / (x[j+i] - x[j]) for j in range(n-i)]\n",
    "        divided_diff.append(differences)\n",
    "    return divided_diff\n",
    "\n",
    "# Function to print the divided difference table with proper formatting\n",
    "def print_divided_difference_table(x, diff_table):\n",
    "    n = len(x)\n",
    "    \n",
    "    # Step 2: Prepare headers\n",
    "    headers = [\"x\", \"f(x)\"] + [f\"f[x{1}, x{2}, ..., x{i+1}]\" for i in range(1, n)]\n",
    "    header_line = \"  |  \".join(f\"{header:^12}\" for header in headers)\n",
    "    \n",
    "    # Print the header\n",
    "    print(f\"\\nStep 2: Divided Difference Table:\")\n",
    "    print(header_line)\n",
    "    print(\"-\" * len(header_line))\n",
    "    \n",
    "    # Print each row of the table\n",
    "    for i in range(n):\n",
    "        # Print the x value and f(x) first\n",
    "        row = [f\"{x[i]:^12.2f}\", f\"{diff_table[0][i]:^12.4f}\"]\n",
    "        \n",
    "        # Append divided differences, only if the value exists in the corresponding row\n",
    "        for j in range(1, n):\n",
    "            if i < len(diff_table[j]):\n",
    "                row.append(f\"{diff_table[j][i]:^12.4f}\")\n",
    "            else:\n",
    "                row.append(\" \" * 12)  # Empty spaces for missing values in the table\n",
    "        \n",
    "        print(\"  |  \".join(row) + \"  |\")\n",
    "        \n",
    "# Function for Newton's Divided Difference Interpolation\n",
    "def newtons_divided_difference_interpolation(x, y, xp):\n",
    "    print(f\"Step 1: Given values of x: {x}\")\n",
    "    print(f\"Step 1: Corresponding values of f(x): {y}\")\n",
    "    \n",
    "    # Compute the divided difference table\n",
    "    diff_table = compute_divided_differences(x, y)\n",
    "    \n",
    "    # Print the divided difference table with better formatting\n",
    "    print_divided_difference_table(x, diff_table)\n",
    "    \n",
    "    # Step 5: Use Newton's Divided Difference Interpolation formula\n",
    "    interpolation = diff_table[0][0]  # Start with f0\n",
    "    p_product = 1  # To hold the product of (xp - xi) terms\n",
    "    print(\"\\nStep 5: Calculate interpolated value using Newton's Divided Difference formula:\")\n",
    "    print(f\"       P(x) = f0 + (xp - x0) f[x0, x1] + (xp - x0)(xp - x1) f[x0, x1, x2] + ...\")\n",
    "    \n",
    "    # Print the complete expansion for each term\n",
    "    for i in range(1, len(diff_table)):\n",
    "        # Compute the product (xp - x0)(xp - x1)... for each term\n",
    "        p_product *= (xp - x[i - 1])  \n",
    "        term = p_product * diff_table[i][0]  # Calculate each term\n",
    "        \n",
    "        # Display the step-by-step equation for each term\n",
    "        p_expansion = \" * \".join([f\"(xp - {x[k]})\" for k in range(i)]) if i > 1 else f\"(xp - {x[0]})\"\n",
    "        print(f\"       Term {i}: {p_expansion} * f[x0, x1, ..., x{i}] = {term}\")\n",
    "        \n",
    "        # Add the term to the total interpolation\n",
    "        interpolation += term\n",
    "    \n",
    "    # Return the interpolated value\n",
    "    return interpolation\n",
    "\n",
    "# Input values as lists for x and y\n",
    "x = [0, 0.5, 1, 2]\n",
    "y = [1, 1.8987, 3.7183, 11.3891]\n",
    "xp = 0.25\n",
    "\n",
    "# Perform the interpolation and print the result step-by-step\n",
    "interpolated_value = newtons_divided_difference_interpolation(x, y, xp)\n",
    "\n",
    "print(f\"\\nThe interpolated value at xp = {xp} is P(xp) = {interpolated_value}\")\n"
   ],
   "metadata": {
    "collapsed": false,
    "ExecuteTime": {
     "end_time": "2024-09-20T15:39:28.895184Z",
     "start_time": "2024-09-20T15:39:28.891828Z"
    }
   },
   "id": "27d47b7a520326f0"
  },
  {
   "cell_type": "markdown",
   "source": [
    "### Spline Interpolation"
   ],
   "metadata": {
    "collapsed": false
   },
   "id": "9d1e2fcf280808e7"
  },
  {
   "cell_type": "code",
   "execution_count": 20,
   "outputs": [
    {
     "name": "stdout",
     "output_type": "stream",
     "text": [
      "Step 1: Given points (x1, f(x1)) = (2, 7) and (x2, f(x2)) = (4, 21)\n",
      "Step 2: Interpolating at x = 3\n",
      "\n",
      "Step 3: Applying the formula:\n",
      "       f(x) = f(x1) + (x - x1) * (f(x2) - f(x1)) / (x2 - x1)\n",
      "       f(x) = 7 + (3 - 2) * (21 - 7) / (4 - 2)\n",
      "       f(x) = 7 + (1) * (14) / (2)\n",
      "       f(x) = 7 + (14) / (2)\n",
      "       f(x) = 14.0\n",
      "\n",
      "The interpolated value at x = 3 is f(x) = 14.0\n"
     ]
    }
   ],
   "source": [
    "# Function to perform spline interpolation\n",
    "def linear_interpolation(x, f, xp):\n",
    "    print(f\"Step 1: Given points (x1, f(x1)) = ({x[0]}, {f[0]}) and (x2, f(x2)) = ({x[1]}, {f[1]})\")\n",
    "    print(f\"Step 2: Interpolating at x = {xp}\")\n",
    "\n",
    "    # Step 3: Apply the linear interpolation formula\n",
    "    f_x = f[0] + (xp - x[0]) * (f[1] - f[0]) / (x[1] - x[0])\n",
    "\n",
    "    # Step 4: Display each step of the formula calculation\n",
    "    print(f\"\\nStep 3: Applying the formula:\")\n",
    "    print(f\"       f(x) = f(x1) + (x - x1) * (f(x2) - f(x1)) / (x2 - x1)\")\n",
    "    print(f\"       f(x) = {f[0]} + ({xp} - {x[0]}) * ({f[1]} - {f[0]}) / ({x[1]} - {x[0]})\")\n",
    "    print(f\"       f(x) = {f[0]} + ({xp - x[0]}) * ({f[1] - f[0]}) / ({x[1] - x[0]})\")\n",
    "    print(f\"       f(x) = {f[0]} + ({(xp - x[0]) * (f[1] - f[0])}) / ({x[1] - x[0]})\")\n",
    "    print(f\"       f(x) = {f_x}\")\n",
    "\n",
    "    return f_x\n",
    "\n",
    "# Input values as lists for x and f\n",
    "x = [2, 4]  # List of x values\n",
    "f = [7, 21]  # List of corresponding f(x) values\n",
    "xp = 3    # The x value at which we want to interpolate\n",
    "\n",
    "# Perform linear interpolation step-by-step\n",
    "interpolated_value = linear_interpolation(x, f, xp)\n",
    "\n",
    "# Display the result\n",
    "print(f\"\\nThe interpolated value at x = {xp} is f(x) = {interpolated_value}\")\n"
   ],
   "metadata": {
    "collapsed": false,
    "ExecuteTime": {
     "end_time": "2024-09-20T15:39:29.204206Z",
     "start_time": "2024-09-20T15:39:29.199796Z"
    }
   },
   "id": "fb42ddb84838ba72"
  },
  {
   "cell_type": "markdown",
   "source": [
    "### Spline Quadratic Interpolation"
   ],
   "metadata": {
    "collapsed": false
   },
   "id": "7145e9f8cd86c5c1"
  },
  {
   "cell_type": "code",
   "execution_count": 21,
   "outputs": [
    {
     "name": "stdout",
     "output_type": "stream",
     "text": [
      "Step 1: Given points (x1, f(x1)) = (1, 3), (x2, f(x2)) = (2, 7), and (x3, f(x3)) = (3, 21)\n",
      "Step 2: Interpolating at x = 2.5\n",
      "\n",
      "Step 3: Applying the formula:\n",
      "       f(x) = f(x1) * (x - x2) * (x - x3) / ((x1 - x2) * (x1 - x3)) +\n",
      "              f(x2) * (x - x1) * (x - x3) / ((x2 - x1) * (x2 - x3)) +\n",
      "              f(x3) * (x - x1) * (x - x2) / ((x3 - x1) * (x3 - x2))\n",
      "       f(x) = 3 * (2.5 - 2) * (2.5 - 3) / ((1 - 2) * (1 - 3)) +\n",
      "              7 * (2.5 - 1) * (2.5 - 3) / ((2 - 1) * (2 - 3)) +\n",
      "              21 * (2.5 - 1) * (2.5 - 2) / ((3 - 1) * (3 - 2))\n",
      "       f(x) = 3 * (0.5) * (-0.5) / ((-1) * (-2)) +\n",
      "              7 * (1.5) * (-0.5) / ((1) * (-1)) +\n",
      "              21 * (1.5) * (0.5) / ((2) * (1))\n",
      "       f(x) = -0.375 +\n",
      "              5.25 +\n",
      "              7.875\n",
      "       f(x) = 12.75\n",
      "\n",
      "The interpolated value at x = 2.5 is f(x) = 12.75\n"
     ]
    }
   ],
   "source": [
    "# Function to perform spline quadratic interpolation\n",
    "\n",
    "def quadratic_interpolation(x, f, xp):\n",
    "    print(f\"Step 1: Given points (x1, f(x1)) = ({x[0]}, {f[0]}), (x2, f(x2)) = ({x[1]}, {f[1]}), and (x3, f(x3)) = ({x[2]}, {f[2]})\")\n",
    "    print(f\"Step 2: Interpolating at x = {xp}\")\n",
    "\n",
    "    # Step 3: Apply the quadratic interpolation formula\n",
    "    f_x = f[0] * (xp - x[1]) * (xp - x[2]) / ((x[0] - x[1]) * (x[0] - x[2])) + \\\n",
    "          f[1] * (xp - x[0]) * (xp - x[2]) / ((x[1] - x[0]) * (x[1] - x[2])) + \\\n",
    "          f[2] * (xp - x[0]) * (xp - x[1]) / ((x[2] - x[0]) * (x[2] - x[1]))\n",
    "\n",
    "    # Step 4: Display each step of the formula calculation\n",
    "    print(f\"\\nStep 3: Applying the formula:\")\n",
    "    print(f\"       f(x) = f(x1) * (x - x2) * (x - x3) / ((x1 - x2) * (x1 - x3)) +\")\n",
    "    print(f\"              f(x2) * (x - x1) * (x - x3) / ((x2 - x1) * (x2 - x3)) +\")\n",
    "    print(f\"              f(x3) * (x - x1) * (x - x2) / ((x3 - x1) * (x3 - x2))\")\n",
    "    print(f\"       f(x) = {f[0]} * ({xp} - {x[1]}) * ({xp} - {x[2]}) / (({x[0]} - {x[1]}) * ({x[0]} - {x[2]})) +\")\n",
    "    print(f\"              {f[1]} * ({xp} - {x[0]}) * ({xp} - {x[2]}) / (({x[1]} - {x[0]}) * ({x[1]} - {x[2]})) +\")\n",
    "    print(f\"              {f[2]} * ({xp} - {x[0]}) * ({xp} - {x[1]}) / (({x[2]} - {x[0]}) * ({x[2]} - {x[1]}))\")\n",
    "    print(f\"       f(x) = {f[0]} * ({xp - x[1]}) * ({xp - x[2]}) / (({x[0] - x[1]}) * ({x[0] - x[2]})) +\")\n",
    "    print(f\"              {f[1]} * ({xp - x[0]}) * ({xp - x[2]}) / (({x[1] - x[0]}) * ({x[1] - x[2]})) +\")\n",
    "    print(f\"              {f[2]} * ({xp - x[0]}) * ({xp - x[1]}) / (({x[2] - x[0]}) * ({x[2] - x[1]}))\")\n",
    "    print(f\"       f(x) = {f[0] * (xp - x[1]) * (xp - x[2]) / ((x[0] - x[1]) * (x[0] - x[2]))} +\")\n",
    "    print(f\"              {f[1] * (xp - x[0]) * (xp - x[2]) / ((x[1] - x[0]) * (x[1] - x[2]))} +\")\n",
    "    print(f\"              {f[2] * (xp - x[0]) * (xp - x[1]) / ((x[2] - x[0]) * (x[2] - x[1]))}\")\n",
    "    print(f\"       f(x) = {f_x}\")\n",
    "    \n",
    "    return f_x\n",
    "\n",
    "# Input values as lists for x and f\n",
    "x = [1, 2, 3]  # List of x values\n",
    "f = [3, 7, 21]  # List of corresponding f(x) values\n",
    "xp = 2.5    # The x value at which we\n",
    "\n",
    "# Perform quadratic interpolation step-by-step\n",
    "interpolated_value = quadratic_interpolation(x, f, xp)\n",
    "\n",
    "# Display the result\n",
    "print(f\"\\nThe interpolated value at x = {xp} is f(x) = {interpolated_value}\")"
   ],
   "metadata": {
    "collapsed": false,
    "ExecuteTime": {
     "end_time": "2024-09-20T15:39:29.564638Z",
     "start_time": "2024-09-20T15:39:29.541937Z"
    }
   },
   "id": "c205d146f1284d98"
  },
  {
   "cell_type": "code",
   "execution_count": 21,
   "outputs": [],
   "source": [],
   "metadata": {
    "collapsed": false,
    "ExecuteTime": {
     "end_time": "2024-09-20T15:39:29.732950Z",
     "start_time": "2024-09-20T15:39:29.701727Z"
    }
   },
   "id": "555112018e84a7d7"
  },
  {
   "cell_type": "code",
   "execution_count": 21,
   "outputs": [],
   "source": [],
   "metadata": {
    "collapsed": false,
    "ExecuteTime": {
     "end_time": "2024-09-20T15:39:29.878685Z",
     "start_time": "2024-09-20T15:39:29.850403Z"
    }
   },
   "id": "9ba185caadd13ce9"
  },
  {
   "cell_type": "code",
   "execution_count": 21,
   "outputs": [],
   "source": [],
   "metadata": {
    "collapsed": false,
    "ExecuteTime": {
     "end_time": "2024-09-20T15:39:30.027007Z",
     "start_time": "2024-09-20T15:39:30.000514Z"
    }
   },
   "id": "518adc068e4ab8ab"
  },
  {
   "cell_type": "code",
   "execution_count": 21,
   "outputs": [],
   "source": [],
   "metadata": {
    "collapsed": false,
    "ExecuteTime": {
     "end_time": "2024-09-20T15:39:30.186038Z",
     "start_time": "2024-09-20T15:39:30.156936Z"
    }
   },
   "id": "c32bcc6c105841ca"
  },
  {
   "cell_type": "code",
   "execution_count": null,
   "outputs": [],
   "source": [],
   "metadata": {
    "collapsed": false
   },
   "id": "4994fe7788f5882e"
  }
 ],
 "metadata": {
  "kernelspec": {
   "display_name": "Python 3",
   "language": "python",
   "name": "python3"
  },
  "language_info": {
   "codemirror_mode": {
    "name": "ipython",
    "version": 2
   },
   "file_extension": ".py",
   "mimetype": "text/x-python",
   "name": "python",
   "nbconvert_exporter": "python",
   "pygments_lexer": "ipython2",
   "version": "2.7.6"
  }
 },
 "nbformat": 4,
 "nbformat_minor": 5
}
