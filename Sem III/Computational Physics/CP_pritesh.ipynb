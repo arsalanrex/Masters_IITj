{
 "nbformat": 4,
 "nbformat_minor": 0,
 "metadata": {
  "colab": {
   "provenance": [],
   "collapsed_sections": [
    "hSsDzsgu_dAO"
   ]
  },
  "kernelspec": {
   "name": "python3",
   "language": "python",
   "display_name": "Python 3 (ipykernel)"
  },
  "language_info": {
   "name": "python"
  }
 },
 "cells": [
  {
   "cell_type": "markdown",
   "source": [
    "# **Bisection Method**"
   ],
   "metadata": {
    "id": "hSsDzsgu_dAO"
   }
  },
  {
   "cell_type": "code",
   "execution_count": 5,
   "metadata": {
    "colab": {
     "base_uri": "https://localhost:8080/"
    },
    "id": "9xArNnLuw_oK",
    "outputId": "f0fde80b-e913-42a7-c05f-ac132283abb1",
    "ExecuteTime": {
     "end_time": "2024-09-21T05:11:54.982156Z",
     "start_time": "2024-09-21T05:11:54.946266Z"
    }
   },
   "outputs": [
    {
     "name": "stdout",
     "output_type": "stream",
     "text": [
      "Find a root of the equation 3*x**2 + 9*x + 2 between -2 and -3, using Bisection method\n",
      "\n",
      "Solution:\n",
      "Here 3*x**2 + 9*x + 2 = 0\n",
      "Let f(x) = 3*x**2 + 9*x + 2\n",
      "\n",
      "1st iteration :\n",
      "Here f(-2) = -4.0000 < 0 and f(-3) = 2.0000 > 0\n",
      "∴ Now, Root lies between -2 and -3\n",
      "x0 = (-2 + -3) / 2 = -2.5000\n",
      "f(x0) = f(-2.5000) = -1.7500 < 0\n",
      "\n",
      "2nd iteration :\n",
      "Here f(-2.5) = -1.7500 < 0 and f(-3) = 2.0000 > 0\n",
      "∴ Now, Root lies between -2.5 and -3\n",
      "x1 = (-2.5 + -3) / 2 = -2.7500\n",
      "f(x1) = f(-2.7500) = -0.0625 < 0\n",
      "\n",
      "3rd iteration :\n",
      "Here f(-2.75) = -0.0625 < 0 and f(-3) = 2.0000 > 0\n",
      "∴ Now, Root lies between -2.75 and -3\n",
      "x2 = (-2.75 + -3) / 2 = -2.8750\n",
      "f(x2) = f(-2.8750) = 0.9219 > 0\n",
      "\n",
      "4th iteration :\n",
      "Here f(-2.75) = -0.0625 < 0 and f(-2.875) = 0.9219 > 0\n",
      "∴ Now, Root lies between -2.75 and -2.875\n",
      "x3 = (-2.75 + -2.875) / 2 = -2.8125\n",
      "f(x3) = f(-2.8125) = 0.4180 > 0\n",
      "\n",
      "Approximate solution after 4 iterations: x = -2.8125\n",
      "\n",
      "Final approximation: x ≈ -2.8125\n",
      "f(x) at approximation: 0.41796875\n"
     ]
    }
   ],
   "source": [
    "import sympy as sp\n",
    "\n",
    "# Function to convert human-readable equation to SymPy equation\n",
    "def parse_equation(equation_str):\n",
    "    # Create a dictionary to map human-readable terms to SymPy functions\n",
    "    equation_str = equation_str.replace('^', '**')  # Replace ^ with **\n",
    "    equation_str = equation_str.replace('ln', 'log')  # Replace ln with log\n",
    "    return sp.sympify(equation_str)\n",
    "\n",
    "# Bisection method to find the root\n",
    "def bisection_method(eq, a, b, iterations):\n",
    "    print(f\"Find a root of the equation {eq} between {a} and {b}, using Bisection method\")\n",
    "    print(\"\\nSolution:\")\n",
    "    print(f\"Here {eq} = 0\\nLet f(x) = {eq}\\n\")\n",
    "\n",
    "    x = sp.Symbol('x')  # Define the variable\n",
    "    f = sp.lambdify(x, eq)  # Convert the symbolic equation to a function for numerical evaluation\n",
    "\n",
    "    for i in range(iterations):\n",
    "        fa = f(a)\n",
    "        fb = f(b)\n",
    "\n",
    "        if i == 0:\n",
    "            print(f\"{i+1}st iteration :\")\n",
    "        elif i == 1:\n",
    "            print(f\"{i+1}nd iteration :\")\n",
    "        elif i == 2:\n",
    "            print(f\"{i+1}rd iteration :\")\n",
    "        else:\n",
    "            print(f\"{i+1}th iteration :\")\n",
    "\n",
    "        print(f\"Here f({a}) = {fa:.4f} {'>' if fa > 0 else '<'} 0 and f({b}) = {fb:.4f} {'>' if fb > 0 else '<'} 0\")\n",
    "\n",
    "        if fa * fb > 0:\n",
    "            print(\"Error: The function must have opposite signs at a and b.\")\n",
    "            return None\n",
    "\n",
    "        # Midpoint\n",
    "        c = (a + b) / 2\n",
    "        fc = f(c)\n",
    "        print(f\"∴ Now, Root lies between {a} and {b}\")\n",
    "        print(f\"x{i} = ({a} + {b}) / 2 = {c:.4f}\")\n",
    "\n",
    "        print(f\"f(x{i}) = f({c:.4f}) = {fc:.4f} {'>' if fc > 0 else '<'} 0\\n\")\n",
    "\n",
    "        # Narrow down the interval\n",
    "        if fa * fc < 0:\n",
    "            b = c\n",
    "        else:\n",
    "            a = c\n",
    "\n",
    "    print(f\"Approximate solution after {iterations} iterations: x = {c:.4f}\")\n",
    "    return c\n",
    "\n",
    "# Input: human-readable equation\n",
    "equation_input = \"3*x^2+9*x+2\" #\"exp(-x) - 3*log(x)\"  # Example of user input\n",
    "\n",
    "# Convert to SymPy equation\n",
    "x = sp.Symbol('x')\n",
    "eq = parse_equation(equation_input)\n",
    "\n",
    "# Define the parameters for Bisection\n",
    "a = -2#0.5  # Lower bound\n",
    "b = -3#1.5  # Upper bound\n",
    "iterations = 4  # Number of iterations\n",
    "\n",
    "# Solve the equation using the Bisection method\n",
    "result = bisection_method(eq, a, b, iterations)\n",
    "\n",
    "if result is not None:\n",
    "    f = sp.lambdify(x, eq)\n",
    "    print(f\"\\nFinal approximation: x ≈ {result}\")\n",
    "    print(f\"f(x) at approximation: {f(result)}\")\n"
   ]
  },
  {
   "cell_type": "markdown",
   "source": [
    "# **Newton Raphson**"
   ],
   "metadata": {
    "id": "RlxMsrE3_kyW"
   }
  },
  {
   "cell_type": "code",
   "source": [
    "import sympy as sp\n",
    "\n",
    "def newton_raphson_method(eq_str, x0, max_iterations, tolerance=1e-6):\n",
    "    print(f\"Find a root of an equation f(x)={eq_str} = 0 initial solution x0={x0}, using Newton Raphson method\\n\")\n",
    "    print(f\"Solution:\")\n",
    "\n",
    "    x = sp.Symbol('x')  # Define the variable\n",
    "    eq = sp.sympify(eq_str)  # Convert string equation to sympy expression\n",
    "    f = sp.lambdify(x, eq)  # Convert the symbolic equation to a function for numerical evaluation\n",
    "    f_prime = sp.lambdify(x, sp.diff(eq, x))  # Derivative of the equation\n",
    "\n",
    "    print(f\"Here {eq} = 0\")\n",
    "    print(f\"Let f(x) = {eq}\\n\")\n",
    "\n",
    "    # Print the derivative of the function\n",
    "    derivative = sp.diff(eq, x)\n",
    "    print(f\"d/dx ({eq}) = {derivative}\\n\")\n",
    "    print(f\"∴ f'(x) = {derivative}\\n\")\n",
    "\n",
    "    print(f\"x0 = {x0}\\n\")\n",
    "\n",
    "    results = []  # To store iteration results for the table\n",
    "\n",
    "    for iteration in range(max_iterations):\n",
    "        f_x0 = f(x0)\n",
    "        f_prime_x0 = f_prime(x0)\n",
    "\n",
    "        # Print current iteration\n",
    "        print(f\"{iteration + 1}st iteration:\" if iteration == 0 else f\"{iteration + 1}th iteration:\")\n",
    "        print(f\"f(x0) = f({x0}) = {f_x0:.4f}\")\n",
    "        print(f\"f'(x0) = f'({x0}) = {f_prime_x0:.4f}\")\n",
    "\n",
    "        if f_prime_x0 == 0:\n",
    "            print(\"Error: Derivative is zero. No solution found.\")\n",
    "            return None\n",
    "\n",
    "        # Calculate x1\n",
    "        x1 = x0 - f_x0 / f_prime_x0\n",
    "        print(f\"x1 = x0 - f(x0) / f'(x0) = {x0:.4f} - {f_x0:.4f} / {f_prime_x0:.4f}\")\n",
    "        print(f\"x1 = {x1:.4f}\\n\")\n",
    "\n",
    "        # Store results for the table\n",
    "        results.append((iteration + 1, x0, f_x0, f_prime_x0, x1))\n",
    "\n",
    "        # Check for convergence\n",
    "        if abs(f_x0) <= tolerance:\n",
    "            break\n",
    "\n",
    "        x0 = x1\n",
    "\n",
    "    print(f\"Approximate root of the equation {eq} = 0 using Newton Raphson method is {x1:.4f} (After {len(results)} iterations)\\n\")\n",
    "\n",
    "    # Print the results table\n",
    "    print(\"n\\tx0\\t\\tf(x0)\\t\\tf'(x0)\\tx1\\t\\tUpdate\")\n",
    "    for res in results:\n",
    "        n, x0_val, f_x0_val, f_prime_x0_val, x1_val = res\n",
    "        print(f\"{n}\\t{format(x0_val, '.4f')}\\t{format(f_x0_val, '.4f')}\\t{format(f_prime_x0_val, '.4f')}\\t{format(x1_val, '.4f')}\\tx0=x1\")\n",
    "\n",
    "    return x1\n",
    "\n",
    "# Example usage\n",
    "if __name__ == \"__main__\":\n",
    "    # Define the equation and initial guess\n",
    "    equation = \"x**3 - 2*x - 5\"  # Example equation\n",
    "    initial_guess = 2  # Initial solution\n",
    "    max_next_iterations=3\n",
    "\n",
    "    # Solve the equation using the Newton-Raphson method\n",
    "    result = newton_raphson_method(equation, initial_guess,max_next_iterations)\n",
    "\n",
    "    if result is not None:\n",
    "        print(f\"Final approximation: x ≈ {result:.4f}\")\n",
    "        print(f\"f(x) at approximation: {sp.lambdify(sp.Symbol('x'), sp.sympify(equation))(result)}\")\n"
   ],
   "metadata": {
    "colab": {
     "base_uri": "https://localhost:8080/"
    },
    "id": "ALpJ8K00_omW",
    "outputId": "0549e871-0b1b-41ba-90ba-64b205ab9ae8"
   },
   "execution_count": 39,
   "outputs": [
    {
     "output_type": "stream",
     "name": "stdout",
     "text": [
      "Find a root of an equation f(x)=x**3 - 2*x - 5 = 0 initial solution x0=2, using Newton Raphson method\n",
      "\n",
      "Solution:\n",
      "Here x**3 - 2*x - 5 = 0\n",
      "Let f(x) = x**3 - 2*x - 5\n",
      "\n",
      "d/dx (x**3 - 2*x - 5) = 3*x**2 - 2\n",
      "\n",
      "∴ f'(x) = 3*x**2 - 2\n",
      "\n",
      "x0 = 2\n",
      "\n",
      "1st iteration:\n",
      "f(x0) = f(2) = -1.0000\n",
      "f'(x0) = f'(2) = 10.0000\n",
      "x1 = x0 - f(x0) / f'(x0) = 2.0000 - -1.0000 / 10.0000\n",
      "x1 = 2.1000\n",
      "\n",
      "2th iteration:\n",
      "f(x0) = f(2.1) = 0.0610\n",
      "f'(x0) = f'(2.1) = 11.2300\n",
      "x1 = x0 - f(x0) / f'(x0) = 2.1000 - 0.0610 / 11.2300\n",
      "x1 = 2.0946\n",
      "\n",
      "3th iteration:\n",
      "f(x0) = f(2.094568121104185) = 0.0002\n",
      "f'(x0) = f'(2.094568121104185) = 11.1616\n",
      "x1 = x0 - f(x0) / f'(x0) = 2.0946 - 0.0002 / 11.1616\n",
      "x1 = 2.0946\n",
      "\n",
      "Approximate root of the equation x**3 - 2*x - 5 = 0 using Newton Raphson method is 2.0946 (After 3 iterations)\n",
      "\n",
      "n\tx0\t\tf(x0)\t\tf'(x0)\tx1\t\tUpdate\n",
      "1\t2.0000\t-1.0000\t10.0000\t2.1000\tx0=x1\n",
      "2\t2.1000\t0.0610\t11.2300\t2.0946\tx0=x1\n",
      "3\t2.0946\t0.0002\t11.1616\t2.0946\tx0=x1\n",
      "Final approximation: x ≈ 2.0946\n",
      "f(x) at approximation: 1.7397612239733462e-09\n"
     ]
    }
   ]
  },
  {
   "cell_type": "markdown",
   "source": [
    "# **Secant Method**"
   ],
   "metadata": {
    "id": "zk7e69gWFuUm"
   }
  },
  {
   "cell_type": "code",
   "source": [],
   "metadata": {
    "id": "0Pb5E-MxF5k_"
   },
   "execution_count": null,
   "outputs": []
  }
 ]
}
