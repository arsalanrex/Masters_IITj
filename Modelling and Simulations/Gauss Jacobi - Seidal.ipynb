{
 "cells": [
  {
   "cell_type": "code",
   "execution_count": 1,
   "outputs": [
    {
     "name": "stdout",
     "output_type": "stream",
     "text": [
      "\n",
      "Gauss-Jacobi:\n",
      "Solution: [0.566, 0.9057, 0.6226]\n",
      "Iterations: 16\n"
     ]
    }
   ],
   "source": [
    "# Gauss Jacobi\n",
    "\n",
    "import numpy as np \n",
    "\n",
    "def gauss_jacobi(A, b, x0, tol = 1e-6, max_iter=1000):\n",
    "    n = len(b)\n",
    "    x = x0.copy()\n",
    "    x_prev = np.zeros_like(x)\n",
    "    \n",
    "    for k in range(max_iter) : \n",
    "        for i in range(n):\n",
    "            x_prev[i] = x[i]\n",
    "            sigma = 0\n",
    "            for j in range(n):\n",
    "                if j != i:\n",
    "                    sigma += A[i, j] * x_prev[j]\n",
    "            x[i] = (b[i] - sigma) / A[i, i]\n",
    "        \n",
    "        if np.linalg.norm(x - x_prev, 2) < tol:\n",
    "            return x, k + 1\n",
    "    return x, max_iter\n",
    "\n",
    "A = np.array([[10, -1, 2], \n",
    "              [1, 10, -1], \n",
    "              [-2, 1, 10]], dtype=float)\n",
    "b = np.array([6, 9, 6],  dtype=float)\n",
    "x0 = np.zeros_like(b)\n",
    "\n",
    "result_jacobi, iterations_jacobi = gauss_jacobi(A, b, x0)\n",
    "print(\"\\nGauss-Jacobi:\")\n",
    "print (\"Solution:\", [round(num, 4) for num in result_jacobi])\n",
    "print (\"Iterations:\", iterations_jacobi)\n"
   ],
   "metadata": {
    "collapsed": false,
    "ExecuteTime": {
     "end_time": "2024-03-21T06:22:43.210900Z",
     "start_time": "2024-03-21T06:22:43.121438Z"
    }
   },
   "id": "7e5cb6c4d713267c"
  },
  {
   "cell_type": "code",
   "execution_count": 2,
   "outputs": [
    {
     "name": "stdout",
     "output_type": "stream",
     "text": [
      "    itr      x1      x2      x3\n",
      "0     1  0.6000  0.9000  0.6000\n",
      "1     2  0.6000  0.8400  0.6300\n",
      "2     3  0.5700  0.9000  0.6360\n",
      "3     4  0.5580  0.9060  0.6240\n",
      "4     5  0.5628  0.9078  0.6210\n",
      "5     6  0.5658  0.9061  0.6218\n",
      "6     7  0.5666  0.9055  0.6225\n",
      "7     8  0.5663  0.9055  0.6228\n",
      "8     9  0.5660  0.9056  0.6227\n",
      "9    10  0.5660  0.9057  0.6226\n",
      "10   11  0.5660  0.9057  0.6226\n",
      "11   12  0.5660  0.9057  0.6226\n",
      "12   13  0.5660  0.9057  0.6226\n",
      "13   14  0.5660  0.9057  0.6226\n",
      "14   15  0.5660  0.9057  0.6226\n",
      "15   16  0.5660  0.9057  0.6226\n"
     ]
    }
   ],
   "source": [
    "# stepwise implementation\n",
    "\n",
    "import numpy as np\n",
    "import pandas as pd\n",
    "\n",
    "def gauss_jacobi(A, b, x0, tol=1e-6, max_iter=1000):\n",
    "    n = len(b)\n",
    "    x = x0.copy()\n",
    "    x_prev = np.zeros_like(x)\n",
    "    \n",
    "    iterations_data = []\n",
    "    \n",
    "    for k in range(max_iter):\n",
    "        iteration_values = {\"itr\": k + 1}\n",
    "        for i in range(n):\n",
    "            x_prev[i] = x[i]\n",
    "            sigma = 0\n",
    "            for j in range(n):\n",
    "                if j != i:\n",
    "                    sigma += A[i, j] * x_prev[j]\n",
    "            x[i] = (b[i] - sigma) / A[i, i]\n",
    "            iteration_values[f\"x{i+1}\"] = round(x[i], 4)\n",
    "        iterations_data.append(iteration_values)\n",
    "        \n",
    "        if np.linalg.norm(x - x_prev, 2) < tol:\n",
    "            break\n",
    "    \n",
    "    df = pd.DataFrame(iterations_data)\n",
    "    return df\n",
    "\n",
    "A = np.array([[10, -1, 2], \n",
    "              [1, 10, -1], \n",
    "              [-2, 1, 10]], dtype=float)\n",
    "b = np.array([6, 9, 6], dtype=float)\n",
    "x0 = np.zeros_like(b)\n",
    "\n",
    "iterations_df = gauss_jacobi(A, b, x0)\n",
    "print(iterations_df)\n"
   ],
   "metadata": {
    "collapsed": false,
    "ExecuteTime": {
     "end_time": "2024-03-21T06:39:08.887659Z",
     "start_time": "2024-03-21T06:39:08.655809Z"
    }
   },
   "id": "8e1ea4e89a8d16a3"
  },
  {
   "cell_type": "code",
   "execution_count": 2,
   "outputs": [
    {
     "name": "stdout",
     "output_type": "stream",
     "text": [
      "\n",
      "Gauss-Seidel:\n",
      "Solution: [0.566, 0.9057, 0.6226]\n",
      "Iterations: 7\n"
     ]
    }
   ],
   "source": [
    "# Gauss Seidal\n",
    "\n",
    "import numpy as np \n",
    "\n",
    "def gauss_seidel(A, b, x0, tol = 1e-6, max_iter=1000):\n",
    "    n = len(b)\n",
    "    x = x0.copy()\n",
    "    for k in range(max_iter) : \n",
    "        for i in range(n):\n",
    "            sigma = 0\n",
    "            for j in range(n):\n",
    "                if j != i:\n",
    "                    sigma += A[i, j] * x[j]\n",
    "            x[i] = (b[i] - sigma) / A[i, i]\n",
    "        if np.linalg.norm(np.dot(A, x) - b, 2) < tol:\n",
    "            return x, k + 1\n",
    "    return x, max_iter\n",
    "\n",
    "A = np.array([[10, -1, 2], \n",
    "              [1, 10, -1], \n",
    "              [-2, 1, 10]], dtype=float)\n",
    "b = np.array([6, 9, 6],  dtype=float)\n",
    "x0 = np.zeros_like(b)\n",
    "\n",
    "result_seidel, iterations_seidel = gauss_seidel(A, b, x0)\n",
    "print(\"\\nGauss-Seidel:\")\n",
    "print (\"Solution:\", [round(num, 4) for num in result_seidel])\n",
    "print (\"Iterations:\", iterations_seidel)"
   ],
   "metadata": {
    "collapsed": false,
    "ExecuteTime": {
     "end_time": "2024-03-21T06:22:45.311452Z",
     "start_time": "2024-03-21T06:22:45.304792Z"
    }
   },
   "id": "dca3aae86546206c"
  },
  {
   "cell_type": "code",
   "execution_count": 3,
   "outputs": [
    {
     "name": "stdout",
     "output_type": "stream",
     "text": [
      "   itr      x1      x2      x3\n",
      "0    1  0.6000  0.8400  0.6360\n",
      "1    2  0.5568  0.9079  0.6206\n",
      "2    3  0.5667  0.9054  0.6228\n",
      "3    4  0.5660  0.9057  0.6226\n",
      "4    5  0.5660  0.9057  0.6226\n",
      "5    6  0.5660  0.9057  0.6226\n",
      "6    7  0.5660  0.9057  0.6226\n"
     ]
    }
   ],
   "source": [
    "# stepwise implementation\n",
    "\n",
    "import numpy as np\n",
    "import pandas as pd\n",
    "\n",
    "def gauss_seidel(A, b, x0, tol=1e-6, max_iter=1000):\n",
    "    n = len(b)\n",
    "    x = x0.copy()\n",
    "    \n",
    "    iterations_data = []\n",
    "    \n",
    "    for k in range(max_iter):\n",
    "        iteration_values = {\"itr\": k + 1}\n",
    "        for i in range(n):\n",
    "            sigma = 0\n",
    "            for j in range(n):\n",
    "                if j != i:\n",
    "                    sigma += A[i, j] * x[j]\n",
    "            x[i] = (b[i] - sigma) / A[i, i]\n",
    "            iteration_values[f\"x{i+1}\"] = round(x[i], 4)\n",
    "        iterations_data.append(iteration_values)\n",
    "        \n",
    "        if np.linalg.norm(np.dot(A, x) - b, 2) < tol:\n",
    "            break\n",
    "    \n",
    "    df = pd.DataFrame(iterations_data)\n",
    "    return df\n",
    "\n",
    "A = np.array([[10, -1, 2], \n",
    "              [1, 10, -1], \n",
    "              [-2, 1, 10]], dtype=float)\n",
    "b = np.array([6, 9, 6], dtype=float)\n",
    "x0 = np.zeros_like(b)\n",
    "\n",
    "iterations_df = gauss_seidel(A, b, x0)\n",
    "print(iterations_df)\n"
   ],
   "metadata": {
    "collapsed": false,
    "ExecuteTime": {
     "end_time": "2024-03-21T06:40:49.115119Z",
     "start_time": "2024-03-21T06:40:49.105578Z"
    }
   },
   "id": "865a6d7006d1cae2"
  },
  {
   "cell_type": "code",
   "execution_count": 3,
   "outputs": [
    {
     "name": "stdout",
     "output_type": "stream",
     "text": [
      "\n",
      "Gauss-Jacobi:\n",
      "Solution: [0.566, 0.9057, 0.6226]\n",
      "Iterations: 16\n",
      "\n",
      "Gauss-Seidel:\n",
      "Solution: [0.566, 0.9057, 0.6226]\n",
      "Iterations: 7\n"
     ]
    }
   ],
   "source": [
    "# Both\n",
    "\n",
    "import numpy as np \n",
    "\n",
    "def gauss_jacobi(A, b, x0, tol = 1e-6, max_iter=1000):\n",
    "    n = len(b)\n",
    "    x = x0.copy()\n",
    "    x_prev = np.zeros_like(x)\n",
    "    \n",
    "    for k in range(max_iter) : \n",
    "        for i in range(n):\n",
    "            x_prev[i] = x[i]\n",
    "            sigma = 0\n",
    "            for j in range(n):\n",
    "                if j != i:\n",
    "                    sigma += A[i, j] * x_prev[j]\n",
    "            x[i] = (b[i] - sigma) / A[i, i]\n",
    "        \n",
    "        if np.linalg.norm(x - x_prev, 2) < tol:\n",
    "            return x, k + 1\n",
    "    return x, max_iter\n",
    "\n",
    "def gauss_seidel(A, b, x0, tol = 1e-6, max_iter=1000):\n",
    "    n = len(b)\n",
    "    x = x0.copy()\n",
    "    for k in range(max_iter) : \n",
    "        for i in range(n):\n",
    "            sigma = 0\n",
    "            for j in range(n):\n",
    "                if j != i:\n",
    "                    sigma += A[i, j] * x[j]\n",
    "            x[i] = (b[i] - sigma) / A[i, i]\n",
    "        if np.linalg.norm(np.dot(A, x) - b, 2) < tol:\n",
    "            return x, k + 1\n",
    "    return x, max_iter\n",
    "\n",
    "A = np.array([[10, -1, 2], \n",
    "              [1, 10, -1], \n",
    "              [-2, 1, 10]], dtype=float)\n",
    "b = np.array([6, 9, 6],  dtype=float)\n",
    "x0 = np.zeros_like(b)\n",
    "\n",
    "result_jacobi, iterations_jacobi = gauss_jacobi(A, b, x0)\n",
    "print(\"\\nGauss-Jacobi:\")\n",
    "print (\"Solution:\", [round(num, 4) for num in result_jacobi])\n",
    "print (\"Iterations:\", iterations_jacobi)\n",
    "\n",
    "result_seidel, iterations_seidel = gauss_seidel(A, b, x0)\n",
    "print(\"\\nGauss-Seidel:\")\n",
    "print (\"Solution:\", [round(num, 4) for num in result_seidel])\n",
    "print (\"Iterations:\", iterations_seidel)"
   ],
   "metadata": {
    "collapsed": false,
    "ExecuteTime": {
     "end_time": "2024-03-21T06:22:47.658723Z",
     "start_time": "2024-03-21T06:22:47.633710Z"
    }
   },
   "id": "initial_id"
  },
  {
   "cell_type": "code",
   "execution_count": null,
   "outputs": [],
   "source": [],
   "metadata": {
    "collapsed": false
   },
   "id": "52a64b79df749317"
  }
 ],
 "metadata": {
  "kernelspec": {
   "display_name": "Python 3",
   "language": "python",
   "name": "python3"
  },
  "language_info": {
   "codemirror_mode": {
    "name": "ipython",
    "version": 2
   },
   "file_extension": ".py",
   "mimetype": "text/x-python",
   "name": "python",
   "nbconvert_exporter": "python",
   "pygments_lexer": "ipython2",
   "version": "2.7.6"
  }
 },
 "nbformat": 4,
 "nbformat_minor": 5
}
