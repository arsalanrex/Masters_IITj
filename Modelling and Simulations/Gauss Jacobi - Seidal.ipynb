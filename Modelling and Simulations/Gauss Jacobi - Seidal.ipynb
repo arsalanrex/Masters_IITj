{
 "cells": [
  {
   "cell_type": "code",
   "execution_count": 1,
   "outputs": [
    {
     "name": "stdout",
     "output_type": "stream",
     "text": [
      "\n",
      "Gauss-Jacobi:\n",
      "Solution: [0.566, 0.9057, 0.6226]\n",
      "Iterations: 16\n"
     ]
    }
   ],
   "source": [
    "# Gauss Jacobi\n",
    "\n",
    "import numpy as np \n",
    "\n",
    "def gauss_jacobi(A, b, x0, tol = 1e-6, max_iter=1000):\n",
    "    n = len(b)\n",
    "    x = x0.copy()\n",
    "    x_prev = np.zeros_like(x)\n",
    "    \n",
    "    for k in range(max_iter) : \n",
    "        for i in range(n):\n",
    "            x_prev[i] = x[i]\n",
    "            sigma = 0\n",
    "            for j in range(n):\n",
    "                if j != i:\n",
    "                    sigma += A[i, j] * x_prev[j]\n",
    "            x[i] = (b[i] - sigma) / A[i, i]\n",
    "        \n",
    "        if np.linalg.norm(x - x_prev, 2) < tol:\n",
    "            return x, k + 1\n",
    "    return x, max_iter\n",
    "\n",
    "A = np.array([[10, -1, 2], \n",
    "              [1, 10, -1], \n",
    "              [-2, 1, 10]], dtype=float)\n",
    "b = np.array([6, 9, 6],  dtype=float)\n",
    "x0 = np.zeros_like(b)\n",
    "\n",
    "result_jacobi, iterations_jacobi = gauss_jacobi(A, b, x0)\n",
    "print(\"\\nGauss-Jacobi:\")\n",
    "print (\"Solution:\", [round(num, 4) for num in result_jacobi])\n",
    "print (\"Iterations:\", iterations_jacobi)\n"
   ],
   "metadata": {
    "collapsed": false,
    "ExecuteTime": {
     "end_time": "2024-03-21T06:22:43.210900Z",
     "start_time": "2024-03-21T06:22:43.121438Z"
    }
   },
   "id": "7e5cb6c4d713267c"
  },
  {
   "cell_type": "code",
   "execution_count": 21,
   "outputs": [
    {
     "name": "stdout",
     "output_type": "stream",
     "text": [
      "    itr      x1      x2      x3       tol\n",
      "0     0  0.0000  0.0000  0.0000       inf\n",
      "1     1  0.6000  0.9000  0.6000  1.236932\n",
      "2     2  0.6000  0.8400  0.6300  0.067082\n",
      "3     3  0.5700  0.9000  0.6360  0.067350\n",
      "4     4  0.5580  0.9060  0.6240  0.018000\n",
      "5     5  0.5628  0.9078  0.6210  0.005940\n",
      "6     6  0.5658  0.9061  0.6218  0.003526\n",
      "7     7  0.5666  0.9055  0.6225  0.001248\n",
      "8     8  0.5663  0.9055  0.6228  0.000389\n",
      "9     9  0.5660  0.9056  0.6227  0.000248\n",
      "10   10  0.5660  0.9057  0.6226  0.000081\n",
      "11   11  0.5660  0.9057  0.6226  0.000027\n",
      "12   12  0.5660  0.9057  0.6226  0.000018\n",
      "13   13  0.5660  0.9057  0.6226  0.000005\n",
      "14   14  0.5660  0.9057  0.6226  0.000002\n",
      "15   15  0.5660  0.9057  0.6226  0.000001\n",
      "16   16  0.5660  0.9057  0.6226  0.000000\n"
     ]
    }
   ],
   "source": [
    "import numpy as np\n",
    "import pandas as pd\n",
    "\n",
    "def gauss_jacobi(A, b, x0, tol=1e-6, max_iter=1000):\n",
    "    \"\"\"\n",
    "    Perform stepwise implementation of Gauss-Jacobi iteration to solve the linear system Ax = b.\n",
    "    \n",
    "    Parameters:\n",
    "        A (numpy.ndarray): Coefficient matrix of shape (n, n).\n",
    "        b (numpy.ndarray): Right-hand side vector of shape (n,).\n",
    "        x0 (numpy.ndarray): Initial guess for the solution, shape (n,).\n",
    "        tol (float): Tolerance for convergence (default 1e-6).\n",
    "        max_iter (int): Maximum number of iterations (default 1000).\n",
    "        \n",
    "    Returns:\n",
    "        pandas.DataFrame: DataFrame containing iteration number, solution values, and tolerance.\n",
    "    \"\"\"\n",
    "    n = len(b)\n",
    "    x = x0.copy()  # Initialize x with initial guess\n",
    "    x_prev = np.zeros_like(x)  # Initialize x_prev with zeros\n",
    "    \n",
    "    iterations_data = []  # List to store iteration data\n",
    "    \n",
    "    # Add iteration 0 with x0 values\n",
    "    iteration_values = {\"itr\": 0}  \n",
    "    for i in range(n):\n",
    "        iteration_values[f\"x{i+1}\"] = round(x[i], 4)  # Store x0 values\n",
    "    iteration_values[\"tol\"] = np.inf  # Initial tolerance is infinity\n",
    "    iterations_data.append(iteration_values)\n",
    "    \n",
    "    # Iterate until convergence or maximum iterations reached\n",
    "    for k in range(max_iter):\n",
    "        iteration_values = {\"itr\": k + 1}  # Dictionary to store iteration values\n",
    "        for i in range(n):\n",
    "            # Calculate the updated value for x[i]\n",
    "            x_prev[i] = x[i]  # Store the current value of x[i] in x_prev\n",
    "            sigma = 0\n",
    "            for j in range(n):\n",
    "                if j != i:\n",
    "                    sigma += A[i, j] * x_prev[j]\n",
    "            x[i] = (b[i] - sigma) / A[i, i]\n",
    "            iteration_values[f\"x{i+1}\"] = round(x[i], 4)  # Store x values for this iteration\n",
    "        \n",
    "        # Calculate tolerance\n",
    "        if k == 0:\n",
    "            tolerance = np.linalg.norm(x - x0, 2)  # Use difference between x and x0 for first iteration\n",
    "        else:\n",
    "            tolerance = np.linalg.norm(x - x_prev, 2)  # Use difference between current and previous x for subsequent iterations\n",
    "            \n",
    "        iteration_values[\"tol\"] = round(tolerance, 6)  # Store tolerance value for this iteration\n",
    "        iterations_data.append(iteration_values)  # Append iteration data\n",
    "        \n",
    "        # Check for convergence\n",
    "        if tolerance < tol:\n",
    "            break  # Convergence condition reached\n",
    "    \n",
    "    # Convert iteration data to DataFrame\n",
    "    df = pd.DataFrame(iterations_data)\n",
    "    return df\n",
    "\n",
    "# Example usage\n",
    "A = np.array([[10, -1, 2], \n",
    "              [1, 10, -1], \n",
    "              [-2, 1, 10]], dtype=float)\n",
    "b = np.array([6, 9, 6], dtype=float)\n",
    "x0 = np.zeros_like(b)\n",
    "\n",
    "iterations_df = gauss_jacobi(A, b, x0)\n",
    "print(iterations_df)\n"
   ],
   "metadata": {
    "collapsed": false,
    "ExecuteTime": {
     "end_time": "2024-03-21T06:56:07.139523Z",
     "start_time": "2024-03-21T06:56:07.132972Z"
    }
   },
   "id": "8e1ea4e89a8d16a3"
  },
  {
   "cell_type": "code",
   "execution_count": 2,
   "outputs": [
    {
     "name": "stdout",
     "output_type": "stream",
     "text": [
      "\n",
      "Gauss-Seidel:\n",
      "Solution: [0.566, 0.9057, 0.6226]\n",
      "Iterations: 7\n"
     ]
    }
   ],
   "source": [
    "# Gauss Seidal\n",
    "\n",
    "import numpy as np \n",
    "\n",
    "def gauss_seidel(A, b, x0, tol = 1e-6, max_iter=1000):\n",
    "    n = len(b)\n",
    "    x = x0.copy()\n",
    "    for k in range(max_iter) : \n",
    "        for i in range(n):\n",
    "            sigma = 0\n",
    "            for j in range(n):\n",
    "                if j != i:\n",
    "                    sigma += A[i, j] * x[j]\n",
    "            x[i] = (b[i] - sigma) / A[i, i]\n",
    "        if np.linalg.norm(np.dot(A, x) - b, 2) < tol:\n",
    "            return x, k + 1\n",
    "    return x, max_iter\n",
    "\n",
    "A = np.array([[10, -1, 2], \n",
    "              [1, 10, -1], \n",
    "              [-2, 1, 10]], dtype=float)\n",
    "b = np.array([6, 9, 6],  dtype=float)\n",
    "x0 = np.zeros_like(b)\n",
    "\n",
    "result_seidel, iterations_seidel = gauss_seidel(A, b, x0)\n",
    "print(\"\\nGauss-Seidel:\")\n",
    "print (\"Solution:\", [round(num, 4) for num in result_seidel])\n",
    "print (\"Iterations:\", iterations_seidel)"
   ],
   "metadata": {
    "collapsed": false,
    "ExecuteTime": {
     "end_time": "2024-03-21T06:22:45.311452Z",
     "start_time": "2024-03-21T06:22:45.304792Z"
    }
   },
   "id": "dca3aae86546206c"
  },
  {
   "cell_type": "code",
   "execution_count": 22,
   "outputs": [
    {
     "name": "stdout",
     "output_type": "stream",
     "text": [
      "   itr      x1      x2      x3       tol\n",
      "0    0  0.0000  0.0000  0.0000       inf\n",
      "1    1  0.6000  0.8400  0.6360  0.768843\n",
      "2    2  0.5568  0.9079  0.6206  0.099982\n",
      "3    3  0.5667  0.9054  0.6228  0.007335\n",
      "4    4  0.5660  0.9057  0.6226  0.000653\n",
      "5    5  0.5660  0.9057  0.6226  0.000055\n",
      "6    6  0.5660  0.9057  0.6226  0.000005\n",
      "7    7  0.5660  0.9057  0.6226  0.000000\n"
     ]
    }
   ],
   "source": [
    "import numpy as np\n",
    "import pandas as pd\n",
    "\n",
    "def gauss_seidel(A, b, x0, tol=1e-6, max_iter=1000):\n",
    "    \"\"\"\n",
    "    Perform stepwise implementation of Gauss-Seidel iteration to solve the linear system Ax = b.\n",
    "    \n",
    "    Parameters:\n",
    "        A (numpy.ndarray): Coefficient matrix of shape (n, n).\n",
    "        b (numpy.ndarray): Right-hand side vector of shape (n,).\n",
    "        x0 (numpy.ndarray): Initial guess for the solution, shape (n,).\n",
    "        tol (float): Tolerance for convergence (default 1e-6).\n",
    "        max_iter (int): Maximum number of iterations (default 1000).\n",
    "        \n",
    "    Returns:\n",
    "        pandas.DataFrame: DataFrame containing iteration number, solution values, and tolerance.\n",
    "    \"\"\"\n",
    "    n = len(b)\n",
    "    x = x0.copy()  # Initialize x with initial guess\n",
    "    \n",
    "    iterations_data = []  # List to store iteration data\n",
    "    \n",
    "    # Add iteration 0 with x0 values\n",
    "    iteration_values = {\"itr\": 0}  \n",
    "    for i in range(n):\n",
    "        iteration_values[f\"x{i+1}\"] = round(x[i], 4)  # Store x0 values\n",
    "    iteration_values[\"tol\"] = np.inf  # Initial tolerance is infinity\n",
    "    iterations_data.append(iteration_values)\n",
    "    \n",
    "    # Iterate until convergence or maximum iterations reached\n",
    "    for k in range(max_iter):\n",
    "        iteration_values = {\"itr\": k + 1}  # Dictionary to store iteration values\n",
    "        for i in range(n):\n",
    "            sigma = 0\n",
    "            for j in range(n):\n",
    "                if j != i:\n",
    "                    sigma += A[i, j] * x[j]\n",
    "            x[i] = (b[i] - sigma) / A[i, i]\n",
    "            iteration_values[f\"x{i+1}\"] = round(x[i], 4)  # Store x values for this iteration\n",
    "        \n",
    "        # Calculate tolerance\n",
    "        if k == 0:\n",
    "            tolerance = np.linalg.norm(np.dot(A, x) - b, 2)  # Use initial guess for tolerance calculation\n",
    "        else:\n",
    "            tolerance = np.linalg.norm(np.dot(A, x) - b, 2)  # Use current iteration values for tolerance calculation\n",
    "            \n",
    "        iteration_values[\"tol\"] = round(tolerance, 6)  # Store tolerance value for this iteration\n",
    "        iterations_data.append(iteration_values)  # Append iteration data\n",
    "        \n",
    "        # Check for convergence\n",
    "        if tolerance < tol:\n",
    "            break  # Convergence condition reached\n",
    "    \n",
    "    # Convert iteration data to DataFrame\n",
    "    df = pd.DataFrame(iterations_data)\n",
    "    return df\n",
    "\n",
    "# Example usage\n",
    "A = np.array([[10, -1, 2], \n",
    "              [1, 10, -1], \n",
    "              [-2, 1, 10]], dtype=float)\n",
    "b = np.array([6, 9, 6], dtype=float)\n",
    "x0 = np.zeros_like(b)\n",
    "\n",
    "iterations_df = gauss_seidel(A, b, x0)\n",
    "print(iterations_df)\n"
   ],
   "metadata": {
    "collapsed": false,
    "ExecuteTime": {
     "end_time": "2024-03-21T06:57:23.594161Z",
     "start_time": "2024-03-21T06:57:23.585394Z"
    }
   },
   "id": "865a6d7006d1cae2"
  },
  {
   "cell_type": "code",
   "execution_count": 3,
   "outputs": [
    {
     "name": "stdout",
     "output_type": "stream",
     "text": [
      "\n",
      "Gauss-Jacobi:\n",
      "Solution: [0.566, 0.9057, 0.6226]\n",
      "Iterations: 16\n",
      "\n",
      "Gauss-Seidel:\n",
      "Solution: [0.566, 0.9057, 0.6226]\n",
      "Iterations: 7\n"
     ]
    }
   ],
   "source": [
    "# Both\n",
    "\n",
    "import numpy as np \n",
    "\n",
    "def gauss_jacobi(A, b, x0, tol = 1e-6, max_iter=1000):\n",
    "    n = len(b)\n",
    "    x = x0.copy()\n",
    "    x_prev = np.zeros_like(x)\n",
    "    \n",
    "    for k in range(max_iter) : \n",
    "        for i in range(n):\n",
    "            x_prev[i] = x[i]\n",
    "            sigma = 0\n",
    "            for j in range(n):\n",
    "                if j != i:\n",
    "                    sigma += A[i, j] * x_prev[j]\n",
    "            x[i] = (b[i] - sigma) / A[i, i]\n",
    "        \n",
    "        if np.linalg.norm(x - x_prev, 2) < tol:\n",
    "            return x, k + 1\n",
    "    return x, max_iter\n",
    "\n",
    "def gauss_seidel(A, b, x0, tol = 1e-6, max_iter=1000):\n",
    "    n = len(b)\n",
    "    x = x0.copy()\n",
    "    for k in range(max_iter) : \n",
    "        for i in range(n):\n",
    "            sigma = 0\n",
    "            for j in range(n):\n",
    "                if j != i:\n",
    "                    sigma += A[i, j] * x[j]\n",
    "            x[i] = (b[i] - sigma) / A[i, i]\n",
    "        if np.linalg.norm(np.dot(A, x) - b, 2) < tol:\n",
    "            return x, k + 1\n",
    "    return x, max_iter\n",
    "\n",
    "A = np.array([[10, -1, 2], \n",
    "              [1, 10, -1], \n",
    "              [-2, 1, 10]], dtype=float)\n",
    "b = np.array([6, 9, 6],  dtype=float)\n",
    "x0 = np.zeros_like(b)\n",
    "\n",
    "result_jacobi, iterations_jacobi = gauss_jacobi(A, b, x0)\n",
    "print(\"\\nGauss-Jacobi:\")\n",
    "print (\"Solution:\", [round(num, 4) for num in result_jacobi])\n",
    "print (\"Iterations:\", iterations_jacobi)\n",
    "\n",
    "result_seidel, iterations_seidel = gauss_seidel(A, b, x0)\n",
    "print(\"\\nGauss-Seidel:\")\n",
    "print (\"Solution:\", [round(num, 4) for num in result_seidel])\n",
    "print (\"Iterations:\", iterations_seidel)"
   ],
   "metadata": {
    "collapsed": false,
    "ExecuteTime": {
     "end_time": "2024-03-21T06:22:47.658723Z",
     "start_time": "2024-03-21T06:22:47.633710Z"
    }
   },
   "id": "initial_id"
  },
  {
   "cell_type": "code",
   "execution_count": null,
   "outputs": [],
   "source": [],
   "metadata": {
    "collapsed": false
   },
   "id": "52a64b79df749317"
  }
 ],
 "metadata": {
  "kernelspec": {
   "display_name": "Python 3",
   "language": "python",
   "name": "python3"
  },
  "language_info": {
   "codemirror_mode": {
    "name": "ipython",
    "version": 2
   },
   "file_extension": ".py",
   "mimetype": "text/x-python",
   "name": "python",
   "nbconvert_exporter": "python",
   "pygments_lexer": "ipython2",
   "version": "2.7.6"
  }
 },
 "nbformat": 4,
 "nbformat_minor": 5
}
