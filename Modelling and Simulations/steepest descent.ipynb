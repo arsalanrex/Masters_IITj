{
 "cells": [
  {
   "cell_type": "code",
   "execution_count": 2,
   "id": "initial_id",
   "metadata": {
    "collapsed": true,
    "ExecuteTime": {
     "end_time": "2024-03-21T09:27:02.129969Z",
     "start_time": "2024-03-21T09:27:02.124144Z"
    }
   },
   "outputs": [
    {
     "name": "stdout",
     "output_type": "stream",
     "text": [
      "The solution is: [0.56603773 0.90566038 0.6226415 ]\n"
     ]
    }
   ],
   "source": [
    "#steepest decent method\n",
    "\n",
    "import numpy as np\n",
    "\n",
    "def steepest_descent(A, b, x0, tol=1e-6, max_iter=1000):\n",
    "    x = x0\n",
    "    iteration = 0\n",
    "\n",
    "    while iteration < max_iter:\n",
    "        r = b - np.dot(A, x)  # Compute the residual vector\n",
    "        alpha = np.dot(r, r) / np.dot(r, np.dot(A, r))  # Compute the step size\n",
    "        x = x + alpha * r  # Update the solution\n",
    "        if np.linalg.norm(r) < tol:\n",
    "            break\n",
    "        iteration += 1\n",
    "\n",
    "    return x\n",
    "\n",
    "A = np.array([[10, -1, 2], \n",
    "              [1, 10, -1], \n",
    "              [-2, 1, 10]], dtype=float)\n",
    "b = np.array([6, 9, 6],  dtype=float)\n",
    "x0 = np.zeros_like(b)\n",
    "#x0 = np.array([0, 0, 0], dtype=float)\n",
    "\n",
    "# Solve the system of equations using the steepest descent method\n",
    "x = steepest_descent(A, b, x0)\n",
    "\n",
    "print(f\"The solution is: {x}\")"
   ]
  },
  {
   "cell_type": "code",
   "execution_count": 4,
   "outputs": [
    {
     "name": "stdout",
     "output_type": "stream",
     "text": [
      "    itr      x1      x2      x3        tol\n",
      "0     1  0.0000  0.0000  0.0000  12.369317\n",
      "1     2  0.6000  0.9000  0.6000   0.424264\n",
      "2     3  0.5700  0.9000  0.6300   0.103923\n",
      "3     4  0.5640  0.9060  0.6240   0.025456\n",
      "4     5  0.5658  0.9060  0.6222   0.006235\n",
      "5     6  0.5662  0.9056  0.6226   0.001527\n",
      "6     7  0.5661  0.9056  0.6227   0.000374\n",
      "7     8  0.5660  0.9057  0.6226   0.000092\n",
      "8     9  0.5660  0.9057  0.6226   0.000022\n",
      "9    10  0.5660  0.9057  0.6226   0.000005\n",
      "10   11  0.5660  0.9057  0.6226   0.000001\n",
      "11   12  0.5660  0.9057  0.6226   0.000000\n"
     ]
    }
   ],
   "source": [
    "# stepwise implementation of steepest descent method\n",
    "\n",
    "import numpy as np\n",
    "import pandas as pd\n",
    "\n",
    "def steepest_descent(A, b, x0, tol=1e-6, max_iter=1000):\n",
    "    x = x0\n",
    "    iteration_data = []  # List to store iteration data\n",
    "    \n",
    "    for k in range(max_iter):\n",
    "        iteration_values = {\"itr\": k + 1}  # Dictionary to store iteration values\n",
    "        for i in range(len(x)):\n",
    "            iteration_values[f\"x{i+1}\"] = round(x[i], 4)  # Store x values for this iteration\n",
    "        \n",
    "        r = b - np.dot(A, x)  # Compute the residual vector\n",
    "        alpha = np.dot(r, r) / np.dot(r, np.dot(A, r))  # Compute the step size\n",
    "        x = x + alpha * r  # Update the solution\n",
    "        \n",
    "        tolerance = np.linalg.norm(r)  # Calculate tolerance\n",
    "        iteration_values[\"tol\"] = round(tolerance, 6)  # Store tolerance value for this iteration\n",
    "        \n",
    "        iteration_data.append(iteration_values)  # Append iteration data\n",
    "        \n",
    "        # Check for convergence\n",
    "        if tolerance < tol:\n",
    "            break  # Convergence condition reached\n",
    "    \n",
    "    # Convert iteration data to DataFrame\n",
    "    df = pd.DataFrame(iteration_data)\n",
    "    return df\n",
    "\n",
    "# Example usage\n",
    "A = np.array([[10, -1, 2], \n",
    "              [1, 10, -1], \n",
    "              [-2, 1, 10]], dtype=float)\n",
    "b = np.array([6, 9, 6], dtype=float)\n",
    "x0 = np.zeros_like(b)\n",
    "\n",
    "iterations_df = steepest_descent(A, b, x0)\n",
    "print(iterations_df)\n"
   ],
   "metadata": {
    "collapsed": false,
    "ExecuteTime": {
     "end_time": "2024-03-21T09:30:17.814643Z",
     "start_time": "2024-03-21T09:30:16.824336Z"
    }
   },
   "id": "d686f2dd62fb665e"
  },
  {
   "cell_type": "code",
   "execution_count": null,
   "outputs": [],
   "source": [],
   "metadata": {
    "collapsed": false
   },
   "id": "655dcbe968450a55"
  }
 ],
 "metadata": {
  "kernelspec": {
   "display_name": "Python 3",
   "language": "python",
   "name": "python3"
  },
  "language_info": {
   "codemirror_mode": {
    "name": "ipython",
    "version": 2
   },
   "file_extension": ".py",
   "mimetype": "text/x-python",
   "name": "python",
   "nbconvert_exporter": "python",
   "pygments_lexer": "ipython2",
   "version": "2.7.6"
  }
 },
 "nbformat": 4,
 "nbformat_minor": 5
}
