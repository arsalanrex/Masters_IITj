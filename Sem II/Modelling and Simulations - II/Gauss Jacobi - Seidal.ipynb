{
 "cells": [
  {
   "cell_type": "code",
   "execution_count": 1,
   "outputs": [
    {
     "name": "stdout",
     "output_type": "stream",
     "text": [
      "\n",
      "Gauss-Jacobi:\n",
      "Solution: [0.566, 0.9057, 0.6226]\n",
      "Iterations: 16\n"
     ]
    }
   ],
   "source": [
    "# Gauss Jacobi\n",
    "\n",
    "import numpy as np \n",
    "\n",
    "def gauss_jacobi(A, b, x0, tol = 1e-6, max_iter=1000):\n",
    "    n = len(b)\n",
    "    x = x0.copy()\n",
    "    x_prev = np.zeros_like(x)\n",
    "    \n",
    "    for k in range(max_iter) : \n",
    "        for i in range(n):\n",
    "            x_prev[i] = x[i]\n",
    "            sigma = 0\n",
    "            for j in range(n):\n",
    "                if j != i:\n",
    "                    sigma += A[i, j] * x_prev[j]\n",
    "            x[i] = (b[i] - sigma) / A[i, i]\n",
    "        \n",
    "        if np.linalg.norm(x - x_prev, 2) < tol:\n",
    "            return x, k + 1\n",
    "    return x, max_iter\n",
    "\n",
    "A = np.array([[10, -1, 2], \n",
    "              [1, 10, -1], \n",
    "              [-2, 1, 10]], dtype=float)\n",
    "b = np.array([6, 9, 6],  dtype=float)\n",
    "x0 = np.zeros_like(b)\n",
    "#x0 = np.array([0, 0, 0], dtype=float)\n",
    "\n",
    "result_jacobi, iterations_jacobi = gauss_jacobi(A, b, x0)\n",
    "print(\"\\nGauss-Jacobi:\")\n",
    "print (\"Solution:\", [round(num, 4) for num in result_jacobi])\n",
    "print (\"Iterations:\", iterations_jacobi)\n"
   ],
   "metadata": {
    "collapsed": false,
    "ExecuteTime": {
     "end_time": "2024-03-21T06:22:43.210900Z",
     "start_time": "2024-03-21T06:22:43.121438Z"
    }
   },
   "id": "7e5cb6c4d713267c"
  },
  {
   "cell_type": "code",
   "execution_count": 2,
   "outputs": [
    {
     "name": "stdout",
     "output_type": "stream",
     "text": [
      "     itr      x1      x2      x3      x4      x5       tol\n",
      "0      0  2.0000  0.0000  0.0000  0.0000  0.0000       inf\n",
      "1      1  3.0000 -2.5000  0.8750  0.8750  3.0000  4.216782\n",
      "2      2  3.0000 -2.7000  1.8125  1.7812  2.9750  1.319401\n",
      "3      3  2.8750 -3.0000  2.9031  0.1469  1.0763  2.751640\n",
      "4      4  1.6287 -2.9788  2.8930  0.0523  2.6219  1.987860\n",
      "..   ...     ...     ...     ...     ...     ...       ...\n",
      "99    99  1.7598 -2.7866  2.2237  1.1464  1.1920  0.000002\n",
      "100  100  1.7598 -2.7866  2.2237  1.1464  1.1920  0.000001\n",
      "101  101  1.7598 -2.7866  2.2237  1.1464  1.1920  0.000001\n",
      "102  102  1.7598 -2.7866  2.2237  1.1464  1.1920  0.000001\n",
      "103  103  1.7598 -2.7866  2.2237  1.1464  1.1920  0.000001\n",
      "\n",
      "[104 rows x 7 columns]\n"
     ]
    }
   ],
   "source": [
    "# stepwise implementation of Gauss-Jacobi iteration\n",
    "\n",
    "import numpy as np\n",
    "import pandas as pd\n",
    "\n",
    "def gauss_jacobi(A, b, x0, tol=1e-6, max_iter=1000):\n",
    "    \"\"\"\n",
    "    Perform stepwise implementation of Gauss-Jacobi iteration to solve the linear system Ax = b.\n",
    "    \n",
    "    Parameters:\n",
    "        A (numpy.ndarray): Coefficient matrix of shape (n, n).\n",
    "        b (numpy.ndarray): Right-hand side vector of shape (n,).\n",
    "        x0 (numpy.ndarray): Initial guess for the solution, shape (n,).\n",
    "        tol (float): Tolerance for convergence (default 1e-6).\n",
    "        max_iter (int): Maximum number of iterations (default 1000).\n",
    "        \n",
    "    Returns:\n",
    "        pandas.DataFrame: DataFrame containing iteration number, solution values, and tolerance.\n",
    "    \"\"\"\n",
    "    n = len(b)\n",
    "    x = x0.copy()  # Initialize x with initial guess\n",
    "    x_prev = np.zeros_like(x)  # Initialize x_prev with zeros\n",
    "    \n",
    "    iterations_data = []  # List to store iteration data\n",
    "    \n",
    "    # Add iteration 0 with x0 values\n",
    "    iteration_values = {\"itr\": 0}  \n",
    "    for i in range(n):\n",
    "        iteration_values[f\"x{i+1}\"] = round(x[i], 4)  # Store x0 values\n",
    "    iteration_values[\"tol\"] = np.inf  # Initial tolerance is infinity\n",
    "    iterations_data.append(iteration_values)\n",
    "    \n",
    "    # Iterate until convergence or maximum iterations reached\n",
    "    for k in range(max_iter):\n",
    "        iteration_values = {\"itr\": k + 1}  # Dictionary to store iteration values\n",
    "        for i in range(n):\n",
    "            # Calculate the updated value for x[i]\n",
    "            x_prev[i] = x[i]  # Store the current value of x[i] in x_prev\n",
    "            sigma = 0\n",
    "            for j in range(n):\n",
    "                if j != i:\n",
    "                    sigma += A[i, j] * x_prev[j]\n",
    "            x[i] = (b[i] - sigma) / A[i, i]\n",
    "            iteration_values[f\"x{i+1}\"] = round(x[i], 4)  # Store x values for this iteration\n",
    "        \n",
    "        # Calculate tolerance\n",
    "        if k == 0:\n",
    "            tolerance = np.linalg.norm(x - x0, 2)  # Use difference between x and x0 for first iteration\n",
    "        else:\n",
    "            tolerance = np.linalg.norm(x - x_prev, 2)  # Use difference between current and previous x for subsequent iterations\n",
    "            \n",
    "        iteration_values[\"tol\"] = round(tolerance, 6)  # Store tolerance value for this iteration\n",
    "        iterations_data.append(iteration_values)  # Append iteration data\n",
    "        \n",
    "        # Check for convergence\n",
    "        if tolerance < tol:\n",
    "            break  # Convergence condition reached\n",
    "    \n",
    "    # Convert iteration data to DataFrame\n",
    "    df = pd.DataFrame(iterations_data)\n",
    "    return df\n",
    "\n",
    "# Example usage\n",
    "A = np.array([[5, 1, 2, 5, -1], \n",
    "              [2, 10, 2, -2, 1], \n",
    "              [0, 3, 8, 1, -3],\n",
    "              [1, 4, 2, 8, 4],\n",
    "              [-2, 3, 4, 7, 5]], dtype=float)\n",
    "b = np.array([15, -21, 7, 9, 11], dtype=float)\n",
    "#x0 = np.zeros_like(b)\n",
    "x0 = np.array([2, 0, 0, 0, 0], dtype=float)\n",
    "\n",
    "iterations_df = gauss_jacobi(A, b, x0)\n",
    "print(iterations_df)\n"
   ],
   "metadata": {
    "collapsed": false,
    "ExecuteTime": {
     "end_time": "2024-04-21T07:11:35.886558Z",
     "start_time": "2024-04-21T07:11:35.865638Z"
    }
   },
   "id": "8e1ea4e89a8d16a3"
  },
  {
   "cell_type": "code",
   "execution_count": 2,
   "outputs": [
    {
     "name": "stdout",
     "output_type": "stream",
     "text": [
      "\n",
      "Gauss-Seidel:\n",
      "Solution: [0.566, 0.9057, 0.6226]\n",
      "Iterations: 7\n"
     ]
    }
   ],
   "source": [
    "# Gauss Seidal\n",
    "\n",
    "import numpy as np \n",
    "\n",
    "def gauss_seidel(A, b, x0, tol = 1e-6, max_iter=1000):\n",
    "    n = len(b)\n",
    "    x = x0.copy()\n",
    "    for k in range(max_iter) : \n",
    "        for i in range(n):\n",
    "            sigma = 0\n",
    "            for j in range(n):\n",
    "                if j != i:\n",
    "                    sigma += A[i, j] * x[j]\n",
    "            x[i] = (b[i] - sigma) / A[i, i]\n",
    "        if np.linalg.norm(np.dot(A, x) - b, 2) < tol:\n",
    "            return x, k + 1\n",
    "    return x, max_iter\n",
    "\n",
    "A = np.array([[10, -1, 2], \n",
    "              [1, 10, -1], \n",
    "              [-2, 1, 10]], dtype=float)\n",
    "b = np.array([6, 9, 6],  dtype=float)\n",
    "x0 = np.zeros_like(b)\n",
    "#x0 = np.array([0, 0, 0], dtype=float)\n",
    "\n",
    "result_seidel, iterations_seidel = gauss_seidel(A, b, x0)\n",
    "print(\"\\nGauss-Seidel:\")\n",
    "print (\"Solution:\", [round(num, 4) for num in result_seidel])\n",
    "print (\"Iterations:\", iterations_seidel)"
   ],
   "metadata": {
    "collapsed": false,
    "ExecuteTime": {
     "end_time": "2024-03-21T06:22:45.311452Z",
     "start_time": "2024-03-21T06:22:45.304792Z"
    }
   },
   "id": "dca3aae86546206c"
  },
  {
   "cell_type": "code",
   "execution_count": 22,
   "outputs": [
    {
     "name": "stdout",
     "output_type": "stream",
     "text": [
      "   itr      x1      x2      x3       tol\n",
      "0    0  0.0000  0.0000  0.0000       inf\n",
      "1    1  0.6000  0.8400  0.6360  0.768843\n",
      "2    2  0.5568  0.9079  0.6206  0.099982\n",
      "3    3  0.5667  0.9054  0.6228  0.007335\n",
      "4    4  0.5660  0.9057  0.6226  0.000653\n",
      "5    5  0.5660  0.9057  0.6226  0.000055\n",
      "6    6  0.5660  0.9057  0.6226  0.000005\n",
      "7    7  0.5660  0.9057  0.6226  0.000000\n"
     ]
    }
   ],
   "source": [
    "# stepwise implementation of Gauss-Seidel iteration\n",
    "\n",
    "import numpy as np\n",
    "import pandas as pd\n",
    "\n",
    "def gauss_seidel(A, b, x0, tol=1e-6, max_iter=1000):\n",
    "    \"\"\"\n",
    "    Perform stepwise implementation of Gauss-Seidel iteration to solve the linear system Ax = b.\n",
    "    \n",
    "    Parameters:\n",
    "        A (numpy.ndarray): Coefficient matrix of shape (n, n).\n",
    "        b (numpy.ndarray): Right-hand side vector of shape (n,).\n",
    "        x0 (numpy.ndarray): Initial guess for the solution, shape (n,).\n",
    "        tol (float): Tolerance for convergence (default 1e-6).\n",
    "        max_iter (int): Maximum number of iterations (default 1000).\n",
    "        \n",
    "    Returns:\n",
    "        pandas.DataFrame: DataFrame containing iteration number, solution values, and tolerance.\n",
    "    \"\"\"\n",
    "    n = len(b)\n",
    "    x = x0.copy()  # Initialize x with initial guess\n",
    "    \n",
    "    iterations_data = []  # List to store iteration data\n",
    "    \n",
    "    # Add iteration 0 with x0 values\n",
    "    iteration_values = {\"itr\": 0}  \n",
    "    for i in range(n):\n",
    "        iteration_values[f\"x{i+1}\"] = round(x[i], 4)  # Store x0 values\n",
    "    iteration_values[\"tol\"] = np.inf  # Initial tolerance is infinity\n",
    "    iterations_data.append(iteration_values)\n",
    "    \n",
    "    # Iterate until convergence or maximum iterations reached\n",
    "    for k in range(max_iter):\n",
    "        iteration_values = {\"itr\": k + 1}  # Dictionary to store iteration values\n",
    "        for i in range(n):\n",
    "            sigma = 0\n",
    "            for j in range(n):\n",
    "                if j != i:\n",
    "                    sigma += A[i, j] * x[j]\n",
    "            x[i] = (b[i] - sigma) / A[i, i]\n",
    "            iteration_values[f\"x{i+1}\"] = round(x[i], 4)  # Store x values for this iteration\n",
    "        \n",
    "        # Calculate tolerance\n",
    "        if k == 0:\n",
    "            tolerance = np.linalg.norm(np.dot(A, x) - b, 2)  # Use initial guess for tolerance calculation\n",
    "        else:\n",
    "            tolerance = np.linalg.norm(np.dot(A, x) - b, 2)  # Use current iteration values for tolerance calculation\n",
    "            \n",
    "        iteration_values[\"tol\"] = round(tolerance, 6)  # Store tolerance value for this iteration\n",
    "        iterations_data.append(iteration_values)  # Append iteration data\n",
    "        \n",
    "        # Check for convergence\n",
    "        if tolerance < tol:\n",
    "            break  # Convergence condition reached\n",
    "    \n",
    "    # Convert iteration data to DataFrame\n",
    "    df = pd.DataFrame(iterations_data)\n",
    "    return df\n",
    "\n",
    "# Example usage\n",
    "A = np.array([[10, -1, 2], \n",
    "              [1, 10, -1], \n",
    "              [-2, 1, 10]], dtype=float)\n",
    "b = np.array([6, 9, 6], dtype=float)\n",
    "x0 = np.zeros_like(b)\n",
    "#x0 = np.array([0, 0, 0], dtype=float)\n",
    "\n",
    "iterations_df = gauss_seidel(A, b, x0)\n",
    "print(iterations_df)\n"
   ],
   "metadata": {
    "collapsed": false,
    "ExecuteTime": {
     "end_time": "2024-03-21T06:57:23.594161Z",
     "start_time": "2024-03-21T06:57:23.585394Z"
    }
   },
   "id": "865a6d7006d1cae2"
  },
  {
   "cell_type": "code",
   "execution_count": 3,
   "outputs": [
    {
     "name": "stdout",
     "output_type": "stream",
     "text": [
      "   itr      x1      x2      x3       tol\n",
      "0    0  0.0000  0.0000  0.0000       inf\n",
      "1    1  0.6000  0.8400  0.6360  0.768843\n",
      "2    2  0.5568  0.9079  0.6206  0.099982\n",
      "3    3  0.5667  0.9054  0.6228  0.007335\n",
      "4    4  0.5660  0.9057  0.6226  0.000653\n",
      "5    5  0.5660  0.9057  0.6226  0.000055\n",
      "6    6  0.5660  0.9057  0.6226  0.000005\n",
      "7    7  0.5660  0.9057  0.6226  0.000000\n"
     ]
    },
    {
     "data": {
      "application/vnd.plotly.v1+json": {
       "data": [
        {
         "mode": "lines+markers",
         "name": "x1",
         "x": [
          0,
          1,
          2,
          3,
          4,
          5,
          6,
          7
         ],
         "y": [
          0.0,
          0.6,
          0.5568,
          0.5667,
          0.566,
          0.566,
          0.566,
          0.566
         ],
         "type": "scatter"
        },
        {
         "mode": "lines+markers",
         "name": "x2",
         "x": [
          0,
          1,
          2,
          3,
          4,
          5,
          6,
          7
         ],
         "y": [
          0.0,
          0.84,
          0.9079,
          0.9054,
          0.9057,
          0.9057,
          0.9057,
          0.9057
         ],
         "type": "scatter"
        },
        {
         "mode": "lines+markers",
         "name": "x3",
         "x": [
          0,
          1,
          2,
          3,
          4,
          5,
          6,
          7
         ],
         "y": [
          0.0,
          0.636,
          0.6206,
          0.6228,
          0.6226,
          0.6226,
          0.6226,
          0.6226
         ],
         "type": "scatter"
        },
        {
         "mode": "lines+markers",
         "name": "x4",
         "x": [
          0,
          1,
          2,
          3,
          4,
          5,
          6,
          7
         ],
         "y": [
          null,
          0.768843,
          0.099982,
          0.007335,
          6.53E-4,
          5.5E-5,
          5.0E-6,
          0.0
         ],
         "type": "scatter"
        },
        {
         "mode": "lines+markers",
         "name": "tolerance",
         "x": [
          0,
          1,
          2,
          3,
          4,
          5,
          6,
          7
         ],
         "y": [
          null,
          0.768843,
          0.099982,
          0.007335,
          6.53E-4,
          5.5E-5,
          5.0E-6,
          0.0
         ],
         "type": "scatter"
        }
       ],
       "layout": {
        "template": {
         "data": {
          "histogram2dcontour": [
           {
            "type": "histogram2dcontour",
            "colorbar": {
             "outlinewidth": 0,
             "ticks": ""
            },
            "colorscale": [
             [
              0.0,
              "#0d0887"
             ],
             [
              0.1111111111111111,
              "#46039f"
             ],
             [
              0.2222222222222222,
              "#7201a8"
             ],
             [
              0.3333333333333333,
              "#9c179e"
             ],
             [
              0.4444444444444444,
              "#bd3786"
             ],
             [
              0.5555555555555556,
              "#d8576b"
             ],
             [
              0.6666666666666666,
              "#ed7953"
             ],
             [
              0.7777777777777778,
              "#fb9f3a"
             ],
             [
              0.8888888888888888,
              "#fdca26"
             ],
             [
              1.0,
              "#f0f921"
             ]
            ]
           }
          ],
          "choropleth": [
           {
            "type": "choropleth",
            "colorbar": {
             "outlinewidth": 0,
             "ticks": ""
            }
           }
          ],
          "histogram2d": [
           {
            "type": "histogram2d",
            "colorbar": {
             "outlinewidth": 0,
             "ticks": ""
            },
            "colorscale": [
             [
              0.0,
              "#0d0887"
             ],
             [
              0.1111111111111111,
              "#46039f"
             ],
             [
              0.2222222222222222,
              "#7201a8"
             ],
             [
              0.3333333333333333,
              "#9c179e"
             ],
             [
              0.4444444444444444,
              "#bd3786"
             ],
             [
              0.5555555555555556,
              "#d8576b"
             ],
             [
              0.6666666666666666,
              "#ed7953"
             ],
             [
              0.7777777777777778,
              "#fb9f3a"
             ],
             [
              0.8888888888888888,
              "#fdca26"
             ],
             [
              1.0,
              "#f0f921"
             ]
            ]
           }
          ],
          "heatmap": [
           {
            "type": "heatmap",
            "colorbar": {
             "outlinewidth": 0,
             "ticks": ""
            },
            "colorscale": [
             [
              0.0,
              "#0d0887"
             ],
             [
              0.1111111111111111,
              "#46039f"
             ],
             [
              0.2222222222222222,
              "#7201a8"
             ],
             [
              0.3333333333333333,
              "#9c179e"
             ],
             [
              0.4444444444444444,
              "#bd3786"
             ],
             [
              0.5555555555555556,
              "#d8576b"
             ],
             [
              0.6666666666666666,
              "#ed7953"
             ],
             [
              0.7777777777777778,
              "#fb9f3a"
             ],
             [
              0.8888888888888888,
              "#fdca26"
             ],
             [
              1.0,
              "#f0f921"
             ]
            ]
           }
          ],
          "heatmapgl": [
           {
            "type": "heatmapgl",
            "colorbar": {
             "outlinewidth": 0,
             "ticks": ""
            },
            "colorscale": [
             [
              0.0,
              "#0d0887"
             ],
             [
              0.1111111111111111,
              "#46039f"
             ],
             [
              0.2222222222222222,
              "#7201a8"
             ],
             [
              0.3333333333333333,
              "#9c179e"
             ],
             [
              0.4444444444444444,
              "#bd3786"
             ],
             [
              0.5555555555555556,
              "#d8576b"
             ],
             [
              0.6666666666666666,
              "#ed7953"
             ],
             [
              0.7777777777777778,
              "#fb9f3a"
             ],
             [
              0.8888888888888888,
              "#fdca26"
             ],
             [
              1.0,
              "#f0f921"
             ]
            ]
           }
          ],
          "contourcarpet": [
           {
            "type": "contourcarpet",
            "colorbar": {
             "outlinewidth": 0,
             "ticks": ""
            }
           }
          ],
          "contour": [
           {
            "type": "contour",
            "colorbar": {
             "outlinewidth": 0,
             "ticks": ""
            },
            "colorscale": [
             [
              0.0,
              "#0d0887"
             ],
             [
              0.1111111111111111,
              "#46039f"
             ],
             [
              0.2222222222222222,
              "#7201a8"
             ],
             [
              0.3333333333333333,
              "#9c179e"
             ],
             [
              0.4444444444444444,
              "#bd3786"
             ],
             [
              0.5555555555555556,
              "#d8576b"
             ],
             [
              0.6666666666666666,
              "#ed7953"
             ],
             [
              0.7777777777777778,
              "#fb9f3a"
             ],
             [
              0.8888888888888888,
              "#fdca26"
             ],
             [
              1.0,
              "#f0f921"
             ]
            ]
           }
          ],
          "surface": [
           {
            "type": "surface",
            "colorbar": {
             "outlinewidth": 0,
             "ticks": ""
            },
            "colorscale": [
             [
              0.0,
              "#0d0887"
             ],
             [
              0.1111111111111111,
              "#46039f"
             ],
             [
              0.2222222222222222,
              "#7201a8"
             ],
             [
              0.3333333333333333,
              "#9c179e"
             ],
             [
              0.4444444444444444,
              "#bd3786"
             ],
             [
              0.5555555555555556,
              "#d8576b"
             ],
             [
              0.6666666666666666,
              "#ed7953"
             ],
             [
              0.7777777777777778,
              "#fb9f3a"
             ],
             [
              0.8888888888888888,
              "#fdca26"
             ],
             [
              1.0,
              "#f0f921"
             ]
            ]
           }
          ],
          "mesh3d": [
           {
            "type": "mesh3d",
            "colorbar": {
             "outlinewidth": 0,
             "ticks": ""
            }
           }
          ],
          "scatter": [
           {
            "fillpattern": {
             "fillmode": "overlay",
             "size": 10,
             "solidity": 0.2
            },
            "type": "scatter"
           }
          ],
          "parcoords": [
           {
            "type": "parcoords",
            "line": {
             "colorbar": {
              "outlinewidth": 0,
              "ticks": ""
             }
            }
           }
          ],
          "scatterpolargl": [
           {
            "type": "scatterpolargl",
            "marker": {
             "colorbar": {
              "outlinewidth": 0,
              "ticks": ""
             }
            }
           }
          ],
          "bar": [
           {
            "error_x": {
             "color": "#2a3f5f"
            },
            "error_y": {
             "color": "#2a3f5f"
            },
            "marker": {
             "line": {
              "color": "#E5ECF6",
              "width": 0.5
             },
             "pattern": {
              "fillmode": "overlay",
              "size": 10,
              "solidity": 0.2
             }
            },
            "type": "bar"
           }
          ],
          "scattergeo": [
           {
            "type": "scattergeo",
            "marker": {
             "colorbar": {
              "outlinewidth": 0,
              "ticks": ""
             }
            }
           }
          ],
          "scatterpolar": [
           {
            "type": "scatterpolar",
            "marker": {
             "colorbar": {
              "outlinewidth": 0,
              "ticks": ""
             }
            }
           }
          ],
          "histogram": [
           {
            "marker": {
             "pattern": {
              "fillmode": "overlay",
              "size": 10,
              "solidity": 0.2
             }
            },
            "type": "histogram"
           }
          ],
          "scattergl": [
           {
            "type": "scattergl",
            "marker": {
             "colorbar": {
              "outlinewidth": 0,
              "ticks": ""
             }
            }
           }
          ],
          "scatter3d": [
           {
            "type": "scatter3d",
            "line": {
             "colorbar": {
              "outlinewidth": 0,
              "ticks": ""
             }
            },
            "marker": {
             "colorbar": {
              "outlinewidth": 0,
              "ticks": ""
             }
            }
           }
          ],
          "scattermapbox": [
           {
            "type": "scattermapbox",
            "marker": {
             "colorbar": {
              "outlinewidth": 0,
              "ticks": ""
             }
            }
           }
          ],
          "scatterternary": [
           {
            "type": "scatterternary",
            "marker": {
             "colorbar": {
              "outlinewidth": 0,
              "ticks": ""
             }
            }
           }
          ],
          "scattercarpet": [
           {
            "type": "scattercarpet",
            "marker": {
             "colorbar": {
              "outlinewidth": 0,
              "ticks": ""
             }
            }
           }
          ],
          "carpet": [
           {
            "aaxis": {
             "endlinecolor": "#2a3f5f",
             "gridcolor": "white",
             "linecolor": "white",
             "minorgridcolor": "white",
             "startlinecolor": "#2a3f5f"
            },
            "baxis": {
             "endlinecolor": "#2a3f5f",
             "gridcolor": "white",
             "linecolor": "white",
             "minorgridcolor": "white",
             "startlinecolor": "#2a3f5f"
            },
            "type": "carpet"
           }
          ],
          "table": [
           {
            "cells": {
             "fill": {
              "color": "#EBF0F8"
             },
             "line": {
              "color": "white"
             }
            },
            "header": {
             "fill": {
              "color": "#C8D4E3"
             },
             "line": {
              "color": "white"
             }
            },
            "type": "table"
           }
          ],
          "barpolar": [
           {
            "marker": {
             "line": {
              "color": "#E5ECF6",
              "width": 0.5
             },
             "pattern": {
              "fillmode": "overlay",
              "size": 10,
              "solidity": 0.2
             }
            },
            "type": "barpolar"
           }
          ],
          "pie": [
           {
            "automargin": true,
            "type": "pie"
           }
          ]
         },
         "layout": {
          "autotypenumbers": "strict",
          "colorway": [
           "#636efa",
           "#EF553B",
           "#00cc96",
           "#ab63fa",
           "#FFA15A",
           "#19d3f3",
           "#FF6692",
           "#B6E880",
           "#FF97FF",
           "#FECB52"
          ],
          "font": {
           "color": "#2a3f5f"
          },
          "hovermode": "closest",
          "hoverlabel": {
           "align": "left"
          },
          "paper_bgcolor": "white",
          "plot_bgcolor": "#E5ECF6",
          "polar": {
           "bgcolor": "#E5ECF6",
           "angularaxis": {
            "gridcolor": "white",
            "linecolor": "white",
            "ticks": ""
           },
           "radialaxis": {
            "gridcolor": "white",
            "linecolor": "white",
            "ticks": ""
           }
          },
          "ternary": {
           "bgcolor": "#E5ECF6",
           "aaxis": {
            "gridcolor": "white",
            "linecolor": "white",
            "ticks": ""
           },
           "baxis": {
            "gridcolor": "white",
            "linecolor": "white",
            "ticks": ""
           },
           "caxis": {
            "gridcolor": "white",
            "linecolor": "white",
            "ticks": ""
           }
          },
          "coloraxis": {
           "colorbar": {
            "outlinewidth": 0,
            "ticks": ""
           }
          },
          "colorscale": {
           "sequential": [
            [
             0.0,
             "#0d0887"
            ],
            [
             0.1111111111111111,
             "#46039f"
            ],
            [
             0.2222222222222222,
             "#7201a8"
            ],
            [
             0.3333333333333333,
             "#9c179e"
            ],
            [
             0.4444444444444444,
             "#bd3786"
            ],
            [
             0.5555555555555556,
             "#d8576b"
            ],
            [
             0.6666666666666666,
             "#ed7953"
            ],
            [
             0.7777777777777778,
             "#fb9f3a"
            ],
            [
             0.8888888888888888,
             "#fdca26"
            ],
            [
             1.0,
             "#f0f921"
            ]
           ],
           "sequentialminus": [
            [
             0.0,
             "#0d0887"
            ],
            [
             0.1111111111111111,
             "#46039f"
            ],
            [
             0.2222222222222222,
             "#7201a8"
            ],
            [
             0.3333333333333333,
             "#9c179e"
            ],
            [
             0.4444444444444444,
             "#bd3786"
            ],
            [
             0.5555555555555556,
             "#d8576b"
            ],
            [
             0.6666666666666666,
             "#ed7953"
            ],
            [
             0.7777777777777778,
             "#fb9f3a"
            ],
            [
             0.8888888888888888,
             "#fdca26"
            ],
            [
             1.0,
             "#f0f921"
            ]
           ],
           "diverging": [
            [
             0,
             "#8e0152"
            ],
            [
             0.1,
             "#c51b7d"
            ],
            [
             0.2,
             "#de77ae"
            ],
            [
             0.3,
             "#f1b6da"
            ],
            [
             0.4,
             "#fde0ef"
            ],
            [
             0.5,
             "#f7f7f7"
            ],
            [
             0.6,
             "#e6f5d0"
            ],
            [
             0.7,
             "#b8e186"
            ],
            [
             0.8,
             "#7fbc41"
            ],
            [
             0.9,
             "#4d9221"
            ],
            [
             1,
             "#276419"
            ]
           ]
          },
          "xaxis": {
           "gridcolor": "white",
           "linecolor": "white",
           "ticks": "",
           "title": {
            "standoff": 15
           },
           "zerolinecolor": "white",
           "automargin": true,
           "zerolinewidth": 2
          },
          "yaxis": {
           "gridcolor": "white",
           "linecolor": "white",
           "ticks": "",
           "title": {
            "standoff": 15
           },
           "zerolinecolor": "white",
           "automargin": true,
           "zerolinewidth": 2
          },
          "scene": {
           "xaxis": {
            "backgroundcolor": "#E5ECF6",
            "gridcolor": "white",
            "linecolor": "white",
            "showbackground": true,
            "ticks": "",
            "zerolinecolor": "white",
            "gridwidth": 2
           },
           "yaxis": {
            "backgroundcolor": "#E5ECF6",
            "gridcolor": "white",
            "linecolor": "white",
            "showbackground": true,
            "ticks": "",
            "zerolinecolor": "white",
            "gridwidth": 2
           },
           "zaxis": {
            "backgroundcolor": "#E5ECF6",
            "gridcolor": "white",
            "linecolor": "white",
            "showbackground": true,
            "ticks": "",
            "zerolinecolor": "white",
            "gridwidth": 2
           }
          },
          "shapedefaults": {
           "line": {
            "color": "#2a3f5f"
           }
          },
          "annotationdefaults": {
           "arrowcolor": "#2a3f5f",
           "arrowhead": 0,
           "arrowwidth": 1
          },
          "geo": {
           "bgcolor": "white",
           "landcolor": "#E5ECF6",
           "subunitcolor": "white",
           "showland": true,
           "showlakes": true,
           "lakecolor": "white"
          },
          "title": {
           "x": 0.05
          },
          "mapbox": {
           "style": "light"
          }
         }
        },
        "xaxis": {
         "title": {
          "text": "Iteration"
         },
         "showgrid": true,
         "gridcolor": "lightgrey"
        },
        "yaxis": {
         "title": {
          "text": "Value"
         },
         "showgrid": true,
         "gridcolor": "lightgrey"
        },
        "title": {
         "text": "Gauss-Seidel Iteration"
        },
        "legend": {
         "title": {
          "text": "Variable"
         }
        },
        "plot_bgcolor": "white"
       },
       "config": {
        "plotlyServerURL": "https://plot.ly"
       }
      },
      "text/html": "<div>                            <div id=\"7809c5da-9b4f-4c41-b0ce-3e1bab22f924\" class=\"plotly-graph-div\" style=\"height:525px; width:100%;\"></div>            <script type=\"text/javascript\">                require([\"plotly\"], function(Plotly) {                    window.PLOTLYENV=window.PLOTLYENV || {};                                    if (document.getElementById(\"7809c5da-9b4f-4c41-b0ce-3e1bab22f924\")) {                    Plotly.newPlot(                        \"7809c5da-9b4f-4c41-b0ce-3e1bab22f924\",                        [{\"mode\":\"lines+markers\",\"name\":\"x1\",\"x\":[0,1,2,3,4,5,6,7],\"y\":[0.0,0.6,0.5568,0.5667,0.566,0.566,0.566,0.566],\"type\":\"scatter\"},{\"mode\":\"lines+markers\",\"name\":\"x2\",\"x\":[0,1,2,3,4,5,6,7],\"y\":[0.0,0.84,0.9079,0.9054,0.9057,0.9057,0.9057,0.9057],\"type\":\"scatter\"},{\"mode\":\"lines+markers\",\"name\":\"x3\",\"x\":[0,1,2,3,4,5,6,7],\"y\":[0.0,0.636,0.6206,0.6228,0.6226,0.6226,0.6226,0.6226],\"type\":\"scatter\"},{\"mode\":\"lines+markers\",\"name\":\"x4\",\"x\":[0,1,2,3,4,5,6,7],\"y\":[null,0.768843,0.099982,0.007335,0.000653,5.5e-05,5e-06,0.0],\"type\":\"scatter\"},{\"mode\":\"lines+markers\",\"name\":\"tolerance\",\"x\":[0,1,2,3,4,5,6,7],\"y\":[null,0.768843,0.099982,0.007335,0.000653,5.5e-05,5e-06,0.0],\"type\":\"scatter\"}],                        {\"template\":{\"data\":{\"histogram2dcontour\":[{\"type\":\"histogram2dcontour\",\"colorbar\":{\"outlinewidth\":0,\"ticks\":\"\"},\"colorscale\":[[0.0,\"#0d0887\"],[0.1111111111111111,\"#46039f\"],[0.2222222222222222,\"#7201a8\"],[0.3333333333333333,\"#9c179e\"],[0.4444444444444444,\"#bd3786\"],[0.5555555555555556,\"#d8576b\"],[0.6666666666666666,\"#ed7953\"],[0.7777777777777778,\"#fb9f3a\"],[0.8888888888888888,\"#fdca26\"],[1.0,\"#f0f921\"]]}],\"choropleth\":[{\"type\":\"choropleth\",\"colorbar\":{\"outlinewidth\":0,\"ticks\":\"\"}}],\"histogram2d\":[{\"type\":\"histogram2d\",\"colorbar\":{\"outlinewidth\":0,\"ticks\":\"\"},\"colorscale\":[[0.0,\"#0d0887\"],[0.1111111111111111,\"#46039f\"],[0.2222222222222222,\"#7201a8\"],[0.3333333333333333,\"#9c179e\"],[0.4444444444444444,\"#bd3786\"],[0.5555555555555556,\"#d8576b\"],[0.6666666666666666,\"#ed7953\"],[0.7777777777777778,\"#fb9f3a\"],[0.8888888888888888,\"#fdca26\"],[1.0,\"#f0f921\"]]}],\"heatmap\":[{\"type\":\"heatmap\",\"colorbar\":{\"outlinewidth\":0,\"ticks\":\"\"},\"colorscale\":[[0.0,\"#0d0887\"],[0.1111111111111111,\"#46039f\"],[0.2222222222222222,\"#7201a8\"],[0.3333333333333333,\"#9c179e\"],[0.4444444444444444,\"#bd3786\"],[0.5555555555555556,\"#d8576b\"],[0.6666666666666666,\"#ed7953\"],[0.7777777777777778,\"#fb9f3a\"],[0.8888888888888888,\"#fdca26\"],[1.0,\"#f0f921\"]]}],\"heatmapgl\":[{\"type\":\"heatmapgl\",\"colorbar\":{\"outlinewidth\":0,\"ticks\":\"\"},\"colorscale\":[[0.0,\"#0d0887\"],[0.1111111111111111,\"#46039f\"],[0.2222222222222222,\"#7201a8\"],[0.3333333333333333,\"#9c179e\"],[0.4444444444444444,\"#bd3786\"],[0.5555555555555556,\"#d8576b\"],[0.6666666666666666,\"#ed7953\"],[0.7777777777777778,\"#fb9f3a\"],[0.8888888888888888,\"#fdca26\"],[1.0,\"#f0f921\"]]}],\"contourcarpet\":[{\"type\":\"contourcarpet\",\"colorbar\":{\"outlinewidth\":0,\"ticks\":\"\"}}],\"contour\":[{\"type\":\"contour\",\"colorbar\":{\"outlinewidth\":0,\"ticks\":\"\"},\"colorscale\":[[0.0,\"#0d0887\"],[0.1111111111111111,\"#46039f\"],[0.2222222222222222,\"#7201a8\"],[0.3333333333333333,\"#9c179e\"],[0.4444444444444444,\"#bd3786\"],[0.5555555555555556,\"#d8576b\"],[0.6666666666666666,\"#ed7953\"],[0.7777777777777778,\"#fb9f3a\"],[0.8888888888888888,\"#fdca26\"],[1.0,\"#f0f921\"]]}],\"surface\":[{\"type\":\"surface\",\"colorbar\":{\"outlinewidth\":0,\"ticks\":\"\"},\"colorscale\":[[0.0,\"#0d0887\"],[0.1111111111111111,\"#46039f\"],[0.2222222222222222,\"#7201a8\"],[0.3333333333333333,\"#9c179e\"],[0.4444444444444444,\"#bd3786\"],[0.5555555555555556,\"#d8576b\"],[0.6666666666666666,\"#ed7953\"],[0.7777777777777778,\"#fb9f3a\"],[0.8888888888888888,\"#fdca26\"],[1.0,\"#f0f921\"]]}],\"mesh3d\":[{\"type\":\"mesh3d\",\"colorbar\":{\"outlinewidth\":0,\"ticks\":\"\"}}],\"scatter\":[{\"fillpattern\":{\"fillmode\":\"overlay\",\"size\":10,\"solidity\":0.2},\"type\":\"scatter\"}],\"parcoords\":[{\"type\":\"parcoords\",\"line\":{\"colorbar\":{\"outlinewidth\":0,\"ticks\":\"\"}}}],\"scatterpolargl\":[{\"type\":\"scatterpolargl\",\"marker\":{\"colorbar\":{\"outlinewidth\":0,\"ticks\":\"\"}}}],\"bar\":[{\"error_x\":{\"color\":\"#2a3f5f\"},\"error_y\":{\"color\":\"#2a3f5f\"},\"marker\":{\"line\":{\"color\":\"#E5ECF6\",\"width\":0.5},\"pattern\":{\"fillmode\":\"overlay\",\"size\":10,\"solidity\":0.2}},\"type\":\"bar\"}],\"scattergeo\":[{\"type\":\"scattergeo\",\"marker\":{\"colorbar\":{\"outlinewidth\":0,\"ticks\":\"\"}}}],\"scatterpolar\":[{\"type\":\"scatterpolar\",\"marker\":{\"colorbar\":{\"outlinewidth\":0,\"ticks\":\"\"}}}],\"histogram\":[{\"marker\":{\"pattern\":{\"fillmode\":\"overlay\",\"size\":10,\"solidity\":0.2}},\"type\":\"histogram\"}],\"scattergl\":[{\"type\":\"scattergl\",\"marker\":{\"colorbar\":{\"outlinewidth\":0,\"ticks\":\"\"}}}],\"scatter3d\":[{\"type\":\"scatter3d\",\"line\":{\"colorbar\":{\"outlinewidth\":0,\"ticks\":\"\"}},\"marker\":{\"colorbar\":{\"outlinewidth\":0,\"ticks\":\"\"}}}],\"scattermapbox\":[{\"type\":\"scattermapbox\",\"marker\":{\"colorbar\":{\"outlinewidth\":0,\"ticks\":\"\"}}}],\"scatterternary\":[{\"type\":\"scatterternary\",\"marker\":{\"colorbar\":{\"outlinewidth\":0,\"ticks\":\"\"}}}],\"scattercarpet\":[{\"type\":\"scattercarpet\",\"marker\":{\"colorbar\":{\"outlinewidth\":0,\"ticks\":\"\"}}}],\"carpet\":[{\"aaxis\":{\"endlinecolor\":\"#2a3f5f\",\"gridcolor\":\"white\",\"linecolor\":\"white\",\"minorgridcolor\":\"white\",\"startlinecolor\":\"#2a3f5f\"},\"baxis\":{\"endlinecolor\":\"#2a3f5f\",\"gridcolor\":\"white\",\"linecolor\":\"white\",\"minorgridcolor\":\"white\",\"startlinecolor\":\"#2a3f5f\"},\"type\":\"carpet\"}],\"table\":[{\"cells\":{\"fill\":{\"color\":\"#EBF0F8\"},\"line\":{\"color\":\"white\"}},\"header\":{\"fill\":{\"color\":\"#C8D4E3\"},\"line\":{\"color\":\"white\"}},\"type\":\"table\"}],\"barpolar\":[{\"marker\":{\"line\":{\"color\":\"#E5ECF6\",\"width\":0.5},\"pattern\":{\"fillmode\":\"overlay\",\"size\":10,\"solidity\":0.2}},\"type\":\"barpolar\"}],\"pie\":[{\"automargin\":true,\"type\":\"pie\"}]},\"layout\":{\"autotypenumbers\":\"strict\",\"colorway\":[\"#636efa\",\"#EF553B\",\"#00cc96\",\"#ab63fa\",\"#FFA15A\",\"#19d3f3\",\"#FF6692\",\"#B6E880\",\"#FF97FF\",\"#FECB52\"],\"font\":{\"color\":\"#2a3f5f\"},\"hovermode\":\"closest\",\"hoverlabel\":{\"align\":\"left\"},\"paper_bgcolor\":\"white\",\"plot_bgcolor\":\"#E5ECF6\",\"polar\":{\"bgcolor\":\"#E5ECF6\",\"angularaxis\":{\"gridcolor\":\"white\",\"linecolor\":\"white\",\"ticks\":\"\"},\"radialaxis\":{\"gridcolor\":\"white\",\"linecolor\":\"white\",\"ticks\":\"\"}},\"ternary\":{\"bgcolor\":\"#E5ECF6\",\"aaxis\":{\"gridcolor\":\"white\",\"linecolor\":\"white\",\"ticks\":\"\"},\"baxis\":{\"gridcolor\":\"white\",\"linecolor\":\"white\",\"ticks\":\"\"},\"caxis\":{\"gridcolor\":\"white\",\"linecolor\":\"white\",\"ticks\":\"\"}},\"coloraxis\":{\"colorbar\":{\"outlinewidth\":0,\"ticks\":\"\"}},\"colorscale\":{\"sequential\":[[0.0,\"#0d0887\"],[0.1111111111111111,\"#46039f\"],[0.2222222222222222,\"#7201a8\"],[0.3333333333333333,\"#9c179e\"],[0.4444444444444444,\"#bd3786\"],[0.5555555555555556,\"#d8576b\"],[0.6666666666666666,\"#ed7953\"],[0.7777777777777778,\"#fb9f3a\"],[0.8888888888888888,\"#fdca26\"],[1.0,\"#f0f921\"]],\"sequentialminus\":[[0.0,\"#0d0887\"],[0.1111111111111111,\"#46039f\"],[0.2222222222222222,\"#7201a8\"],[0.3333333333333333,\"#9c179e\"],[0.4444444444444444,\"#bd3786\"],[0.5555555555555556,\"#d8576b\"],[0.6666666666666666,\"#ed7953\"],[0.7777777777777778,\"#fb9f3a\"],[0.8888888888888888,\"#fdca26\"],[1.0,\"#f0f921\"]],\"diverging\":[[0,\"#8e0152\"],[0.1,\"#c51b7d\"],[0.2,\"#de77ae\"],[0.3,\"#f1b6da\"],[0.4,\"#fde0ef\"],[0.5,\"#f7f7f7\"],[0.6,\"#e6f5d0\"],[0.7,\"#b8e186\"],[0.8,\"#7fbc41\"],[0.9,\"#4d9221\"],[1,\"#276419\"]]},\"xaxis\":{\"gridcolor\":\"white\",\"linecolor\":\"white\",\"ticks\":\"\",\"title\":{\"standoff\":15},\"zerolinecolor\":\"white\",\"automargin\":true,\"zerolinewidth\":2},\"yaxis\":{\"gridcolor\":\"white\",\"linecolor\":\"white\",\"ticks\":\"\",\"title\":{\"standoff\":15},\"zerolinecolor\":\"white\",\"automargin\":true,\"zerolinewidth\":2},\"scene\":{\"xaxis\":{\"backgroundcolor\":\"#E5ECF6\",\"gridcolor\":\"white\",\"linecolor\":\"white\",\"showbackground\":true,\"ticks\":\"\",\"zerolinecolor\":\"white\",\"gridwidth\":2},\"yaxis\":{\"backgroundcolor\":\"#E5ECF6\",\"gridcolor\":\"white\",\"linecolor\":\"white\",\"showbackground\":true,\"ticks\":\"\",\"zerolinecolor\":\"white\",\"gridwidth\":2},\"zaxis\":{\"backgroundcolor\":\"#E5ECF6\",\"gridcolor\":\"white\",\"linecolor\":\"white\",\"showbackground\":true,\"ticks\":\"\",\"zerolinecolor\":\"white\",\"gridwidth\":2}},\"shapedefaults\":{\"line\":{\"color\":\"#2a3f5f\"}},\"annotationdefaults\":{\"arrowcolor\":\"#2a3f5f\",\"arrowhead\":0,\"arrowwidth\":1},\"geo\":{\"bgcolor\":\"white\",\"landcolor\":\"#E5ECF6\",\"subunitcolor\":\"white\",\"showland\":true,\"showlakes\":true,\"lakecolor\":\"white\"},\"title\":{\"x\":0.05},\"mapbox\":{\"style\":\"light\"}}},\"xaxis\":{\"title\":{\"text\":\"Iteration\"},\"showgrid\":true,\"gridcolor\":\"lightgrey\"},\"yaxis\":{\"title\":{\"text\":\"Value\"},\"showgrid\":true,\"gridcolor\":\"lightgrey\"},\"title\":{\"text\":\"Gauss-Seidel Iteration\"},\"legend\":{\"title\":{\"text\":\"Variable\"}},\"plot_bgcolor\":\"white\"},                        {\"responsive\": true}                    ).then(function(){\n                            \nvar gd = document.getElementById('7809c5da-9b4f-4c41-b0ce-3e1bab22f924');\nvar x = new MutationObserver(function (mutations, observer) {{\n        var display = window.getComputedStyle(gd).display;\n        if (!display || display === 'none') {{\n            console.log([gd, 'removed!']);\n            Plotly.purge(gd);\n            observer.disconnect();\n        }}\n}});\n\n// Listen for the removal of the full notebook cells\nvar notebookContainer = gd.closest('#notebook-container');\nif (notebookContainer) {{\n    x.observe(notebookContainer, {childList: true});\n}}\n\n// Listen for the clearing of the current output cell\nvar outputEl = gd.closest('.output');\nif (outputEl) {{\n    x.observe(outputEl, {childList: true});\n}}\n\n                        })                };                });            </script>        </div>"
     },
     "metadata": {},
     "output_type": "display_data"
    }
   ],
   "source": [
    "import numpy as np\n",
    "import pandas as pd\n",
    "import plotly.graph_objects as go\n",
    "\n",
    "def gauss_seidel(A, b, x0, tol=1e-6, max_iter=1000):\n",
    "    \"\"\"\n",
    "    Perform stepwise implementation of Gauss-Seidel iteration to solve the linear system Ax = b.\n",
    "    \n",
    "    Parameters:\n",
    "        A (numpy.ndarray): Coefficient matrix of shape (n, n).\n",
    "        b (numpy.ndarray): Right-hand side vector of shape (n,).\n",
    "        x0 (numpy.ndarray): Initial guess for the solution, shape (n,).\n",
    "        tol (float): Tolerance for convergence (default 1e-6).\n",
    "        max_iter (int): Maximum number of iterations (default 1000).\n",
    "        \n",
    "    Returns:\n",
    "        pandas.DataFrame: DataFrame containing iteration number, solution values, and tolerance.\n",
    "    \"\"\"\n",
    "    n = len(b)\n",
    "    x = x0.copy()  # Initialize x with initial guess\n",
    "    \n",
    "    iterations_data = []  # List to store iteration data\n",
    "    \n",
    "    # Add iteration 0 with x0 values\n",
    "    iteration_values = {\"itr\": 0}  \n",
    "    for i in range(n):\n",
    "        iteration_values[f\"x{i+1}\"] = round(x[i], 4)  # Store x0 values\n",
    "    iteration_values[\"tol\"] = np.inf  # Initial tolerance is infinity\n",
    "    iterations_data.append(iteration_values)\n",
    "    \n",
    "    # Iterate until convergence or maximum iterations reached\n",
    "    for k in range(max_iter):\n",
    "        iteration_values = {\"itr\": k + 1}  # Dictionary to store iteration values\n",
    "        for i in range(n):\n",
    "            sigma = 0\n",
    "            for j in range(n):\n",
    "                if j != i:\n",
    "                    sigma += A[i, j] * x[j]\n",
    "            x[i] = (b[i] - sigma) / A[i, i]\n",
    "            iteration_values[f\"x{i+1}\"] = round(x[i], 4)  # Store x values for this iteration\n",
    "        \n",
    "        # Calculate tolerance\n",
    "        if k == 0:\n",
    "            tolerance = np.linalg.norm(np.dot(A, x) - b, 2)  # Use initial guess for tolerance calculation\n",
    "        else:\n",
    "            tolerance = np.linalg.norm(np.dot(A, x) - b, 2)  # Use current iteration values for tolerance calculation\n",
    "            \n",
    "        iteration_values[\"tol\"] = round(tolerance, 6)  # Store tolerance value for this iteration\n",
    "        iterations_data.append(iteration_values)  # Append iteration data\n",
    "        \n",
    "        # Check for convergence\n",
    "        if tolerance < tol:\n",
    "            break  # Convergence condition reached\n",
    "    \n",
    "    # Convert iteration data to DataFrame\n",
    "    df = pd.DataFrame(iterations_data)\n",
    "    return df\n",
    "\n",
    "# Example usage\n",
    "A = np.array([[10, -1, 2], \n",
    "              [1, 10, -1], \n",
    "              [-2, 1, 10]], dtype=float)\n",
    "b = np.array([6, 9, 6], dtype=float)\n",
    "x0 = np.zeros_like(b)\n",
    "\n",
    "iterations_df = gauss_seidel(A, b, x0)\n",
    "print(iterations_df)\n",
    "\n",
    "# Plotting with Plotly\n",
    "fig = go.Figure()\n",
    "\n",
    "# Plot each variable over iterations\n",
    "for i in range(len(iterations_df.columns) - 1):  # Skip 'itr' and 'tol' columns\n",
    "    fig.add_trace(go.Scatter(x=iterations_df[\"itr\"], y=iterations_df.iloc[:, i+1], mode='lines+markers', name=f'x{i+1}'))\n",
    "\n",
    "fig.add_trace(go.Scatter(x=iterations_df[\"itr\"], y=iterations_df[\"tol\"], mode='lines+markers', name='tolerance'))\n",
    "\n",
    "fig.update_layout(title='Gauss-Seidel Iteration',\n",
    "                  xaxis_title='Iteration',\n",
    "                  yaxis_title='Value',\n",
    "                  legend_title='Variable',\n",
    "                  plot_bgcolor='white',\n",
    "                  xaxis=dict(showgrid=True, gridcolor='lightgrey'),\n",
    "                  yaxis=dict(showgrid=True, gridcolor='lightgrey'))\n",
    "\n",
    "fig.show()\n"
   ],
   "metadata": {
    "collapsed": false,
    "ExecuteTime": {
     "end_time": "2024-03-21T10:29:25.217242Z",
     "start_time": "2024-03-21T10:29:25.188129Z"
    }
   },
   "id": "38e66340f7bccb3c"
  },
  {
   "cell_type": "code",
   "execution_count": null,
   "outputs": [],
   "source": [],
   "metadata": {
    "collapsed": false
   },
   "id": "de34664ff291561"
  }
 ],
 "metadata": {
  "kernelspec": {
   "display_name": "Python 3",
   "language": "python",
   "name": "python3"
  },
  "language_info": {
   "codemirror_mode": {
    "name": "ipython",
    "version": 2
   },
   "file_extension": ".py",
   "mimetype": "text/x-python",
   "name": "python",
   "nbconvert_exporter": "python",
   "pygments_lexer": "ipython2",
   "version": "2.7.6"
  }
 },
 "nbformat": 4,
 "nbformat_minor": 5
}
