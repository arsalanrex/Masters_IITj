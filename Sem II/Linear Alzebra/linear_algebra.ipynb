{
 "nbformat": 4,
 "nbformat_minor": 0,
 "metadata": {
  "colab": {
   "provenance": []
  },
  "kernelspec": {
   "name": "python3",
   "language": "python",
   "display_name": "Python 3 (ipykernel)"
  },
  "language_info": {
   "name": "python"
  }
 },
 "cells": [
  {
   "cell_type": "code",
   "execution_count": 1,
   "metadata": {
    "id": "PssIi4WG_0lX",
    "ExecuteTime": {
     "end_time": "2024-03-22T19:46:51.177711Z",
     "start_time": "2024-03-22T19:46:50.861696Z"
    }
   },
   "outputs": [],
   "source": [
    "#  Load Useful Python Libraries\n",
    "import numpy as np\n",
    "import sympy as sym\n",
    "\n",
    "sym.init_printing(use_unicode=True)"
   ]
  },
  {
   "cell_type": "code",
   "source": [
    "# Input\n",
    "# Make the type of matrix you want to solve on as M\n",
    "\n",
    "x, y, z, λ = sym.symbols('x y z λ')\n",
    "\n",
    "# Identity Matrix\n",
    "I = np.matrix([[1, 0, 0],\n",
    "               [0, 1, 0],\n",
    "               [0, 0, 1]])\n",
    "\n",
    "# 2x2 Matrix\n",
    "M2 = np.matrix([[10, -10],\n",
    "               [10, -10]])\n",
    "# 3x3 Matrix\n",
    "M = np.matrix([[1, -1, 0],\n",
    "                [-1, 1, 0],\n",
    "                [0, 0, 0]])\n",
    "\n",
    "# 3x4 Matrix\n",
    "Mg = np.matrix([[1, 1, 1, -5],\n",
    "               [1, 2, 3, -9],\n",
    "               [1, 3, 5, -13]])\n",
    "\n",
    "# 6x3 Matrix\n",
    "# Find inverse of 3x3 matrix using Gauss-Jordan Method\n",
    "M6x3 = np.matrix([[1, 1, 1, 1, 0, 0],\n",
    "               [1, 2, 3, 0, 1, 0],\n",
    "               [0, 1, 1, 0, 0, 1]])\n",
    "\n",
    "# 6x4 Matrix\n",
    "M6x4 = np.matrix([[1, 1, 2, 2, 1, 1],\n",
    "               [2, 2, 4, 4, 3, 1],\n",
    "               [2, 2, 4, 4, 2, 2],\n",
    "               [3, 5, 8, 6, 5, 3]])"
   ],
   "metadata": {
    "id": "bZ_B7JlvAzVn",
    "ExecuteTime": {
     "end_time": "2024-03-22T19:46:52.917928Z",
     "start_time": "2024-03-22T19:46:52.912575Z"
    }
   },
   "execution_count": 2,
   "outputs": []
  },
  {
   "cell_type": "code",
   "source": [
    "# Common operations on Matrix\n",
    "import math\n",
    "a = math.sqrt(2)\n",
    "\n",
    "# 2x2 Matrix\n",
    "M3 = np.matrix([[-1/a,  1/a],\n",
    "                [-1/a, -1/a]])\n",
    "\n",
    "# 3x3 Matrix\n",
    "M4 = np.matrix([[ 5, 7],\n",
    "                [-2,-4]])\n",
    "# 3x3 Matrix\n",
    "M5 = np.matrix([[-1/a, -1/a],\n",
    "                [ 1/a, -1/a]])\n",
    "\n",
    "M6 = np.matrix([[ 1, 0, 1],\n",
    "                [-2, 1, 0]])\n",
    "\n",
    "\n",
    "\n",
    "\n",
    "sym.Matrix((M6).transpose()*M6).eigenvects()"
   ],
   "metadata": {
    "colab": {
     "base_uri": "https://localhost:8080/",
     "height": 78
    },
    "id": "P4GROczUTFj-",
    "outputId": "89ad68bd-5dad-46ea-c9fb-6bc6e3cccc97",
    "ExecuteTime": {
     "end_time": "2024-03-22T19:46:57.219689Z",
     "start_time": "2024-03-22T19:46:56.443367Z"
    }
   },
   "execution_count": 3,
   "outputs": [
    {
     "data": {
      "text/plain": "⎡⎛      ⎡⎡-1⎤⎤⎞  ⎛      ⎡⎡ 0 ⎤⎤⎞  ⎛      ⎡⎡5 ⎤⎤⎞⎤\n⎢⎜      ⎢⎢  ⎥⎥⎟  ⎜      ⎢⎢   ⎥⎥⎟  ⎜      ⎢⎢  ⎥⎥⎟⎥\n⎢⎜0, 1, ⎢⎢-2⎥⎥⎟, ⎜1, 1, ⎢⎢1/2⎥⎥⎟, ⎜6, 1, ⎢⎢-2⎥⎥⎟⎥\n⎢⎜      ⎢⎢  ⎥⎥⎟  ⎜      ⎢⎢   ⎥⎥⎟  ⎜      ⎢⎢  ⎥⎥⎟⎥\n⎣⎝      ⎣⎣1 ⎦⎦⎠  ⎝      ⎣⎣ 1 ⎦⎦⎠  ⎝      ⎣⎣1 ⎦⎦⎠⎦",
      "text/latex": "$\\displaystyle \\left[ \\left( 0, \\  1, \\  \\left[ \\left[\\begin{matrix}-1\\\\-2\\\\1\\end{matrix}\\right]\\right]\\right), \\  \\left( 1, \\  1, \\  \\left[ \\left[\\begin{matrix}0\\\\\\frac{1}{2}\\\\1\\end{matrix}\\right]\\right]\\right), \\  \\left( 6, \\  1, \\  \\left[ \\left[\\begin{matrix}5\\\\-2\\\\1\\end{matrix}\\right]\\right]\\right)\\right]$"
     },
     "execution_count": 3,
     "metadata": {},
     "output_type": "execute_result"
    }
   ]
  },
  {
   "cell_type": "code",
   "source": [
    "# Row reduced echlon form\n",
    "# Use M3x4 for solution of matrix\n",
    "# Find inverse of 3x3 matrix using Gauss-Jordan Method\n",
    "\n",
    "sym.Matrix(M).rref()"
   ],
   "metadata": {
    "colab": {
     "base_uri": "https://localhost:8080/",
     "height": 78
    },
    "id": "L_q4AV6d__mr",
    "outputId": "5c1a50a1-3bf1-436b-be83-aa3025257946",
    "ExecuteTime": {
     "end_time": "2024-03-22T19:46:58.292653Z",
     "start_time": "2024-03-22T19:46:58.174985Z"
    }
   },
   "execution_count": 4,
   "outputs": [
    {
     "data": {
      "text/plain": "⎛⎡1  -1  0⎤      ⎞\n⎜⎢        ⎥      ⎟\n⎜⎢0  0   0⎥, (0,)⎟\n⎜⎢        ⎥      ⎟\n⎝⎣0  0   0⎦      ⎠",
      "text/latex": "$\\displaystyle \\left( \\left[\\begin{matrix}1 & -1 & 0\\\\0 & 0 & 0\\\\0 & 0 & 0\\end{matrix}\\right], \\  \\left( 0,\\right)\\right)$"
     },
     "execution_count": 4,
     "metadata": {},
     "output_type": "execute_result"
    }
   ]
  },
  {
   "cell_type": "code",
   "source": [
    "# Reduced echlon form\n",
    "# whe performing operation with symbols\n",
    "\n",
    "sym.Matrix(M).echelon_form()"
   ],
   "metadata": {
    "colab": {
     "base_uri": "https://localhost:8080/",
     "height": 78
    },
    "id": "8AP3hWoNmCk6",
    "outputId": "65d7ad04-66f7-49d4-d260-116575fcd0c9",
    "ExecuteTime": {
     "end_time": "2024-03-22T19:47:00.823681Z",
     "start_time": "2024-03-22T19:47:00.707132Z"
    }
   },
   "execution_count": 5,
   "outputs": [
    {
     "data": {
      "text/plain": "⎡1  -1  0⎤\n⎢        ⎥\n⎢0  0   0⎥\n⎢        ⎥\n⎣0  0   0⎦",
      "text/latex": "$\\displaystyle \\left[\\begin{matrix}1 & -1 & 0\\\\0 & 0 & 0\\\\0 & 0 & 0\\end{matrix}\\right]$"
     },
     "execution_count": 5,
     "metadata": {},
     "output_type": "execute_result"
    }
   ]
  },
  {
   "cell_type": "code",
   "source": [
    "# Rank of Matrix\n",
    "\n",
    "sym.Matrix(M).rank()"
   ],
   "metadata": {
    "colab": {
     "base_uri": "https://localhost:8080/",
     "height": 37
    },
    "id": "OyopAnZsW2nq",
    "outputId": "1b9cd356-9ece-4d17-abf4-15dbf5e21e73",
    "ExecuteTime": {
     "end_time": "2024-03-22T19:47:01.044866Z",
     "start_time": "2024-03-22T19:47:00.927408Z"
    }
   },
   "execution_count": 6,
   "outputs": [
    {
     "data": {
      "text/plain": "1",
      "image/png": "[encoded data removed]",
      "text/latex": "$\\displaystyle 1$"
     },
     "execution_count": 6,
     "metadata": {},
     "output_type": "execute_result"
    }
   ]
  },
  {
   "cell_type": "code",
   "source": [
    "# determinant of a matrix\n",
    "\n",
    "sym.Matrix(M).det()"
   ],
   "metadata": {
    "colab": {
     "base_uri": "https://localhost:8080/",
     "height": 37
    },
    "id": "Tt3lyqJlHz4W",
    "outputId": "1803d788-0e82-4dd0-fbe8-3ec1fcd549e1",
    "ExecuteTime": {
     "end_time": "2024-03-22T19:47:01.219277Z",
     "start_time": "2024-03-22T19:47:01.127655Z"
    }
   },
   "execution_count": 7,
   "outputs": [
    {
     "data": {
      "text/plain": "0",
      "image/png": "[encoded data removed]",
      "text/latex": "$\\displaystyle 0$"
     },
     "execution_count": 7,
     "metadata": {},
     "output_type": "execute_result"
    }
   ]
  },
  {
   "cell_type": "code",
   "source": [
    "# Eigen Values\n",
    "# {eigen value : no of instances}\n",
    "\n",
    "sym.Matrix(M).eigenvals()"
   ],
   "metadata": {
    "colab": {
     "base_uri": "https://localhost:8080/",
     "height": 37
    },
    "id": "qum6CCuEAOzS",
    "outputId": "59050180-a474-470a-d9c7-6d468873cb5c",
    "ExecuteTime": {
     "end_time": "2024-03-22T19:47:01.432946Z",
     "start_time": "2024-03-22T19:47:01.329767Z"
    }
   },
   "execution_count": 8,
   "outputs": [
    {
     "data": {
      "text/plain": "{0: 2, 2: 1}",
      "image/png": "[encoded data removed]",
      "text/latex": "$\\displaystyle \\left\\{ 0 : 2, \\  2 : 1\\right\\}$"
     },
     "execution_count": 8,
     "metadata": {},
     "output_type": "execute_result"
    }
   ]
  },
  {
   "cell_type": "code",
   "source": [
    "# Eigen Vectors\n",
    "# {eigen value, no of instances, eigen vector}\n",
    "\n",
    "sym.Matrix(M).eigenvects()"
   ],
   "metadata": {
    "colab": {
     "base_uri": "https://localhost:8080/",
     "height": 105
    },
    "id": "_cl4aF8sBdVs",
    "outputId": "c9fd8707-95e5-4d76-c24a-43d0a449c021",
    "ExecuteTime": {
     "end_time": "2024-03-22T19:47:01.576203Z",
     "start_time": "2024-03-22T19:47:01.478754Z"
    }
   },
   "execution_count": 9,
   "outputs": [
    {
     "data": {
      "text/plain": "⎡⎛      ⎡⎡1⎤  ⎡0⎤⎤⎞  ⎛      ⎡⎡-1⎤⎤⎞⎤\n⎢⎜      ⎢⎢ ⎥  ⎢ ⎥⎥⎟  ⎜      ⎢⎢  ⎥⎥⎟⎥\n⎢⎜0, 2, ⎢⎢1⎥, ⎢0⎥⎥⎟, ⎜2, 1, ⎢⎢1 ⎥⎥⎟⎥\n⎢⎜      ⎢⎢ ⎥  ⎢ ⎥⎥⎟  ⎜      ⎢⎢  ⎥⎥⎟⎥\n⎣⎝      ⎣⎣0⎦  ⎣1⎦⎦⎠  ⎝      ⎣⎣0 ⎦⎦⎠⎦",
      "text/latex": "$\\displaystyle \\left[ \\left( 0, \\  2, \\  \\left[ \\left[\\begin{matrix}1\\\\1\\\\0\\end{matrix}\\right], \\  \\left[\\begin{matrix}0\\\\0\\\\1\\end{matrix}\\right]\\right]\\right), \\  \\left( 2, \\  1, \\  \\left[ \\left[\\begin{matrix}-1\\\\1\\\\0\\end{matrix}\\right]\\right]\\right)\\right]$"
     },
     "execution_count": 9,
     "metadata": {},
     "output_type": "execute_result"
    }
   ]
  },
  {
   "cell_type": "code",
   "source": [
    "# Check if Matrix M is diagonalizable\n",
    "\n",
    "sym.Matrix(M).is_diagonalizable()"
   ],
   "metadata": {
    "colab": {
     "base_uri": "https://localhost:8080/"
    },
    "id": "wdpJ6N0LHBQ6",
    "outputId": "d30a3d87-01aa-4e74-f0d7-96f1638a3342",
    "ExecuteTime": {
     "end_time": "2024-03-22T19:47:01.631603Z",
     "start_time": "2024-03-22T19:47:01.627592Z"
    }
   },
   "execution_count": 10,
   "outputs": [
    {
     "data": {
      "text/plain": "True"
     },
     "execution_count": 10,
     "metadata": {},
     "output_type": "execute_result"
    }
   ]
  },
  {
   "cell_type": "code",
   "source": [
    "# Cofactor of Matrix\n",
    "\n",
    "def matrix_cofactor(matrix):\n",
    "\n",
    "    try:\n",
    "        determinant = np.linalg.det(matrix)\n",
    "        if(determinant!=0):\n",
    "            cofactor = None\n",
    "            cofactor = np.linalg.inv(matrix).T * determinant\n",
    "            # return cofactor matrix of the given matrix\n",
    "            return cofactor\n",
    "        else:\n",
    "            raise Exception(\"singular matrix\")\n",
    "    except Exception as e:\n",
    "        print(\"could not find cofactor matrix due to\",e)\n",
    "\n",
    "print(matrix_cofactor(M))"
   ],
   "metadata": {
    "colab": {
     "base_uri": "https://localhost:8080/"
    },
    "id": "CgXRXaffL6qQ",
    "outputId": "764e70bf-bced-4586-bc33-22443cd01456",
    "ExecuteTime": {
     "end_time": "2024-03-22T19:47:01.818819Z",
     "start_time": "2024-03-22T19:47:01.813512Z"
    }
   },
   "execution_count": 11,
   "outputs": [
    {
     "name": "stdout",
     "output_type": "stream",
     "text": [
      "could not find cofactor matrix due to singular matrix\n",
      "None\n"
     ]
    }
   ]
  },
  {
   "cell_type": "code",
   "source": [
    "# adjugate of a matrix\n",
    "# adjucate[m] = Transpose[cofactor[m]]\n",
    "\n",
    "sym.Matrix(M).adjugate()"
   ],
   "metadata": {
    "colab": {
     "base_uri": "https://localhost:8080/",
     "height": 78
    },
    "id": "Ix4kA6wWL6oK",
    "outputId": "d7c5831e-eb61-41b3-a998-b3a3b7d069b5",
    "ExecuteTime": {
     "end_time": "2024-03-22T19:47:02.061987Z",
     "start_time": "2024-03-22T19:47:01.963693Z"
    }
   },
   "execution_count": 12,
   "outputs": [
    {
     "data": {
      "text/plain": "⎡0  0  0⎤\n⎢       ⎥\n⎢0  0  0⎥\n⎢       ⎥\n⎣0  0  0⎦",
      "text/latex": "$\\displaystyle \\left[\\begin{matrix}0 & 0 & 0\\\\0 & 0 & 0\\\\0 & 0 & 0\\end{matrix}\\right]$"
     },
     "execution_count": 12,
     "metadata": {},
     "output_type": "execute_result"
    }
   ]
  },
  {
   "cell_type": "code",
   "source": [
    "# inverse of a matrix\n",
    "# inverse[M] = adjugate[M]/determinant[m]\n",
    "# only eists when determinant is non-zero\n",
    "\n",
    "sym.Matrix(M).inv()"
   ],
   "metadata": {
    "colab": {
     "base_uri": "https://localhost:8080/",
     "height": 78
    },
    "id": "qIk03VrEL6lo",
    "outputId": "d4ff9827-3269-4482-e8e7-07a08fb11de6",
    "ExecuteTime": {
     "end_time": "2024-03-22T19:47:02.416609Z",
     "start_time": "2024-03-22T19:47:02.127541Z"
    }
   },
   "execution_count": 13,
   "outputs": [
    {
     "ename": "NonInvertibleMatrixError",
     "evalue": "Matrix det == 0; not invertible.",
     "output_type": "error",
     "traceback": [
      "\u001B[0;31m---------------------------------------------------------------------------\u001B[0m",
      "\u001B[0;31mNonInvertibleMatrixError\u001B[0m                  Traceback (most recent call last)",
      "Cell \u001B[0;32mIn[13], line 5\u001B[0m\n\u001B[1;32m      1\u001B[0m \u001B[38;5;66;03m# inverse of a matrix\u001B[39;00m\n\u001B[1;32m      2\u001B[0m \u001B[38;5;66;03m# inverse[M] = adjugate[M]/determinant[m]\u001B[39;00m\n\u001B[1;32m      3\u001B[0m \u001B[38;5;66;03m# only eists when determinant is non-zero\u001B[39;00m\n\u001B[0;32m----> 5\u001B[0m \u001B[43msym\u001B[49m\u001B[38;5;241;43m.\u001B[39;49m\u001B[43mMatrix\u001B[49m\u001B[43m(\u001B[49m\u001B[43mM\u001B[49m\u001B[43m)\u001B[49m\u001B[38;5;241;43m.\u001B[39;49m\u001B[43minv\u001B[49m\u001B[43m(\u001B[49m\u001B[43m)\u001B[49m\n",
      "File \u001B[0;32m~/Developer/Pycharm/Masters_IITj/venv/lib/python3.9/site-packages/sympy/matrices/matrices.py:2177\u001B[0m, in \u001B[0;36mMatrixBase.inv\u001B[0;34m(self, method, iszerofunc, try_block_diag)\u001B[0m\n\u001B[1;32m   2176\u001B[0m \u001B[38;5;28;01mdef\u001B[39;00m \u001B[38;5;21minv\u001B[39m(\u001B[38;5;28mself\u001B[39m, method\u001B[38;5;241m=\u001B[39m\u001B[38;5;28;01mNone\u001B[39;00m, iszerofunc\u001B[38;5;241m=\u001B[39m_iszero, try_block_diag\u001B[38;5;241m=\u001B[39m\u001B[38;5;28;01mFalse\u001B[39;00m):\n\u001B[0;32m-> 2177\u001B[0m     \u001B[38;5;28;01mreturn\u001B[39;00m \u001B[43m_inv\u001B[49m\u001B[43m(\u001B[49m\u001B[38;5;28;43mself\u001B[39;49m\u001B[43m,\u001B[49m\u001B[43m \u001B[49m\u001B[43mmethod\u001B[49m\u001B[38;5;241;43m=\u001B[39;49m\u001B[43mmethod\u001B[49m\u001B[43m,\u001B[49m\u001B[43m \u001B[49m\u001B[43miszerofunc\u001B[49m\u001B[38;5;241;43m=\u001B[39;49m\u001B[43miszerofunc\u001B[49m\u001B[43m,\u001B[49m\n\u001B[1;32m   2178\u001B[0m \u001B[43m            \u001B[49m\u001B[43mtry_block_diag\u001B[49m\u001B[38;5;241;43m=\u001B[39;49m\u001B[43mtry_block_diag\u001B[49m\u001B[43m)\u001B[49m\n",
      "File \u001B[0;32m~/Developer/Pycharm/Masters_IITj/venv/lib/python3.9/site-packages/sympy/matrices/inverse.py:459\u001B[0m, in \u001B[0;36m_inv\u001B[0;34m(M, method, iszerofunc, try_block_diag)\u001B[0m\n\u001B[1;32m    456\u001B[0m     \u001B[38;5;28;01mreturn\u001B[39;00m diag(\u001B[38;5;241m*\u001B[39mr)\n\u001B[1;32m    458\u001B[0m \u001B[38;5;28;01mif\u001B[39;00m method \u001B[38;5;241m==\u001B[39m \u001B[38;5;124m\"\u001B[39m\u001B[38;5;124mGE\u001B[39m\u001B[38;5;124m\"\u001B[39m:\n\u001B[0;32m--> 459\u001B[0m     rv \u001B[38;5;241m=\u001B[39m \u001B[43mM\u001B[49m\u001B[38;5;241;43m.\u001B[39;49m\u001B[43minverse_GE\u001B[49m\u001B[43m(\u001B[49m\u001B[43miszerofunc\u001B[49m\u001B[38;5;241;43m=\u001B[39;49m\u001B[43miszerofunc\u001B[49m\u001B[43m)\u001B[49m\n\u001B[1;32m    460\u001B[0m \u001B[38;5;28;01melif\u001B[39;00m method \u001B[38;5;241m==\u001B[39m \u001B[38;5;124m\"\u001B[39m\u001B[38;5;124mLU\u001B[39m\u001B[38;5;124m\"\u001B[39m:\n\u001B[1;32m    461\u001B[0m     rv \u001B[38;5;241m=\u001B[39m M\u001B[38;5;241m.\u001B[39minverse_LU(iszerofunc\u001B[38;5;241m=\u001B[39miszerofunc)\n",
      "File \u001B[0;32m~/Developer/Pycharm/Masters_IITj/venv/lib/python3.9/site-packages/sympy/matrices/matrices.py:2162\u001B[0m, in \u001B[0;36mMatrixBase.inverse_GE\u001B[0;34m(self, iszerofunc)\u001B[0m\n\u001B[1;32m   2161\u001B[0m \u001B[38;5;28;01mdef\u001B[39;00m \u001B[38;5;21minverse_GE\u001B[39m(\u001B[38;5;28mself\u001B[39m, iszerofunc\u001B[38;5;241m=\u001B[39m_iszero):\n\u001B[0;32m-> 2162\u001B[0m     \u001B[38;5;28;01mreturn\u001B[39;00m \u001B[43m_inv_GE\u001B[49m\u001B[43m(\u001B[49m\u001B[38;5;28;43mself\u001B[39;49m\u001B[43m,\u001B[49m\u001B[43m \u001B[49m\u001B[43miszerofunc\u001B[49m\u001B[38;5;241;43m=\u001B[39;49m\u001B[43miszerofunc\u001B[49m\u001B[43m)\u001B[49m\n",
      "File \u001B[0;32m~/Developer/Pycharm/Masters_IITj/venv/lib/python3.9/site-packages/sympy/matrices/inverse.py:245\u001B[0m, in \u001B[0;36m_inv_GE\u001B[0;34m(M, iszerofunc)\u001B[0m\n\u001B[1;32m    242\u001B[0m red \u001B[38;5;241m=\u001B[39m big\u001B[38;5;241m.\u001B[39mrref(iszerofunc\u001B[38;5;241m=\u001B[39miszerofunc, simplify\u001B[38;5;241m=\u001B[39m\u001B[38;5;28;01mTrue\u001B[39;00m)[\u001B[38;5;241m0\u001B[39m]\n\u001B[1;32m    244\u001B[0m \u001B[38;5;28;01mif\u001B[39;00m \u001B[38;5;28many\u001B[39m(iszerofunc(red[j, j]) \u001B[38;5;28;01mfor\u001B[39;00m j \u001B[38;5;129;01min\u001B[39;00m \u001B[38;5;28mrange\u001B[39m(red\u001B[38;5;241m.\u001B[39mrows)):\n\u001B[0;32m--> 245\u001B[0m     \u001B[38;5;28;01mraise\u001B[39;00m NonInvertibleMatrixError(\u001B[38;5;124m\"\u001B[39m\u001B[38;5;124mMatrix det == 0; not invertible.\u001B[39m\u001B[38;5;124m\"\u001B[39m)\n\u001B[1;32m    247\u001B[0m \u001B[38;5;28;01mreturn\u001B[39;00m M\u001B[38;5;241m.\u001B[39m_new(red[:, big\u001B[38;5;241m.\u001B[39mrows:])\n",
      "\u001B[0;31mNonInvertibleMatrixError\u001B[0m: Matrix det == 0; not invertible."
     ]
    }
   ]
  },
  {
   "cell_type": "code",
   "source": [
    "# Singular Value Decomposition - SVD\n",
    "\n",
    "A = np.array([[3, 4, 3],\n",
    "              [1, 2, 3],\n",
    "              [4, 2, 1]])\n",
    "\n",
    "#Performing SVD\n",
    "U, D, VT = np.linalg.svd(A)\n",
    "\n",
    "print(U, \"\\n\\n\", D, \"\\n\\n\", VT, \"\\n\\n\")\n",
    "\n",
    "#Checking if we can remake the original matrix using U,D,VT\n",
    "#A_remake = (U @ np.diag(D) @ VT)\n",
    "#print(A_remake)\n"
   ],
   "metadata": {
    "colab": {
     "base_uri": "https://localhost:8080/"
    },
    "id": "ula958wKnAMm",
    "outputId": "56926a7f-624d-4633-8f37-e91dc11ea27c",
    "ExecuteTime": {
     "end_time": "2024-03-22T19:47:02.420051Z",
     "start_time": "2024-03-22T19:47:02.417263Z"
    }
   },
   "execution_count": null,
   "outputs": []
  },
  {
   "cell_type": "code",
   "source": [
    "S = np.matrix([[4, 2, 2],\n",
    "              [2, 7, 4],\n",
    "              [2, 4, 7]])\n",
    "\n",
    "sym.Matrix(S).eigenvects()\n"
   ],
   "metadata": {
    "colab": {
     "base_uri": "https://localhost:8080/",
     "height": 78
    },
    "id": "Y4Hl2Ixut7D5",
    "outputId": "064f362f-e410-4348-aeaa-24ce6dc78237",
    "ExecuteTime": {
     "end_time": "2024-03-22T19:47:02.553156Z",
     "start_time": "2024-03-22T19:47:02.464738Z"
    }
   },
   "execution_count": 14,
   "outputs": [
    {
     "data": {
      "text/plain": "⎡⎛      ⎡⎡-2⎤  ⎡-2⎤⎤⎞  ⎛       ⎡⎡1/2⎤⎤⎞⎤\n⎢⎜      ⎢⎢  ⎥  ⎢  ⎥⎥⎟  ⎜       ⎢⎢   ⎥⎥⎟⎥\n⎢⎜3, 2, ⎢⎢1 ⎥, ⎢0 ⎥⎥⎟, ⎜12, 1, ⎢⎢ 1 ⎥⎥⎟⎥\n⎢⎜      ⎢⎢  ⎥  ⎢  ⎥⎥⎟  ⎜       ⎢⎢   ⎥⎥⎟⎥\n⎣⎝      ⎣⎣0 ⎦  ⎣1 ⎦⎦⎠  ⎝       ⎣⎣ 1 ⎦⎦⎠⎦",
      "text/latex": "$\\displaystyle \\left[ \\left( 3, \\  2, \\  \\left[ \\left[\\begin{matrix}-2\\\\1\\\\0\\end{matrix}\\right], \\  \\left[\\begin{matrix}-2\\\\0\\\\1\\end{matrix}\\right]\\right]\\right), \\  \\left( 12, \\  1, \\  \\left[ \\left[\\begin{matrix}\\frac{1}{2}\\\\1\\\\1\\end{matrix}\\right]\\right]\\right)\\right]$"
     },
     "execution_count": 14,
     "metadata": {},
     "output_type": "execute_result"
    }
   ]
  },
  {
   "cell_type": "code",
   "execution_count": 14,
   "outputs": [],
   "source": [],
   "metadata": {
    "collapsed": false,
    "ExecuteTime": {
     "end_time": "2024-03-22T19:47:02.632331Z",
     "start_time": "2024-03-22T19:47:02.625758Z"
    }
   }
  },
  {
   "cell_type": "code",
   "execution_count": null,
   "outputs": [],
   "source": [],
   "metadata": {
    "collapsed": false
   }
  }
 ]
}
