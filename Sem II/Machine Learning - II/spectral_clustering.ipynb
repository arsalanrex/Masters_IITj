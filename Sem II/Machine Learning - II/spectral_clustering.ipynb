{
 "cells": [
  {
   "cell_type": "code",
   "execution_count": 32,
   "outputs": [],
   "source": [
    "import numpy as np\n",
    "import sympy as sym\n",
    "\n",
    "sym.init_printing(use_unicode=True)\n",
    "\n",
    "x, y, z, λ = sym.symbols('x y z λ')"
   ],
   "metadata": {
    "collapsed": false,
    "ExecuteTime": {
     "end_time": "2024-03-22T20:00:20.852370Z",
     "start_time": "2024-03-22T20:00:20.844845Z"
    }
   },
   "id": "59c92df4df1dcc4a"
  },
  {
   "cell_type": "code",
   "execution_count": 37,
   "outputs": [
    {
     "name": "stdout",
     "output_type": "stream",
     "text": [
      "[[ 1 -1  0]\n",
      " [-1  1  0]\n",
      " [ 0  0  0]]\n"
     ]
    }
   ],
   "source": [
    "# sum of all the weights of the edges connected to the node\n",
    "D = np.matrix([[1, 0, 0],\n",
    "               [0, 1, 0],\n",
    "               [0, 0, 0]])\n",
    "\n",
    "# all the weights of the edges\n",
    "W = np.matrix([[0, 1, 0],\n",
    "               [1, 0, 0],\n",
    "               [0, 0, 0]])\n",
    "\n",
    "# identity matrix\n",
    "I2 = np.matrix([[1, 0],\n",
    "                [0, 1]])\n",
    "\n",
    "# identity matrix\n",
    "I3 = np.matrix([[1, 0, 0],\n",
    "                [0, 1, 0],\n",
    "                [0, 0, 1]])\n",
    "\n",
    "c = 2\n",
    "\n",
    "L = D - W\n",
    "print(L)"
   ],
   "metadata": {
    "collapsed": false,
    "ExecuteTime": {
     "end_time": "2024-03-22T20:02:29.413856Z",
     "start_time": "2024-03-22T20:02:29.409138Z"
    }
   },
   "id": "initial_id"
  },
  {
   "cell_type": "code",
   "execution_count": 38,
   "outputs": [
    {
     "data": {
      "text/plain": "⎡1 - λ   -1    0 ⎤\n⎢                ⎥\n⎢ -1    1 - λ  0 ⎥\n⎢                ⎥\n⎣  0      0    -λ⎦",
      "text/latex": "$\\displaystyle \\left[\\begin{matrix}1 - λ & -1 & 0\\\\-1 & 1 - λ & 0\\\\0 & 0 & - λ\\end{matrix}\\right]$"
     },
     "execution_count": 38,
     "metadata": {},
     "output_type": "execute_result"
    }
   ],
   "source": [
    "sym.Matrix(L - λ*I3)"
   ],
   "metadata": {
    "collapsed": false,
    "ExecuteTime": {
     "end_time": "2024-03-22T20:02:30.395368Z",
     "start_time": "2024-03-22T20:02:30.288083Z"
    }
   },
   "id": "70551ff0218f4761"
  },
  {
   "cell_type": "code",
   "execution_count": 13,
   "outputs": [
    {
     "data": {
      "text/plain": "⎡⎛      ⎡⎡1⎤  ⎡0⎤⎤⎞  ⎛      ⎡⎡-1⎤⎤⎞⎤\n⎢⎜      ⎢⎢ ⎥  ⎢ ⎥⎥⎟  ⎜      ⎢⎢  ⎥⎥⎟⎥\n⎢⎜0, 2, ⎢⎢1⎥, ⎢0⎥⎥⎟, ⎜2, 1, ⎢⎢1 ⎥⎥⎟⎥\n⎢⎜      ⎢⎢ ⎥  ⎢ ⎥⎥⎟  ⎜      ⎢⎢  ⎥⎥⎟⎥\n⎣⎝      ⎣⎣0⎦  ⎣1⎦⎦⎠  ⎝      ⎣⎣0 ⎦⎦⎠⎦",
      "text/latex": "$\\displaystyle \\left[ \\left( 0, \\  2, \\  \\left[ \\left[\\begin{matrix}1\\\\1\\\\0\\end{matrix}\\right], \\  \\left[\\begin{matrix}0\\\\0\\\\1\\end{matrix}\\right]\\right]\\right), \\  \\left( 2, \\  1, \\  \\left[ \\left[\\begin{matrix}-1\\\\1\\\\0\\end{matrix}\\right]\\right]\\right)\\right]$"
     },
     "execution_count": 13,
     "metadata": {},
     "output_type": "execute_result"
    }
   ],
   "source": [
    "sym.Matrix(L).eigenvects()"
   ],
   "metadata": {
    "collapsed": false,
    "ExecuteTime": {
     "end_time": "2024-03-22T19:52:42.682023Z",
     "start_time": "2024-03-22T19:52:42.572688Z"
    }
   },
   "id": "d00f434c024f9640"
  },
  {
   "cell_type": "code",
   "execution_count": 45,
   "outputs": [
    {
     "data": {
      "text/plain": "array([0.70710678, 0.70710678, 0.        ])"
     },
     "execution_count": 45,
     "metadata": {},
     "output_type": "execute_result"
    }
   ],
   "source": [
    "# take 2-norm of minimum c eigenvectors\n",
    "v = np.array([1, 1, 0])\n",
    "v = v / np.linalg.norm(v)\n",
    "v "
   ],
   "metadata": {
    "collapsed": false,
    "ExecuteTime": {
     "end_time": "2024-03-22T20:11:35.352563Z",
     "start_time": "2024-03-22T20:11:35.346265Z"
    }
   },
   "id": "bc565f2f808d13ad"
  },
  {
   "cell_type": "code",
   "execution_count": 46,
   "outputs": [
    {
     "data": {
      "text/plain": "array([0., 0., 1.])"
     },
     "execution_count": 46,
     "metadata": {},
     "output_type": "execute_result"
    }
   ],
   "source": [
    "v = np.array([0, 0, 1])\n",
    "v = v / np.linalg.norm(v)\n",
    "v "
   ],
   "metadata": {
    "collapsed": false,
    "ExecuteTime": {
     "end_time": "2024-03-22T20:24:45.780356Z",
     "start_time": "2024-03-22T20:24:45.769697Z"
    }
   },
   "id": "b4a88b839e6028c5"
  },
  {
   "cell_type": "code",
   "execution_count": null,
   "outputs": [],
   "source": [],
   "metadata": {
    "collapsed": false
   },
   "id": "8f85cbdcc64e514d"
  }
 ],
 "metadata": {
  "kernelspec": {
   "display_name": "Python 3",
   "language": "python",
   "name": "python3"
  },
  "language_info": {
   "codemirror_mode": {
    "name": "ipython",
    "version": 2
   },
   "file_extension": ".py",
   "mimetype": "text/x-python",
   "name": "python",
   "nbconvert_exporter": "python",
   "pygments_lexer": "ipython2",
   "version": "2.7.6"
  }
 },
 "nbformat": 4,
 "nbformat_minor": 5
}
