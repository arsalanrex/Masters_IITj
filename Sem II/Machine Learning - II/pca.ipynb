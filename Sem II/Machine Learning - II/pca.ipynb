{
 "cells": [
  {
   "cell_type": "code",
   "execution_count": 17,
   "id": "initial_id",
   "metadata": {
    "collapsed": true,
    "ExecuteTime": {
     "end_time": "2024-03-22T20:21:38.632444Z",
     "start_time": "2024-03-22T20:21:38.623351Z"
    }
   },
   "outputs": [],
   "source": [
    "import numpy as np\n",
    "import sympy as sym\n",
    "\n",
    "sym.init_printing(use_unicode=True)\n",
    "\n",
    "x, y, z, λ = sym.symbols('x y z λ')\n"
   ]
  },
  {
   "cell_type": "code",
   "execution_count": 23,
   "outputs": [
    {
     "data": {
      "text/plain": "⎡-2  -1  0  1  2⎤\n⎢               ⎥\n⎣-2  -1  0  1  2⎦",
      "text/latex": "$\\displaystyle \\left[\\begin{matrix}-2 & -1 & 0 & 1 & 2\\\\-2 & -1 & 0 & 1 & 2\\end{matrix}\\right]$"
     },
     "execution_count": 23,
     "metadata": {},
     "output_type": "execute_result"
    }
   ],
   "source": [
    "x = np.matrix([[-2, -1, 0, 1, 2],\n",
    "               [-2, -1, 0, 1, 2]])\n",
    "\n",
    "# identity matrix\n",
    "I2 = np.matrix([[1, 0],\n",
    "                [0, 1]])\n",
    "\n",
    "# identity matrix\n",
    "I3 = np.matrix([[1, 0, 0],\n",
    "                [0, 1, 0],\n",
    "                [0, 0, 1]])\n",
    "\n",
    "sym.Matrix(x)"
   ],
   "metadata": {
    "collapsed": false,
    "ExecuteTime": {
     "end_time": "2024-03-22T20:23:03.905071Z",
     "start_time": "2024-03-22T20:23:03.773922Z"
    }
   },
   "id": "49083989b266fe81"
  },
  {
   "cell_type": "code",
   "execution_count": 24,
   "outputs": [
    {
     "data": {
      "text/plain": "⎡-2  -2⎤\n⎢      ⎥\n⎢-1  -1⎥\n⎢      ⎥\n⎢0   0 ⎥\n⎢      ⎥\n⎢1   1 ⎥\n⎢      ⎥\n⎣2   2 ⎦",
      "text/latex": "$\\displaystyle \\left[\\begin{matrix}-2 & -2\\\\-1 & -1\\\\0 & 0\\\\1 & 1\\\\2 & 2\\end{matrix}\\right]$"
     },
     "execution_count": 24,
     "metadata": {},
     "output_type": "execute_result"
    }
   ],
   "source": [
    "sym.Matrix(x).transpose()"
   ],
   "metadata": {
    "collapsed": false,
    "ExecuteTime": {
     "end_time": "2024-03-22T20:23:04.081687Z",
     "start_time": "2024-03-22T20:23:03.981618Z"
    }
   },
   "id": "b3441490143be757"
  },
  {
   "cell_type": "code",
   "execution_count": 25,
   "outputs": [
    {
     "data": {
      "text/plain": "⎡10  10⎤\n⎢      ⎥\n⎣10  10⎦",
      "text/latex": "$\\displaystyle \\left[\\begin{matrix}10 & 10\\\\10 & 10\\end{matrix}\\right]$"
     },
     "execution_count": 25,
     "metadata": {},
     "output_type": "execute_result"
    }
   ],
   "source": [
    "M = sym.Matrix(x)*sym.Matrix(x).transpose()\n",
    "M"
   ],
   "metadata": {
    "collapsed": false,
    "ExecuteTime": {
     "end_time": "2024-03-22T20:23:04.242021Z",
     "start_time": "2024-03-22T20:23:04.148332Z"
    }
   },
   "id": "f138ea3302216031"
  },
  {
   "cell_type": "code",
   "execution_count": 26,
   "outputs": [
    {
     "data": {
      "text/plain": "⎡10 - λ    10  ⎤\n⎢              ⎥\n⎣  10    10 - λ⎦",
      "text/latex": "$\\displaystyle \\left[\\begin{matrix}10 - λ & 10\\\\10 & 10 - λ\\end{matrix}\\right]$"
     },
     "execution_count": 26,
     "metadata": {},
     "output_type": "execute_result"
    }
   ],
   "source": [
    "sym.Matrix(M - λ*I2)"
   ],
   "metadata": {
    "collapsed": false,
    "ExecuteTime": {
     "end_time": "2024-03-22T20:23:06.138359Z",
     "start_time": "2024-03-22T20:23:06.007177Z"
    }
   },
   "id": "caaca510e2c72776"
  },
  {
   "cell_type": "code",
   "execution_count": 27,
   "outputs": [
    {
     "data": {
      "text/plain": "⎡⎛      ⎡⎡-1⎤⎤⎞  ⎛       ⎡⎡1⎤⎤⎞⎤\n⎢⎜0, 1, ⎢⎢  ⎥⎥⎟, ⎜20, 1, ⎢⎢ ⎥⎥⎟⎥\n⎣⎝      ⎣⎣1 ⎦⎦⎠  ⎝       ⎣⎣1⎦⎦⎠⎦",
      "text/latex": "$\\displaystyle \\left[ \\left( 0, \\  1, \\  \\left[ \\left[\\begin{matrix}-1\\\\1\\end{matrix}\\right]\\right]\\right), \\  \\left( 20, \\  1, \\  \\left[ \\left[\\begin{matrix}1\\\\1\\end{matrix}\\right]\\right]\\right)\\right]$"
     },
     "execution_count": 27,
     "metadata": {},
     "output_type": "execute_result"
    }
   ],
   "source": [
    "sym.Matrix(M).eigenvects()"
   ],
   "metadata": {
    "collapsed": false,
    "ExecuteTime": {
     "end_time": "2024-03-22T20:23:26.616262Z",
     "start_time": "2024-03-22T20:23:26.493547Z"
    }
   },
   "id": "14c653931b769d45"
  },
  {
   "cell_type": "code",
   "execution_count": 34,
   "outputs": [
    {
     "data": {
      "text/plain": "⎡1⎤\n⎢ ⎥\n⎣1⎦",
      "text/latex": "$\\displaystyle \\left[\\begin{matrix}1\\\\1\\end{matrix}\\right]$"
     },
     "execution_count": 34,
     "metadata": {},
     "output_type": "execute_result"
    }
   ],
   "source": [
    "# pick the eigenvector corresponding to the largest eigenvalue\n",
    "\n",
    "sym.Matrix(M).eigenvects()[1][2][0]"
   ],
   "metadata": {
    "collapsed": false,
    "ExecuteTime": {
     "end_time": "2024-03-22T20:30:12.596606Z",
     "start_time": "2024-03-22T20:30:12.484472Z"
    }
   },
   "id": "502b0eb9a9c2890e"
  },
  {
   "cell_type": "code",
   "execution_count": 55,
   "outputs": [
    {
     "data": {
      "text/plain": "⎡0.707106781186547⎤\n⎢                 ⎥\n⎣0.707106781186547⎦",
      "text/latex": "$\\displaystyle \\left[\\begin{matrix}0.707106781186547\\\\0.707106781186547\\end{matrix}\\right]$"
     },
     "execution_count": 55,
     "metadata": {},
     "output_type": "execute_result"
    }
   ],
   "source": [
    "U = np.array([1, 1])\n",
    "U = U / np.linalg.norm(U)\n",
    "sym.Matrix(U) "
   ],
   "metadata": {
    "collapsed": false,
    "ExecuteTime": {
     "end_time": "2024-03-22T20:43:58.861484Z",
     "start_time": "2024-03-22T20:43:58.751045Z"
    }
   },
   "id": "7b1cf8310bc291b1"
  },
  {
   "cell_type": "code",
   "execution_count": 56,
   "outputs": [
    {
     "data": {
      "text/plain": "[0.707106781186547  0.707106781186547]",
      "text/latex": "$\\displaystyle \\left[\\begin{matrix}0.707106781186547 & 0.707106781186547\\end{matrix}\\right]$"
     },
     "execution_count": 56,
     "metadata": {},
     "output_type": "execute_result"
    }
   ],
   "source": [
    "W = sym.Matrix(U).transpose()\n",
    "W"
   ],
   "metadata": {
    "collapsed": false,
    "ExecuteTime": {
     "end_time": "2024-03-22T20:43:59.316125Z",
     "start_time": "2024-03-22T20:43:59.213294Z"
    }
   },
   "id": "a421a5c116595b9d"
  },
  {
   "cell_type": "code",
   "execution_count": 59,
   "outputs": [
    {
     "data": {
      "text/plain": "[-1.41421356237309]",
      "text/latex": "$\\displaystyle \\left[\\begin{matrix}-1.41421356237309\\end{matrix}\\right]$"
     },
     "execution_count": 59,
     "metadata": {},
     "output_type": "execute_result"
    }
   ],
   "source": [
    "# encoded value of x1\n",
    "x1 = np.matrix([[-1],\n",
    "                [-1]])\n",
    "enc = W*x1\n",
    "sym.Matrix(enc)\n",
    "\n",
    "# repeat for x2, x3, x4, x5"
   ],
   "metadata": {
    "collapsed": false,
    "ExecuteTime": {
     "end_time": "2024-03-22T20:44:12.131329Z",
     "start_time": "2024-03-22T20:44:11.998765Z"
    }
   },
   "id": "9e9ff4d126f75c33"
  },
  {
   "cell_type": "code",
   "execution_count": 60,
   "outputs": [
    {
     "data": {
      "text/plain": "[-1.0  -1.0]",
      "text/latex": "$\\displaystyle \\left[\\begin{matrix}-1.0 & -1.0\\end{matrix}\\right]$"
     },
     "execution_count": 60,
     "metadata": {},
     "output_type": "execute_result"
    }
   ],
   "source": [
    "# decoded value of x1\n",
    "dec = enc*U\n",
    "sym.Matrix(dec)\n",
    "\n",
    "# repeat for x2, x3, x4, x5"
   ],
   "metadata": {
    "collapsed": false,
    "ExecuteTime": {
     "end_time": "2024-03-22T20:44:14.485207Z",
     "start_time": "2024-03-22T20:44:14.363357Z"
    }
   },
   "id": "94c89e5d77c7520d"
  },
  {
   "cell_type": "code",
   "execution_count": null,
   "outputs": [],
   "source": [],
   "metadata": {
    "collapsed": false
   },
   "id": "7da663905a4d3db6"
  }
 ],
 "metadata": {
  "kernelspec": {
   "display_name": "Python 3",
   "language": "python",
   "name": "python3"
  },
  "language_info": {
   "codemirror_mode": {
    "name": "ipython",
    "version": 2
   },
   "file_extension": ".py",
   "mimetype": "text/x-python",
   "name": "python",
   "nbconvert_exporter": "python",
   "pygments_lexer": "ipython2",
   "version": "2.7.6"
  }
 },
 "nbformat": 4,
 "nbformat_minor": 5
}
