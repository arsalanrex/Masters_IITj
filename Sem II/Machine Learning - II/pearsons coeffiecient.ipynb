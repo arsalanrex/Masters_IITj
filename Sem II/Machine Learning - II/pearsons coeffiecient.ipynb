{
 "cells": [
  {
   "cell_type": "code",
   "execution_count": 10,
   "id": "initial_id",
   "metadata": {
    "collapsed": true,
    "ExecuteTime": {
     "end_time": "2024-03-22T20:58:51.677718Z",
     "start_time": "2024-03-22T20:58:51.388910Z"
    }
   },
   "outputs": [],
   "source": [
    "import numpy as np\n",
    "import sympy as sym"
   ]
  },
  {
   "cell_type": "code",
   "execution_count": 2,
   "outputs": [],
   "source": [
    "x = np.matrix([[0, 1, 0, 2, 1,-1, 0,-2,-1],\n",
    "               [0, 0, 1, 1, 2, 0,-1,-1,-2],\n",
    "               [0,-3,-1,-7,-5, 3, 1, 7, 5]])"
   ],
   "metadata": {
    "collapsed": false,
    "ExecuteTime": {
     "end_time": "2024-03-22T20:55:11.547567Z",
     "start_time": "2024-03-22T20:55:11.544011Z"
    }
   },
   "id": "b1d3f1c201a860fc"
  },
  {
   "cell_type": "code",
   "execution_count": 14,
   "outputs": [
    {
     "data": {
      "text/plain": "Matrix([\n[3.46410161513775],\n[3.46410161513775],\n[12.9614813968157]])",
      "text/latex": "$\\displaystyle \\left[\\begin{matrix}3.46410161513775\\\\3.46410161513775\\\\12.9614813968157\\end{matrix}\\right]$"
     },
     "execution_count": 14,
     "metadata": {},
     "output_type": "execute_result"
    }
   ],
   "source": [
    "# take 2norm of each row\n",
    "sym.Matrix(np.linalg.norm(x, axis=1))"
   ],
   "metadata": {
    "collapsed": false,
    "ExecuteTime": {
     "end_time": "2024-03-22T20:59:43.216413Z",
     "start_time": "2024-03-22T20:59:43.208280Z"
    }
   },
   "id": "a88c3afae0c7b08c"
  },
  {
   "cell_type": "code",
   "execution_count": 13,
   "outputs": [
    {
     "data": {
      "text/plain": "Matrix([[-44]])",
      "text/latex": "$\\displaystyle \\left[\\begin{matrix}-44\\end{matrix}\\right]$"
     },
     "execution_count": 13,
     "metadata": {},
     "output_type": "execute_result"
    }
   ],
   "source": [
    "# take the transpose of first row of x * third row of x\n",
    "sym.Matrix(x[0]*x[2].T)"
   ],
   "metadata": {
    "collapsed": false,
    "ExecuteTime": {
     "end_time": "2024-03-22T20:59:22.686297Z",
     "start_time": "2024-03-22T20:59:22.679766Z"
    }
   },
   "id": "96ad8c8518050f98"
  },
  {
   "cell_type": "code",
   "execution_count": 11,
   "outputs": [
    {
     "data": {
      "text/plain": "Matrix([[-36]])",
      "text/latex": "$\\displaystyle \\left[\\begin{matrix}-36\\end{matrix}\\right]$"
     },
     "execution_count": 11,
     "metadata": {},
     "output_type": "execute_result"
    }
   ],
   "source": [
    "sym.Matrix(x[1]*x[2].T)"
   ],
   "metadata": {
    "collapsed": false,
    "ExecuteTime": {
     "end_time": "2024-03-22T20:58:54.359094Z",
     "start_time": "2024-03-22T20:58:54.351412Z"
    }
   },
   "id": "ca12cef25a0edad5"
  },
  {
   "cell_type": "code",
   "execution_count": 17,
   "outputs": [
    {
     "data": {
      "text/plain": "Matrix([[0.979957887012223]])",
      "text/latex": "$\\displaystyle \\left[\\begin{matrix}0.979957887012223\\end{matrix}\\right]$"
     },
     "execution_count": 17,
     "metadata": {},
     "output_type": "execute_result"
    }
   ],
   "source": [
    "P1 = abs(sym.Matrix(x[0]*x[2].T))\n",
    "P1/np.linalg.norm(x[0])/np.linalg.norm(x[2])"
   ],
   "metadata": {
    "collapsed": false,
    "ExecuteTime": {
     "end_time": "2024-03-22T21:01:58.849766Z",
     "start_time": "2024-03-22T21:01:58.843344Z"
    }
   },
   "id": "c698dd7d614e2af7"
  },
  {
   "cell_type": "code",
   "execution_count": 18,
   "outputs": [
    {
     "data": {
      "text/plain": "Matrix([[0.801783725737273]])",
      "text/latex": "$\\displaystyle \\left[\\begin{matrix}0.801783725737273\\end{matrix}\\right]$"
     },
     "execution_count": 18,
     "metadata": {},
     "output_type": "execute_result"
    }
   ],
   "source": [
    "P2 = abs(sym.Matrix(x[1]*x[2].T))\n",
    "P2/np.linalg.norm(x[1])/np.linalg.norm(x[2])"
   ],
   "metadata": {
    "collapsed": false,
    "ExecuteTime": {
     "end_time": "2024-03-22T21:02:15.779331Z",
     "start_time": "2024-03-22T21:02:15.773518Z"
    }
   },
   "id": "871ec3eeb37e9ee2"
  },
  {
   "cell_type": "code",
   "execution_count": null,
   "outputs": [],
   "source": [
    "# P1 is larger than P2 . P1 is more important"
   ],
   "metadata": {
    "collapsed": false
   },
   "id": "97de5da6661b320b"
  }
 ],
 "metadata": {
  "kernelspec": {
   "display_name": "Python 3",
   "language": "python",
   "name": "python3"
  },
  "language_info": {
   "codemirror_mode": {
    "name": "ipython",
    "version": 2
   },
   "file_extension": ".py",
   "mimetype": "text/x-python",
   "name": "python",
   "nbconvert_exporter": "python",
   "pygments_lexer": "ipython2",
   "version": "2.7.6"
  }
 },
 "nbformat": 4,
 "nbformat_minor": 5
}
