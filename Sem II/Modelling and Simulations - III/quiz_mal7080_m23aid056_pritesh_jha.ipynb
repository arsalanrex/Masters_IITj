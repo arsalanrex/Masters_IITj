{
 "nbformat": 4,
 "nbformat_minor": 0,
 "metadata": {
  "colab": {
   "provenance": []
  },
  "kernelspec": {
   "name": "python3",
   "language": "python",
   "display_name": "Python 3 (ipykernel)"
  },
  "language_info": {
   "name": "python"
  }
 },
 "cells": [
  {
   "cell_type": "markdown",
   "source": [
    "**Question 1**"
   ],
   "metadata": {
    "id": "QRC8xur6dq9j"
   }
  },
  {
   "cell_type": "code",
   "source": [
    "import numpy as np\n",
    "\n",
    "def jacobi(A, b, x0, iterations):\n",
    "    n = len(A)\n",
    "    x = x0.copy()\n",
    "    x_new = np.zeros_like(x)\n",
    "\n",
    "    print(\"n\\t\", end=\"\")\n",
    "    for i in range(n):\n",
    "        print(f\"x({i+1})\\t\", end=\"\")\n",
    "    print()\n",
    "\n",
    "    for it in range(iterations):\n",
    "        print(it, end=\"\\t\")\n",
    "        for i in range(n):\n",
    "            sigma = 0\n",
    "            for j in range(n):\n",
    "                if j != i:\n",
    "                    sigma += A[i][j] * x[j]\n",
    "            x_new[i] = (b[i] - sigma) / A[i][i]\n",
    "            print(f\"{x_new[i]:.4f}\\t\", end=\"\")\n",
    "        print()\n",
    "        x = x_new.copy()\n",
    "\n",
    "# Define the system of equations\n",
    "A = np.array([[5, 1, 2, 5, -1],\n",
    "              [2, 10, 2, -2, 1],\n",
    "              [0, 3, 8, 1, -3],\n",
    "              [1, 4, 2, 8, 4],\n",
    "              [-2, 3, 4, 7, 5]])\n",
    "\n",
    "b = np.array([15, -21, 7, 9, 11])\n",
    "\n",
    "# Initial guess\n",
    "x0 = np.array([6, 0, 0, 0, 0])\n",
    "\n",
    "# Number of iterations\n",
    "iterations = 5\n",
    "\n",
    "# Solve using Jacobi method and document the results\n",
    "jacobi(A, b, x0, iterations)\n"
   ],
   "metadata": {
    "colab": {
     "base_uri": "https://localhost:8080/"
    },
    "id": "fYe2rZAXdjZj",
    "outputId": "ad214072-2ee4-4f1c-b494-a89375cc0c78",
    "ExecuteTime": {
     "end_time": "2024-04-21T07:33:25.072310Z",
     "start_time": "2024-04-21T07:33:25.069692Z"
    }
   },
   "execution_count": 1,
   "outputs": [
    {
     "name": "stdout",
     "output_type": "stream",
     "text": [
      "n\tx(1)\tx(2)\tx(3)\tx(4)\tx(5)\t\n",
      "0\t3.0000\t-2.0000\t0.0000\t0.0000\t3.0000\t\n",
      "1\t4.0000\t-3.0000\t2.0000\t0.0000\t4.0000\t\n",
      "2\t3.0000\t-3.0000\t3.0000\t0.0000\t4.0000\t\n",
      "3\t3.0000\t-3.0000\t3.0000\t0.0000\t2.0000\t\n",
      "4\t2.0000\t-3.0000\t2.0000\t0.0000\t2.0000\t\n"
     ]
    }
   ]
  },
  {
   "cell_type": "markdown",
   "source": [
    "**Question 2**"
   ],
   "metadata": {
    "id": "v25lwegkfjNa"
   }
  },
  {
   "cell_type": "code",
   "source": [
    "import numpy as np\n",
    "from scipy.optimize import curve_fit\n",
    "import matplotlib.pyplot as plt\n",
    "from scipy.misc import derivative\n",
    "\n",
    "# Data\n",
    "t = np.array([0, 25, 50, 75, 100, 125])\n",
    "y = np.array([0, 32, 58, 78, 92, 100])\n",
    "\n",
    "# Define the form of the function we want to fit\n",
    "def func(t, a, b, c):\n",
    "    return a*t**2 + b*t + c\n",
    "\n",
    "# Use curve_fit to fit the function to our data\n",
    "popt, pcov = curve_fit(func, t, y)\n",
    "\n",
    "# Print the optimal parameters a, b, c\n",
    "a, b, c = popt\n",
    "print(f\"The fitted curve is: y = {a}*t^2 + {b}*t + {c}\")\n",
    "\n",
    "# Plot the data and the fitted curve\n",
    "plt.scatter(t, y, label='Data')\n",
    "t_values = np.linspace(0, 125, 100)\n",
    "plt.plot(t_values, func(t_values, a, b, c), label='Fitted curve')\n",
    "plt.legend()\n",
    "plt.show()\n",
    "\n",
    "# Compute the velocity at t = 62.5 s (derivative of the fitted curve)\n",
    "def velocity(t):\n",
    "    return 2*a*t + b\n",
    "\n",
    "v = velocity(62.5)\n",
    "print(f\"The velocity of the rocket at t = 62.5 s is {v} km/s\")\n"
   ],
   "metadata": {
    "colab": {
     "base_uri": "https://localhost:8080/",
     "height": 465
    },
    "id": "v7415MiPg91b",
    "outputId": "0a5ee6c6-1161-4106-9876-28bb326cb07f"
   },
   "execution_count": 4,
   "outputs": [
    {
     "output_type": "stream",
     "name": "stdout",
     "text": [
      "The fitted curve is: y = -0.0048000000000000135*t^2 + 1.4000000000000021*t + -1.155886961072864e-23\n"
     ]
    },
    {
     "output_type": "display_data",
     "data": {
      "text/plain": [
       "<Figure size 640x480 with 1 Axes>"
      ],
      "image/png": "[encoded data removed]"
     },
     "metadata": {}
    },
    {
     "output_type": "stream",
     "name": "stdout",
     "text": [
      "The velocity of the rocket at t = 62.5 s is 0.8000000000000005 km/s\n"
     ]
    }
   ]
  },
  {
   "cell_type": "markdown",
   "source": [
    "(a) The fitted curve is:\n",
    "\n",
    " y = -0.0048000000000000135*t^2 + 1.4000000000000021*t + -1.155886961072864e-23\n",
    "\n",
    "(b) The choice of a quadratic function as a model curve is justified because the motion of the rocket is subject to constant acceleration, which is characteristic of parabolic motion. The R-squared value of the fit is 1.0, indicating a perfect fit.\n",
    "\n",
    "(C) The velocity of the rocket at t = 62.5 s is approximately 0.8 km/s."
   ],
   "metadata": {
    "id": "GsVxCBGNfy3D"
   }
  },
  {
   "cell_type": "markdown",
   "source": [
    "**Question 3**"
   ],
   "metadata": {
    "id": "GHNCyLNHfzUj"
   }
  },
  {
   "cell_type": "code",
   "source": [
    "import numpy as np\n",
    "\n",
    "# Define the function\n",
    "def f(x):\n",
    "    return np.sin(x**2) * np.exp(x)\n",
    "\n",
    "# Define functions to compute derivatives using finite differences\n",
    "def forward_difference(f, x, dx):\n",
    "    return (f(x + dx) - f(x)) / dx\n",
    "\n",
    "def backward_difference(f, x, dx):\n",
    "    return (f(x) - f(x - dx)) / dx\n",
    "\n",
    "def central_difference(f, x, dx):\n",
    "    return (f(x + dx/2) - f(x - dx/2)) / dx\n",
    "\n",
    "# Define the points where we want to compute derivatives\n",
    "xrefs = [1, 4]\n",
    "\n",
    "# Define step sizes\n",
    "deltas = [1, 0.1, 0.01, 0.001]\n",
    "\n",
    "# Print tables for each xref value\n",
    "for xref in xrefs:\n",
    "    print(f\"\\nxref = {xref}\")\n",
    "    print(\"∆x\\tForward difference\\tBackward difference\\tCentral difference\")\n",
    "    for delta in deltas:\n",
    "        forward = forward_difference(f, xref, delta)\n",
    "        backward = backward_difference(f, xref, delta)\n",
    "        central = central_difference(f, xref, delta)\n",
    "        print(f\"{delta}\\t{forward}\\t{backward}\\t{central}\")\n"
   ],
   "metadata": {
    "colab": {
     "base_uri": "https://localhost:8080/"
    },
    "id": "kwYB-98UjV_7",
    "outputId": "a58ad109-a2ce-4b46-9e7a-2cf8d3c1be26"
   },
   "execution_count": 7,
   "outputs": [
    {
     "output_type": "stream",
     "name": "stdout",
     "text": [
      "\n",
      "xref = 1\n",
      "∆x\tForward difference\tBackward difference\tCentral difference\n",
      "1\t-7.879411380819824\t2.2873552871788423\t3.0791819723372336\n",
      "0.1\t5.233905161484533\t5.058962997269633\t5.205244154272437\n",
      "0.01\t5.233704650010074\t5.214223786302696\t5.224548437719889\n",
      "0.001\t5.225710416771445\t5.223760339108541\t5.224741219743478\n",
      "\n",
      "xref = 4\n",
      "∆x\tForward difference\tBackward difference\tCentral difference\n",
      "1\t-3.9237528664461774\t-23.996609530370545\t99.01700142101565\n",
      "0.1\t-381.12353961391375\t-393.154332208444\t-422.03194614690506\n",
      "0.01\t-433.27852751614006\t-433.7774097380981\t-433.88982307967206\n",
      "0.001\t-433.981075954053\t-434.0302238618427\t-434.0092697571745\n"
     ]
    }
   ]
  },
  {
   "cell_type": "markdown",
   "source": [
    "Conclusion:\n",
    "As the step size (∆x) decreases, the forward and backward differences tend to approach the true value of the derivative, while the central difference generally converges faster due to its second-order accuracy. However, using very small step sizes may introduce numerical errors due to finite precision arithmetic and round-off errors."
   ],
   "metadata": {
    "id": "5gT5Rb3bi6-B"
   }
  }
 ]
}
