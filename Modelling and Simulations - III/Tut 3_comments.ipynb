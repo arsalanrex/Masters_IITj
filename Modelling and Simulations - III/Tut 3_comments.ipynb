{
 "cells": [
  {
   "cell_type": "markdown",
   "source": [
    "Question 1"
   ],
   "metadata": {
    "collapsed": false
   },
   "id": "f3578100dd1f08d3"
  },
  {
   "cell_type": "code",
   "execution_count": 16,
   "outputs": [],
   "source": [
    "import numpy as np\n",
    "import matplotlib.pyplot as plt\n",
    "from scipy.integrate import quad\n",
    "\n",
    "def first_order_forward_difference(x, y):\n",
    "    h = np.diff(x)\n",
    "    dy_dx = np.diff(y) / h\n",
    "    return np.append(dy_dx, np.nan)\n",
    "\n",
    "def second_order_central_difference(x, y):\n",
    "    h = np.diff(x)\n",
    "    dy_dx = (y[2:] - y[:-2]) / (2 * h[1:])\n",
    "    dy_dx_full = np.append([np.nan], dy_dx)\n",
    "    return np.append(dy_dx_full, np.nan)\n",
    "\n",
    "def first_order_forward_difference_second_derivative(x, y):\n",
    "    h = np.diff(x)\n",
    "    d2y_dx2 = np.diff(np.diff(y)) / h[:-1]\n",
    "    d2y_dx2_full = np.append(d2y_dx2, [np.nan, np.nan])\n",
    "    return d2y_dx2_full\n",
    "\n",
    "def second_order_central_difference_second_derivative(x, y):\n",
    "    h = np.diff(x)\n",
    "    d2y_dx2 = (y[2:] - 2 * y[1:-1] + y[:-2]) / (h[1:]**2)\n",
    "    d2y_dx2_full = np.append([np.nan], d2y_dx2)\n",
    "    return np.append(d2y_dx2_full, np.nan)\n",
    "\n",
    "def composite_trapezoidal(x, y):\n",
    "    h = np.diff(x)\n",
    "    integral = np.sum(h * (y[:-1] + y[1:]) / 2)\n",
    "    return integral\n",
    "\n",
    "def composite_simpsons(x, y):\n",
    "    if len(x) % 2 == 0:\n",
    "        raise ValueError(\"Simpson's rule requires an odd number of points.\")\n",
    "\n",
    "    h = (x[-1] - x[0]) / (len(x) - 1)\n",
    "    integral = h / 3 * (y[0] + y[-1] + 4 * np.sum(y[1:-1:2]) + 2 * np.sum(y[2:-1:2]))\n",
    "    return integral\n"
   ],
   "metadata": {
    "collapsed": false,
    "ExecuteTime": {
     "start_time": "2024-05-01T18:04:44.495388Z"
    }
   },
   "id": "initial_id"
  },
  {
   "cell_type": "raw",
   "source": [
    "Question 2"
   ],
   "metadata": {
    "collapsed": false
   },
   "id": "e9278d16dea34567"
  },
  {
   "cell_type": "code",
   "execution_count": 17,
   "outputs": [
    {
     "name": "stdout",
     "output_type": "stream",
     "text": [
      "Velocity at t = 10s: 0.55 m/s\n",
      "Acceleration at t = 10s: -0.05 m/s²\n",
      "Velocity at t = 5s: 0.80 m/s\n",
      "Acceleration at t = 5s: 0.05 m/s²\n"
     ]
    }
   ],
   "source": [
    "t = np.array([0, 2, 4, 6, 8, 10, 12, 14, 16])\n",
    "x = np.array([0, 0.7, 1.8, 3.4, 5.1, 6.3, 7.3, 8.0, 8.4])\n",
    "\n",
    "dy_dx = second_order_central_difference(t, x)\n",
    "d2y_dx2 = second_order_central_difference_second_derivative(t, x)\n",
    "\n",
    "dy_dx_forward = first_order_forward_difference(t, x)\n",
    "d2y_dx2_forward = first_order_forward_difference_second_derivative(t, x)\n",
    "\n",
    "idx_10 = np.where(t == 10)[0][0]\n",
    "velocity_at_10 = dy_dx[idx_10]\n",
    "acceleration_at_10 = d2y_dx2[idx_10]\n",
    "\n",
    "t_interp = np.interp(5, t, x)\n",
    "\n",
    "velocity_at_5 = dy_dx_forward[2]\n",
    "acceleration_at_5 = d2y_dx2_forward[2]\n",
    "\n",
    "print(f\"Velocity at t = 10s: {velocity_at_10:.2f} m/s\")\n",
    "print(f\"Acceleration at t = 10s: {acceleration_at_10:.2f} m/s²\")\n",
    "print(f\"Velocity at t = 5s: {velocity_at_5:.2f} m/s\")\n",
    "print(f\"Acceleration at t = 5s: {acceleration_at_5:.2f} m/s²\")\n"
   ],
   "metadata": {
    "collapsed": false,
    "ExecuteTime": {
     "end_time": "2024-05-01T18:04:45.800552Z",
     "start_time": "2024-05-01T18:04:45.796450Z"
    }
   },
   "id": "e2e914197f0a1b25"
  },
  {
   "cell_type": "raw",
   "source": [
    "Question 3"
   ],
   "metadata": {
    "collapsed": false
   },
   "id": "a24185ad3512f870"
  },
  {
   "cell_type": "code",
   "execution_count": 18,
   "outputs": [
    {
     "name": "stdout",
     "output_type": "stream",
     "text": [
      "x = [0.6 1.5 1.6 2.5]\n",
      "Numerical derivatives: [-0.58911111 -0.473      -0.26875556 -0.06826   ]\n",
      "Analytical derivatives: [-0.30119421 -0.49787068 -0.44838424 -0.13475894]\n",
      "Absolute error: [0.2879169  0.02487068 0.17962869 0.06649894]\n"
     ]
    }
   ],
   "source": [
    "x = np.array([0.6, 1.5, 1.6, 2.5, 3.5])\n",
    "f_x = np.array([0.9036, 0.3734, 0.3261, 0.08422, 0.01596])\n",
    "\n",
    "def forward_finite_difference(x, y):\n",
    "    h = np.diff(x)\n",
    "    dy_dx = np.diff(y) / h\n",
    "    return dy_dx\n",
    "\n",
    "numerical_derivatives = forward_finite_difference(x, f_x)\n",
    "\n",
    "def true_derivative(x):\n",
    "    return np.exp(-2 * x) * (5 - 10 * x)\n",
    "\n",
    "analytical_derivatives = true_derivative(x[:-1])\n",
    "\n",
    "print(\"x =\", x[:-1])\n",
    "print(\"Numerical derivatives:\", numerical_derivatives)\n",
    "print(\"Analytical derivatives:\", analytical_derivatives)\n",
    "\n",
    "absolute_error = np.abs(numerical_derivatives - analytical_derivatives)\n",
    "print(\"Absolute error:\", absolute_error)\n"
   ],
   "metadata": {
    "collapsed": false,
    "ExecuteTime": {
     "end_time": "2024-05-01T18:04:47.678652Z",
     "start_time": "2024-05-01T18:04:47.649203Z"
    }
   },
   "id": "8de0f022021413f8"
  },
  {
   "cell_type": "raw",
   "source": [
    "Question 4"
   ],
   "metadata": {
    "collapsed": false
   },
   "id": "4973d1a3d19ea2e0"
  },
  {
   "cell_type": "code",
   "execution_count": 21,
   "outputs": [
    {
     "name": "stdout",
     "output_type": "stream",
     "text": [
      "Composite Trapezoidal Integral: 335.9705324411173\n",
      "Composite Simpson's 1/3 Integral: 335.9625298035534\n",
      "Scipy Quad Integral: 335.9625300616258\n"
     ]
    },
    {
     "data": {
      "text/plain": "<Figure size 640x480 with 1 Axes>",
      "image/png": "[encoded data removed]"
     },
     "metadata": {},
     "output_type": "display_data"
    }
   ],
   "source": [
    "def mass(t):\n",
    "    return (9 + 5 * np.cos(0.4 * t) ** 2) * (5 * np.exp(-0.5 * t) + 2 * np.exp(0.15 * t))\n",
    "\n",
    "t1 = 2\n",
    "t2 = 8\n",
    "\n",
    "num_points = 101\n",
    "t = np.linspace(t1, t2, num_points)\n",
    "y = mass(t)\n",
    "\n",
    "trapezoidal_integral = composite_trapezoidal(t, y)\n",
    "simpsons_integral = composite_simpsons(t, y)\n",
    "quad_integral, quad_error = quad(mass, t1, t2)\n",
    "\n",
    "print(\"Composite Trapezoidal Integral:\", trapezoidal_integral)\n",
    "print(\"Composite Simpson's 1/3 Integral:\", simpsons_integral)\n",
    "print(\"Scipy Quad Integral:\", quad_integral)\n",
    "\n",
    "plt.plot(t, y, 'o-', label='Q(t) * c(t)')\n",
    "plt.xlabel('Time (t)')\n",
    "plt.ylabel('Mass Transport')\n",
    "plt.title('Mass Transport between 2 and 8 min')\n",
    "plt.show()\n"
   ],
   "metadata": {
    "collapsed": false,
    "ExecuteTime": {
     "end_time": "2024-05-09T12:02:20.412706Z",
     "start_time": "2024-05-09T12:02:20.246920Z"
    }
   },
   "id": "9555f747cecefdff"
  },
  {
   "cell_type": "raw",
   "source": [
    "Question 5"
   ],
   "metadata": {
    "collapsed": false
   },
   "id": "37f419b89e6bd57a"
  },
  {
   "cell_type": "code",
   "execution_count": 20,
   "outputs": [
    {
     "name": "stdout",
     "output_type": "stream",
     "text": [
      "Exact Value: 0.26424111765711533\n",
      "Scipy Quad Integral: 0.26424111765711533\n",
      "Composite Trapezoidal Results:\n",
      "  5 subintervals: 0.2609128085131533\n",
      "  10 subintervals: 0.26340809868507203\n",
      "  20 subintervals: 0.2640328039768298\n",
      "  50 subintervals: 0.26420778482693924\n",
      "  100 subintervals: 0.2642327843552297\n",
      "Composite Simpson's 1/3 Results:\n",
      "  10 subintervals: 0.2642398620757116\n",
      "  20 subintervals: 0.2642410390740825\n",
      "  50 subintervals: 0.26424111564460595\n",
      "  100 subintervals: 0.26424111753132656\n"
     ]
    }
   ],
   "source": [
    "def f(x):\n",
    "    return x * np.exp(-x)\n",
    "\n",
    "exact_value = 1 - 2 / np.exp(1)\n",
    "\n",
    "subintervals = [5, 10, 20, 50, 100]\n",
    "\n",
    "trapezoidal_results = []\n",
    "simpsons_results = []\n",
    "\n",
    "for n in subintervals:\n",
    "    x = np.linspace(0, 1, n + 1)\n",
    "    y = f(x)\n",
    "\n",
    "    trapezoidal_integral = composite_trapezoidal(x, y)\n",
    "    trapezoidal_results.append(trapezoidal_integral)\n",
    "\n",
    "    if (n + 1) % 2 != 0:\n",
    "        simpsons_integral = composite_simpsons(x, y)\n",
    "        simpsons_results.append(simpsons_integral)\n",
    "\n",
    "quad_integral, quad_error = quad(f, 0, 1)\n",
    "\n",
    "print(\"Exact Value:\", exact_value)\n",
    "print(\"Scipy Quad Integral:\", quad_integral)\n",
    "\n",
    "print(\"Composite Trapezoidal Results:\")\n",
    "for i, res in zip(subintervals, trapezoidal_results):\n",
    "    print(f\"  {i} subintervals: {res}\")\n",
    "\n",
    "print(\"Composite Simpson's 1/3 Results:\")\n",
    "for i, res in zip([s for s in subintervals if (s + 1) % 2 != 0], simpsons_results):\n",
    "    print(f\"  {i} subintervals: {res}\")\n"
   ],
   "metadata": {
    "collapsed": false,
    "ExecuteTime": {
     "end_time": "2024-05-01T18:05:48.985511Z",
     "start_time": "2024-05-01T18:05:48.978792Z"
    }
   },
   "id": "231e9309ff28c4c0"
  },
  {
   "cell_type": "code",
   "execution_count": null,
   "outputs": [],
   "source": [],
   "metadata": {
    "collapsed": false
   },
   "id": "3ae9748e042feab9"
  }
 ],
 "metadata": {
  "kernelspec": {
   "display_name": "Python 3",
   "language": "python",
   "name": "python3"
  },
  "language_info": {
   "codemirror_mode": {
    "name": "ipython",
    "version": 2
   },
   "file_extension": ".py",
   "mimetype": "text/x-python",
   "name": "python",
   "nbconvert_exporter": "python",
   "pygments_lexer": "ipython2",
   "version": "2.7.6"
  }
 },
 "nbformat": 4,
 "nbformat_minor": 5
}
