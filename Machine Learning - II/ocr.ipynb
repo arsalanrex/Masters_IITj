{
 "cells": [
  {
   "cell_type": "code",
   "execution_count": 10,
   "id": "initial_id",
   "metadata": {
    "collapsed": true,
    "ExecuteTime": {
     "end_time": "2024-03-22T19:16:01.492317Z",
     "start_time": "2024-03-22T19:15:36.055855Z"
    }
   },
   "outputs": [],
   "source": [
    "import PyPDF2\n",
    "import pytesseract\n",
    "from PIL import Image, ImageDraw\n",
    "\n",
    "def pdf_to_text_with_ocr(pdf_path):\n",
    "    text = ''\n",
    "    # Open the PDF file\n",
    "    with open(pdf_path, 'rb') as pdf_file:\n",
    "        pdf_reader = PyPDF2.PdfReader(pdf_file)\n",
    "        for page_num in range(len(pdf_reader.pages)):\n",
    "            page = pdf_reader.pages[page_num]\n",
    "            # Convert PDF page to image\n",
    "            img = convert_pdf_page_to_image(page)\n",
    "            # Use OCR to extract text from the image\n",
    "            page_text = pytesseract.image_to_string(img, lang='eng')\n",
    "            # Append the extracted text to the result\n",
    "            text += page_text.strip() + '\\n'\n",
    "    \n",
    "    return text\n",
    "\n",
    "def convert_pdf_page_to_image(page):\n",
    "    # Convert PDF page to image\n",
    "    page_data = page.extract_text()\n",
    "    img = Image.new('RGB', (400, 400), color='white')\n",
    "    img_draw = ImageDraw.Draw(img)\n",
    "    img_draw.text((10, 10), page_data, fill=(0, 0, 0))\n",
    "    return img\n",
    "\n",
    "def save_text_to_file(text, filename):\n",
    "    with open(filename, 'w') as file:\n",
    "        file.write(text)\n",
    "\n",
    "# Example usage:\n",
    "pdf_path = 'CSL7020r.pdf'\n",
    "text = pdf_to_text_with_ocr(pdf_path)\n",
    "save_text_to_file(text, 'extracted_text.txt')\n"
   ]
  },
  {
   "cell_type": "code",
   "execution_count": null,
   "outputs": [],
   "source": [],
   "metadata": {
    "collapsed": false
   },
   "id": "edfc5216e7c321ad"
  }
 ],
 "metadata": {
  "kernelspec": {
   "display_name": "Python 3",
   "language": "python",
   "name": "python3"
  },
  "language_info": {
   "codemirror_mode": {
    "name": "ipython",
    "version": 2
   },
   "file_extension": ".py",
   "mimetype": "text/x-python",
   "name": "python",
   "nbconvert_exporter": "python",
   "pygments_lexer": "ipython2",
   "version": "2.7.6"
  }
 },
 "nbformat": 4,
 "nbformat_minor": 5
}
