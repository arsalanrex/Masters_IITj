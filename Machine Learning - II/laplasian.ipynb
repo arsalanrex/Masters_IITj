{
 "cells": [
  {
   "cell_type": "code",
   "execution_count": 1,
   "id": "initial_id",
   "metadata": {
    "collapsed": true,
    "ExecuteTime": {
     "end_time": "2024-03-22T18:22:53.485407Z",
     "start_time": "2024-03-22T18:22:53.391625Z"
    }
   },
   "outputs": [
    {
     "name": "stdout",
     "output_type": "stream",
     "text": [
      "[[ 2.     nan   nan   nan]\n",
      " [  nan  3.   -1.6  -0.62]\n",
      " [  nan -1.6   3.   -0.7 ]\n",
      " [  nan -0.62 -0.7   2.  ]]\n"
     ]
    }
   ],
   "source": [
    "import numpy as np\n",
    "\n",
    "# Given incomplete Laplacian matrix\n",
    "L = np.array([[2, np.nan, np.nan, np.nan],\n",
    "              [np.nan, 3, np.nan, np.nan],\n",
    "              [np.nan, -1.6, 3, np.nan],\n",
    "              [np.nan, -0.62, -0.7, 2]])\n",
    "\n",
    "# Fill the missing values symmetrically\n",
    "L_complete = L.copy()\n",
    "\n",
    "# Fill the upper triangular part of the matrix\n",
    "for i in range(L.shape[0]):\n",
    "    for j in range(i+1, L.shape[1]):\n",
    "        if np.isnan(L[i, j]):\n",
    "            L_complete[i, j] = L_complete[j, i]\n",
    "\n",
    "# Fill the lower triangular part of the matrix\n",
    "for i in range(1, L.shape[0]):\n",
    "    for j in range(i):\n",
    "        if np.isnan(L[i, j]):\n",
    "            L_complete[i, j] = L_complete[j, i]\n",
    "\n",
    "print(L_complete)\n"
   ]
  },
  {
   "cell_type": "code",
   "execution_count": null,
   "outputs": [],
   "source": [],
   "metadata": {
    "collapsed": false
   },
   "id": "5e867a5bf345fdfd"
  }
 ],
 "metadata": {
  "kernelspec": {
   "display_name": "Python 3",
   "language": "python",
   "name": "python3"
  },
  "language_info": {
   "codemirror_mode": {
    "name": "ipython",
    "version": 2
   },
   "file_extension": ".py",
   "mimetype": "text/x-python",
   "name": "python",
   "nbconvert_exporter": "python",
   "pygments_lexer": "ipython2",
   "version": "2.7.6"
  }
 },
 "nbformat": 4,
 "nbformat_minor": 5
}
