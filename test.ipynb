{
 "cells": [
  {
   "cell_type": "code",
   "execution_count": null,
   "id": "initial_id",
   "metadata": {
    "collapsed": true
   },
   "outputs": [],
   "source": [
    "from jenkinsapi.jenkins import Jenkins\n",
    "\n",
    "# Define your Jenkins server URL\n",
    "jenkins_url = 'http://your_jenkins_server'\n",
    "\n",
    "# Define your Jenkins username and password\n",
    "username = 'your_username'\n",
    "password = 'your_password'\n",
    "\n",
    "# Define the job name\n",
    "job_name = 'your_job_name'\n",
    "\n",
    "# Create a Jenkins object with your server URL, username, and password\n",
    "jenkins = Jenkins(jenkins_url, username=username, password=password)\n",
    "\n",
    "# Get the specific job\n",
    "job = jenkins[job_name]\n",
    "\n",
    "# Invoke the job\n",
    "job.invoke(build_params={'param1': 'value1', 'param2': 'value2'})\n",
    "\n",
    "# Note: Replace 'param1' and 'param2' with your actual parameter names and 'value1' and 'value2' with your actual parameter values"
   ]
  },
  {
   "cell_type": "code",
   "execution_count": null,
   "outputs": [],
   "source": [],
   "metadata": {
    "collapsed": false
   },
   "id": "1b7adcbe4e0bb49d"
  },
  {
   "cell_type": "code",
   "execution_count": 3,
   "outputs": [],
   "source": [
    "import os\n",
    "import shutil\n",
    "\n",
    "# Path to the directory to be cleaned\n",
    "directory_path = 'test'\n",
    "\n",
    "# Check if the directory exists\n",
    "if os.path.exists(directory_path):\n",
    "    # Delete all files and subdirectories in the directory\n",
    "    for item in os.listdir(directory_path):\n",
    "        item_path = os.path.join(directory_path, item)\n",
    "        if os.path.isdir(item_path):\n",
    "            shutil.rmtree(item_path)  # Delete subdirectory\n",
    "        else:\n",
    "            os.remove(item_path)  # Delete file\n"
   ],
   "metadata": {
    "collapsed": false,
    "ExecuteTime": {
     "end_time": "2024-04-23T15:39:24.846524Z",
     "start_time": "2024-04-23T15:39:24.835437Z"
    }
   },
   "id": "50f44ed5de539bd2"
  },
  {
   "cell_type": "code",
   "execution_count": 1,
   "outputs": [
    {
     "name": "stdout",
     "output_type": "stream",
     "text": [
      "CSV file 'components_cve.csv' has been created.\n"
     ]
    }
   ],
   "source": [
    "import json\n",
    "import csv\n",
    "\n",
    "# Assuming the JSON data is stored in a string\n",
    "json_data = '''\n",
    "{\n",
    "    \"componentsInQuarantine\": [\n",
    "        {\n",
    "            \"components\": [\n",
    "                {\n",
    "                    \"component\": {\n",
    "                        \"componentIdentifier\": {\n",
    "                            \"coordinates\": {\n",
    "                                \"packageId\": \"npm\",\n",
    "                                \"version\": \"5.3.0\"\n",
    "                            },\n",
    "                            \"format\": \"npm\"\n",
    "                        },\n",
    "                        \"displayName\": \"npm: 5.3.0\",\n",
    "                        \"hash\": \"e2ae85ef09d53f7f570a\",\n",
    "                        \"packageUrl\": \"pkg:npm/npm@5.3.0\",\n",
    "                        \"quarantineId\": \"3b7bf39a6cb44eb9990276d6e066f56f\",\n",
    "                        \"quarantineTime\": \"2023-11-12T22:04:38.992+0000\"\n",
    "                    },\n",
    "                    \"policyViolations\": [\n",
    "                        {\n",
    "                            \"constraintViolations\": [\n",
    "                                {\n",
    "                                    \"constraintId\": \"4b956ccb880046c3a11dae6d50bd616f\",\n",
    "                                    \"constraintName\": \"High risk CVSS score\",\n",
    "                                    \"reasons\": [\n",
    "                                        {\n",
    "                                            \"reason\": \"Found security vulnerability CVE-2022-25881 with severity >= 7 (severity = 7.5)\",\n",
    "                                            \"reference\": {\n",
    "                                                \"type\": \"SECURITY_VULNERABILITY_REFID\",\n",
    "                                                \"value\": \"CVE-2022-25881\"\n",
    "                                            }\n",
    "                                        },\n",
    "                                        {\n",
    "                                            \"reason\": \"Found security vulnerability CVE-2022-25881 with severity < 9 (severity = 7.5)\",\n",
    "                                            \"reference\": {\n",
    "                                                \"type\": \"SECURITY_VULNERABILITY_REFID\",\n",
    "                                                \"value\": \"CVE-2022-25881\"\n",
    "                                            }\n",
    "                                        },\n",
    "                                        {\n",
    "                                            \"reason\": \"Found security vulnerability CVE-2022-25881 with status 'Open', not 'Not Applicable'\",\n",
    "                                            \"reference\": {\n",
    "                                                \"type\": \"SECURITY_VULNERABILITY_REFID\",\n",
    "                                                \"value\": \"CVE-2022-25881\"\n",
    "                                            }\n",
    "                                        },\n",
    "                                        {\n",
    "                                            \"reason\": \"Did not find security vulnerability CVE-2022-25881 with source 'Sonatype Data Research'\",\n",
    "                                            \"reference\": {\n",
    "                                                \"type\": \"SECURITY_VULNERABILITY_REFID\",\n",
    "                                                \"value\": \"CVE-2022-25881\"\n",
    "                                            }\n",
    "                                        }\n",
    "                                    ]\n",
    "                                }\n",
    "                            ],\n",
    "                            \"policyId\": \"15a9ec1d903743c78f780f1a449bc41f\",\n",
    "                            \"policyName\": \"Security-High\",\n",
    "                            \"policyViolationId\": \"b2a1216376cc4092bcce38a85795f82a\",\n",
    "                            \"threatLevel\": 8\n",
    "                        }\n",
    "                    ]\n",
    "                }\n",
    "            ]\n",
    "        }\n",
    "    ]\n",
    "}\n",
    "'''\n",
    "\n",
    "# Load the JSON data\n",
    "quarantineList = json.loads(json_data)\n",
    "\n",
    "# Prepare the CSV file\n",
    "csv_file_path = 'components_cve.csv'\n",
    "\n",
    "# Open CSV file for writing\n",
    "with open(csv_file_path, 'w', newline='') as csvfile:\n",
    "    fieldnames = ['Component Identifier', 'CVE ID']\n",
    "    writer = csv.DictWriter(csvfile, fieldnames=fieldnames)\n",
    "    \n",
    "    writer.writeheader()\n",
    "    \n",
    "    # Extract components and their CVE IDs\n",
    "    for entry in quarantineList['componentsInQuarantine']:\n",
    "        for component_entry in entry['components']:\n",
    "            component_identifier = component_entry['component']['componentIdentifier']['coordinates']\n",
    "            identifier = f\"{component_identifier['packageId']}@{component_identifier['version']}\"\n",
    "            \n",
    "            for violation in component_entry['policyViolations']:\n",
    "                for constraint_violation in violation['constraintViolations']:\n",
    "                    for reason in constraint_violation['reasons']:\n",
    "                        cve_id = reason['reference']['value']\n",
    "                        writer.writerow({'Component Identifier': identifier, 'CVE ID': cve_id})\n",
    "\n",
    "print(f\"CSV file '{csv_file_path}' has been created.\")\n"
   ],
   "metadata": {
    "collapsed": false,
    "ExecuteTime": {
     "end_time": "2024-05-30T16:56:27.341354Z",
     "start_time": "2024-05-30T16:56:27.338568Z"
    }
   },
   "id": "4a3d6652eb39e5c0"
  },
  {
   "cell_type": "code",
   "execution_count": null,
   "outputs": [],
   "source": [],
   "metadata": {
    "collapsed": false
   },
   "id": "7ae57f5039e60ac9"
  }
 ],
 "metadata": {
  "kernelspec": {
   "display_name": "Python 3",
   "language": "python",
   "name": "python3"
  },
  "language_info": {
   "codemirror_mode": {
    "name": "ipython",
    "version": 2
   },
   "file_extension": ".py",
   "mimetype": "text/x-python",
   "name": "python",
   "nbconvert_exporter": "python",
   "pygments_lexer": "ipython2",
   "version": "2.7.6"
  }
 },
 "nbformat": 4,
 "nbformat_minor": 5
}
