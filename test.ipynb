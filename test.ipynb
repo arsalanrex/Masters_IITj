{
 "cells": [
  {
   "cell_type": "code",
   "execution_count": null,
   "id": "initial_id",
   "metadata": {
    "collapsed": true
   },
   "outputs": [],
   "source": [
    "from jenkinsapi.jenkins import Jenkins\n",
    "\n",
    "# Define your Jenkins server URL\n",
    "jenkins_url = 'http://your_jenkins_server'\n",
    "\n",
    "# Define your Jenkins username and password\n",
    "username = 'your_username'\n",
    "password = 'your_password'\n",
    "\n",
    "# Define the job name\n",
    "job_name = 'your_job_name'\n",
    "\n",
    "# Create a Jenkins object with your server URL, username, and password\n",
    "jenkins = Jenkins(jenkins_url, username=username, password=password)\n",
    "\n",
    "# Get the specific job\n",
    "job = jenkins[job_name]\n",
    "\n",
    "# Invoke the job\n",
    "job.invoke(build_params={'param1': 'value1', 'param2': 'value2'})\n",
    "\n",
    "# Note: Replace 'param1' and 'param2' with your actual parameter names and 'value1' and 'value2' with your actual parameter values"
   ]
  },
  {
   "cell_type": "code",
   "execution_count": 3,
   "outputs": [],
   "source": [
    "import os\n",
    "import shutil\n",
    "\n",
    "# Path to the directory to be cleaned\n",
    "directory_path = 'test'\n",
    "\n",
    "# Check if the directory exists\n",
    "if os.path.exists(directory_path):\n",
    "    # Delete all files and subdirectories in the directory\n",
    "    for item in os.listdir(directory_path):\n",
    "        item_path = os.path.join(directory_path, item)\n",
    "        if os.path.isdir(item_path):\n",
    "            shutil.rmtree(item_path)  # Delete subdirectory\n",
    "        else:\n",
    "            os.remove(item_path)  # Delete file\n"
   ],
   "metadata": {
    "collapsed": false,
    "ExecuteTime": {
     "end_time": "2024-04-23T15:39:24.846524Z",
     "start_time": "2024-04-23T15:39:24.835437Z"
    }
   },
   "id": "50f44ed5de539bd2"
  },
  {
   "cell_type": "code",
   "execution_count": null,
   "outputs": [],
   "source": [],
   "metadata": {
    "collapsed": false
   },
   "id": "4a3d6652eb39e5c0"
  }
 ],
 "metadata": {
  "kernelspec": {
   "display_name": "Python 3",
   "language": "python",
   "name": "python3"
  },
  "language_info": {
   "codemirror_mode": {
    "name": "ipython",
    "version": 2
   },
   "file_extension": ".py",
   "mimetype": "text/x-python",
   "name": "python",
   "nbconvert_exporter": "python",
   "pygments_lexer": "ipython2",
   "version": "2.7.6"
  }
 },
 "nbformat": 4,
 "nbformat_minor": 5
}
