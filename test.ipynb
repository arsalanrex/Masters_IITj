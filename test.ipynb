{
 "cells": [
  {
   "cell_type": "code",
   "execution_count": 2,
   "id": "initial_id",
   "metadata": {
    "collapsed": true,
    "ExecuteTime": {
     "end_time": "2024-08-18T01:08:28.820147Z",
     "start_time": "2024-08-18T01:08:28.814627Z"
    }
   },
   "outputs": [
    {
     "name": "stdout",
     "output_type": "stream",
     "text": [
      "Iteration  | a        | b        | c        | f(c)     | Tol       \n",
      "------------------------------------------------------------\n",
      "1          | 2        | 3        | 2.5      | 5.625    | 0.5       \n",
      "2          | 2        | 2.5      | 2.25     | 1.8906   | 0.25      \n",
      "3          | 2        | 2.25     | 2.125    | 0.3457   | 0.125     \n",
      "4          | 2        | 2.125    | 2.0625   | -0.3513  | 0.0625    \n",
      "5          | 2.0625   | 2.125    | 2.0938   | -0.0084  | 0.0312    \n",
      "6          | 2.0938   | 2.125    | 2.1094   | 0.1671   | 0.0156    \n",
      "\n",
      "The root is approximately: 2.1094\n"
     ]
    }
   ],
   "source": [
    "# Bisection Method\n",
    "# The bisection method is a root-finding method that applies to any continuous function for which one knows two values with opposite signs. The method consists of repeatedly bisecting the interval defined by these values and then selecting the subinterval in which the function changes sign, and therefore must contain a root. The method is a simple example of a bracketing method.\n",
    "\n",
    "def f(x):\n",
    "    return x**3 - 2*x - 5\n",
    "\n",
    "def bisection_method(a, b, tol):\n",
    "    if f(a) * f(b) >= 0:\n",
    "        print(\"The Bisection method fails.\")\n",
    "        return None\n",
    "    \n",
    "    iteration = 0\n",
    "    a_values = []\n",
    "    b_values = []\n",
    "    c_values = []\n",
    "    tolerances = []\n",
    "    \n",
    "    # Print the table header\n",
    "    print(f\"{'Iteration':<10} | {'a':<8} | {'b':<8} | {'c':<8} | {'f(c)':<8} | {'Tol':<10}\")\n",
    "    print('-' * 60)\n",
    "    \n",
    "    while (b - a) / 2 > tol:\n",
    "        c = round((a + b) / 2, decimals)\n",
    "        \n",
    "        # Append the current values of a, b, c, and tolerance\n",
    "        a_values.append(round(a, decimals))\n",
    "        b_values.append(round(b, decimals))\n",
    "        c_values.append(round(c, decimals))\n",
    "        tolerances.append(round((b - a) / 2, decimals))\n",
    "        \n",
    "        # Print current iteration details in tabular form\n",
    "        iteration += 1\n",
    "        print(f\"{iteration:<10} | {round(a, decimals):<8} | {round(b, decimals):<8} | {round(c, decimals):<8} | {round(f(c), decimals):<8} | {tolerances[-1]:<10}\")\n",
    "        \n",
    "        # Update the interval based on the sign of f(c)\n",
    "        if f(c) == 0:  # We've found the exact root\n",
    "            break\n",
    "        elif f(a) * f(c) < 0:  # The root lies between a and c\n",
    "            b = c\n",
    "        else:  # The root lies between c and b\n",
    "            a = c\n",
    "    \n",
    "    return c, a_values, b_values, c_values, tolerances\n",
    "\n",
    "\n",
    "# Given values\n",
    "a = 2\n",
    "b = 3\n",
    "tol = 0.01\n",
    "decimals = 4\n",
    "\n",
    "root, a_values, b_values, c_values, tolerances = bisection_method(a, b, tol)\n",
    "if root is not None:\n",
    "    print(f\"\\nThe root is approximately: {root}\")\n"
   ]
  },
  {
   "cell_type": "code",
   "execution_count": 1,
   "outputs": [
    {
     "name": "stdout",
     "output_type": "stream",
     "text": [
      "f(x)  = x**2 - 4*x - 7\n",
      "f'(x) = 2*x - 4\n",
      "\n",
      "x(n+1) = x(n) - f(x(n))\n",
      "               --------\n",
      "                f'(x(n)\n",
      "\n",
      "\n",
      "Iteration  | x0       | x1       | f(x1)    | f_prm(x1) | Tol       \n",
      "------------------------------------------------------------\n",
      "1          | 5        | 5.3333   | 0.1111   | 6.6667   | 0.3333    \n",
      "2          | 5.3333   | 5.3167   | 0.0003   | 6.6333   | 0.0167    \n",
      "\n",
      "The root is approximately: 5.3166\n"
     ]
    }
   ],
   "source": [
    "# Newton-Raphson Method\n",
    "# The Newton-Raphson method is a root-finding method that uses linear approximation to iteratively find the root of a real-valued function. The method requires that the function be differentiable and that the derivative is known. The formula for the method is given by:\n",
    "# x(n+1) = x(n) - f(x(n)) / f'(x(n))\n",
    "\n",
    "import sympy as sp\n",
    "\n",
    "# Define the symbolic variable and function\n",
    "x = sp.Symbol('x')\n",
    "f_symbolic = x**2 - 4*x - 7\n",
    "\n",
    "# Define the derivative of the function symbolically\n",
    "f_prime_symbolic = sp.diff(f_symbolic, x)\n",
    "\n",
    "# Convert symbolic function and derivative to numerical functions\n",
    "f = sp.lambdify(x, f_symbolic, 'math')\n",
    "f_prime = sp.lambdify(x, f_prime_symbolic, 'math')\n",
    "print(f\"f(x)  = {f_symbolic}\")\n",
    "print(f\"f'(x) = {f_prime_symbolic}\\n\")\n",
    "print(\"x(n+1) = x(n) - f(x(n))\")\n",
    "print(\"               --------\")\n",
    "print(\"                f'(x(n)\\n\\n\")\n",
    "\n",
    "def newton_raphson_method(x0, tol):\n",
    "    # Compute initial x1\n",
    "    x1 = x0 - f(x0) / f_prime(x0)\n",
    "    \n",
    "    iteration = 0\n",
    "    x_values = []\n",
    "    tolerances = []\n",
    "    f_prime_values = []\n",
    "    \n",
    "    # Print the table header\n",
    "    print(f\"{'Iteration':<10} | {'x0':<8} | {'x1':<8} | {'f(x1)':<8} | {'f_prm(x1)':<8} | {'Tol':<10}\")\n",
    "    print('-' * 60)\n",
    "    \n",
    "    while abs(x1 - x0) > tol:\n",
    "        # Append the current values of x0, f(x1), f'(x1), and tolerance\n",
    "        x_values.append(round(x0, decimals))\n",
    "        tolerances.append(round(abs(x1 - x0), decimals))\n",
    "        f_prime_values.append(round(f_prime(x1), decimals))\n",
    "        \n",
    "        # Print current iteration details in tabular form\n",
    "        iteration += 1\n",
    "        print(f\"{iteration:<10} | {round(x0, decimals):<8} | {round(x1, decimals):<8} | {round(f(x1), decimals):<8} | {round(f_prime(x1), decimals):<8} | {round(abs(x1 - x0), decimals):<10}\")\n",
    "        \n",
    "        # Update x0 and x1 for the next iteration\n",
    "        x0 = x1\n",
    "        x1 = x0 - f(x0) / f_prime(x0)\n",
    "    \n",
    "    return x1, x_values, tolerances\n",
    "\n",
    "\n",
    "# Given values\n",
    "x0 = 5\n",
    "tol = 0.01\n",
    "decimals = 4\n",
    "\n",
    "root, x_values, tolerances = newton_raphson_method(x0, tol)\n",
    "if root is not None:\n",
    "    print(f\"\\nThe root is approximately: {round(root, decimals)}\")\n"
   ],
   "metadata": {
    "collapsed": false,
    "ExecuteTime": {
     "end_time": "2024-08-18T01:08:18.679597Z",
     "start_time": "2024-08-18T01:08:18.435909Z"
    }
   },
   "id": "50f44ed5de539bd2"
  },
  {
   "cell_type": "code",
   "execution_count": null,
   "outputs": [],
   "source": [],
   "metadata": {
    "collapsed": false
   },
   "id": "4a3d6652eb39e5c0"
  }
 ],
 "metadata": {
  "kernelspec": {
   "display_name": "Python 3",
   "language": "python",
   "name": "python3"
  },
  "language_info": {
   "codemirror_mode": {
    "name": "ipython",
    "version": 2
   },
   "file_extension": ".py",
   "mimetype": "text/x-python",
   "name": "python",
   "nbconvert_exporter": "python",
   "pygments_lexer": "ipython2",
   "version": "2.7.6"
  }
 },
 "nbformat": 4,
 "nbformat_minor": 5
}
