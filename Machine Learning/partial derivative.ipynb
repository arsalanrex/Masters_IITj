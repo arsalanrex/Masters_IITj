{
 "cells": [
  {
   "cell_type": "code",
   "execution_count": 21,
   "id": "initial_id",
   "metadata": {
    "collapsed": true,
    "ExecuteTime": {
     "end_time": "2024-03-22T11:15:53.114300Z",
     "start_time": "2024-03-22T11:15:53.109747Z"
    }
   },
   "outputs": [
    {
     "name": "stdout",
     "output_type": "stream",
     "text": [
      "∇f:  2*x1 - 2 \n",
      "\t 2*x2 - 4 \n"
     ]
    }
   ],
   "source": [
    "import sympy as sp\n",
    "\n",
    "# Define symbols\n",
    "x1, x2 = sp.symbols('x1 x2')\n",
    "\n",
    "# Define function\n",
    "f = (x1-1)**2 + (x2-2)**2\n",
    "\n",
    "# Compute partial derivatives\n",
    "df_dx1 = sp.diff(f, x1)\n",
    "df_dx2 = sp.diff(f, x2)\n",
    "\n",
    "print(\"∇f: \", df_dx1,\"\\n\\t\", df_dx2, \"\")\n"
   ]
  },
  {
   "cell_type": "code",
   "execution_count": 36,
   "outputs": [
    {
     "name": "stdout",
     "output_type": "stream",
     "text": [
      "Gradient of f: [2*x1 - 2, 2*x2 - 4]\n",
      "Minimum found at: [0.999998, 2.00000]\n",
      "Iterations: 59\n"
     ]
    }
   ],
   "source": [
    "import sympy as sp\n",
    "\n",
    "def steepest_descent(func, x, x0, step_size, tol, max_iter, precision):\n",
    "    \n",
    "    gradient = [sp.diff(func, var) for var in x]\n",
    "    print(\"Gradient of f:\", gradient)\n",
    "\n",
    "    x_current = x0\n",
    "    iterations = 0\n",
    "\n",
    "    while iterations < max_iter:\n",
    "        gradient_at_x = [g.subs(zip(x, x_current)) for g in gradient]\n",
    "\n",
    "        # Update rule: x_next = x_current - step_size * gradient\n",
    "        x_next = [x_curr - step_size * grad for x_curr, grad in zip(x_current, gradient_at_x)]\n",
    "\n",
    "        # Check for convergence\n",
    "        if all(abs(x_n - x_c) < tol for x_n, x_c in zip(x_next, x_current)):\n",
    "            break\n",
    "\n",
    "        x_current = [sp.Float(val, precision) for val in x_next]\n",
    "        iterations += 1\n",
    "\n",
    "    return x_current, iterations\n",
    "\n",
    "if __name__ == \"__main__\":\n",
    "    \n",
    "    x1, x2 = sp.symbols('x1 x2') # Define symbols\n",
    "    f = (x1 - 1)**2 + (x2 - 2)**2  # Define function   \n",
    "    x = [x1, x2] # Define variables \n",
    "    x0 = [0, 0] # Initial guess \n",
    "    step_size = 0.1 # Step size\n",
    "    tol = 1e-6 # Tolerance for convergence\n",
    "    max_iter = 1000 # Maximum number of iterations\n",
    "    precision = 6  # Precision (number of decimal places)\n",
    "\n",
    "    # Perform steepest descent optimization\n",
    "    x_min, iterations = steepest_descent(f, x, x0, step_size, tol, max_iter, precision)\n",
    "\n",
    "    print(\"Minimum found at:\", x_min)\n",
    "    print(\"Iterations:\", iterations)\n"
   ],
   "metadata": {
    "collapsed": false,
    "ExecuteTime": {
     "end_time": "2024-03-22T11:31:07.379086Z",
     "start_time": "2024-03-22T11:31:07.357063Z"
    }
   },
   "id": "415ae7a1cb9deed7"
  },
  {
   "cell_type": "code",
   "execution_count": 54,
   "outputs": [
    {
     "name": "stdout",
     "output_type": "stream",
     "text": [
      "   itr     x1     x2                  tol\n",
      "0    1  1.800  2.000  3.05175781245559e-6\n",
      "1    2  1.640  2.000  3.05175781245559e-6\n",
      "2    3  1.512  2.000  6.10351562491118e-6\n",
      "3    4  1.410  2.000  3.05175781245559e-6\n",
      "4    5  1.328  2.000  6.10351562491118e-6\n",
      "5    6  1.262  2.000  3.05175781245559e-6\n",
      "6    7  1.210  2.000  3.05175781245559e-6\n",
      "7    8  1.168  2.000  6.10351562491118e-6\n",
      "8    9  1.134  2.000  3.05175781245559e-6\n",
      "9   10  1.107  2.000                    0\n"
     ]
    }
   ],
   "source": [],
   "metadata": {
    "collapsed": false,
    "ExecuteTime": {
     "end_time": "2024-03-22T11:39:46.215445Z",
     "start_time": "2024-03-22T11:39:46.211202Z"
    }
   },
   "id": "b57dd1a66a791c15"
  },
  {
   "cell_type": "code",
   "execution_count": null,
   "outputs": [],
   "source": [],
   "metadata": {
    "collapsed": false
   },
   "id": "b4a05ea4da3d7541"
  }
 ],
 "metadata": {
  "kernelspec": {
   "display_name": "Python 3",
   "language": "python",
   "name": "python3"
  },
  "language_info": {
   "codemirror_mode": {
    "name": "ipython",
    "version": 2
   },
   "file_extension": ".py",
   "mimetype": "text/x-python",
   "name": "python",
   "nbconvert_exporter": "python",
   "pygments_lexer": "ipython2",
   "version": "2.7.6"
  }
 },
 "nbformat": 4,
 "nbformat_minor": 5
}
