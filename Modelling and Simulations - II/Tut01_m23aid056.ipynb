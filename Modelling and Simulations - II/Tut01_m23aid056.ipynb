{
  "nbformat": 4,
  "nbformat_minor": 0,
  "metadata": {
    "colab": {
      "provenance": []
    },
    "kernelspec": {
      "name": "python3",
      "display_name": "Python 3"
    },
    "language_info": {
      "name": "python"
    }
  },
  "cells": [
    {
      "cell_type": "markdown",
      "source": [
        "**Question 1:**"
      ],
      "metadata": {
        "id": "dqs3Smc0CofJ"
      }
    },
    {
      "cell_type": "code",
      "source": [
        "def gauss_jacobi(A, b, x0, tol=1e-6, max_iter=1000):\n",
        "    n = len(A)\n",
        "    x = x0.copy()\n",
        "    x_new = x0.copy()\n",
        "    for _ in range(max_iter):\n",
        "        for i in range(n):\n",
        "            sigma = sum(A[i][j] * x[j] for j in range(n) if j != i)\n",
        "            x_new[i] = (b[i] - sigma) / A[i][i]\n",
        "        if all(abs(x_new[i] - x[i]) < tol for i in range(n)):\n",
        "            return x_new\n",
        "        x = x_new.copy()\n",
        "    raise ValueError(\"Gauss-Jacobi method did not converge within the specified tolerance.\")\n",
        "\n",
        "\n",
        "def gauss_seidel(A, b, x0, tol=1e-6, max_iter=1000):\n",
        "    n = len(A)\n",
        "    x = x0.copy()\n",
        "    for _ in range(max_iter):\n",
        "        for i in range(n):\n",
        "            sigma = sum(A[i][j] * x[j] for j in range(n) if j != i)\n",
        "            x[i] = (b[i] - sigma) / A[i][i]\n",
        "        if all(abs(sum(A[i][j] * x[j] for j in range(n)) - b[i]) < tol for i in range(n)):\n",
        "            return x\n",
        "    raise ValueError(\"Gauss-Seidel method did not converge within the specified tolerance.\")\n",
        "\n",
        "# Example usage:\n",
        "A = [[10, -1, 2], [1, 10, -1], [-2, 1, 10]]\n",
        "b = [6, 9, 6]\n",
        "x0 = [0, 0, 0]\n",
        "\n",
        "# Solve using Gauss-Jacobi\n",
        "print(\"Gauss-Jacobi solution:\", gauss_jacobi(A, b, x0))\n",
        "\n",
        "# Solve using Gauss-Seidel\n",
        "print(\"Gauss-Seidel solution:\", gauss_seidel(A, b, x0))\n"
      ],
      "metadata": {
        "colab": {
          "base_uri": "https://localhost:8080/"
        },
        "id": "EZFNFnpUCrTp",
        "outputId": "60d16878-3138-40ed-8147-6f821341225b"
      },
      "execution_count": 1,
      "outputs": [
        {
          "output_type": "stream",
          "name": "stdout",
          "text": [
            "Gauss-Jacobi solution: [0.5660377872, 0.9056603040000001, 0.6226416048]\n",
            "Gauss-Seidel solution: [0.5660377716397991, 0.9056603638044616, 0.6226415179475137]\n"
          ]
        }
      ]
    },
    {
      "cell_type": "markdown",
      "source": [
        "**Question 2 :**"
      ],
      "metadata": {
        "id": "H-dPeeQeGDD8"
      }
    },
    {
      "cell_type": "code",
      "source": [
        "import numpy as np\n",
        "\n",
        "def gauss_seidel(A, b, x0, tol=1e-6, max_iter=1000):\n",
        "    n = len(A)\n",
        "    x = x0.copy()\n",
        "    for _ in range(max_iter):\n",
        "        for i in range(n):\n",
        "            sigma = sum(A[i][j] * x[j] for j in range(n) if j != i)\n",
        "            x[i] = (b[i] - sigma) / A[i][i]\n",
        "        if all(abs(sum(A[i][j] * x[j] for j in range(n)) - b[i]) < tol for i in range(n)):\n",
        "            return x\n",
        "    raise ValueError(\"Gauss-Seidel method did not converge within the specified tolerance.\")\n",
        "\n",
        "# Define the coefficient matrix and the right-hand side vector\n",
        "A = np.array([[-4, 1, 0, 1, 0, 0, 0, 0, 0],\n",
        "              [1, -4, 1, 0, 1, 0, 0, 0, 0],\n",
        "              [0, 1, -4, 0, 0, 1, 0, 0, 0],\n",
        "              [1, 0, 0, -4, 1, 0, 1, 0, 0],\n",
        "              [0, 1, 0, 1, -4, 1, 0, 1, 0],\n",
        "              [0, 0, 1, 0, 1, -4, 0, 0, 1],\n",
        "              [0, 0, 0, 1, 0, 0, -4, 1, 0],\n",
        "              [0, 0, 0, 0, 1, 0, 1, -4, 1],\n",
        "              [0, 0, 0, 0, 0, 1, 0, 1, -4]], dtype=float)\n",
        "\n",
        "b = np.array([-100, -20, -20, -80, 0, 0, -260, -180, -180])\n",
        "\n",
        "# Initial guess\n",
        "x0 = np.zeros(A.shape[1])\n",
        "\n",
        "# Solve the system\n",
        "p = gauss_seidel(A, b, x0)\n",
        "\n",
        "print(\"Solution for p1 to p9:\")\n",
        "print(p)\n"
      ],
      "metadata": {
        "colab": {
          "base_uri": "https://localhost:8080/"
        },
        "id": "ad1X2sgeGuVx",
        "outputId": "918834a9-7dda-496c-815c-a8f6714c1b62"
      },
      "execution_count": 25,
      "outputs": [
        {
          "output_type": "stream",
          "name": "stdout",
          "text": [
            "Solution for p1 to p9:\n",
            "[ 55.71428545  43.21428545  27.14285701  79.64285688  69.99999973\n",
            "  45.35714272 112.85714272 111.78571415  84.28571422]\n"
          ]
        }
      ]
    },
    {
      "cell_type": "markdown",
      "source": [
        "**Question 3 :**"
      ],
      "metadata": {
        "id": "qrHMXbkYH8th"
      }
    },
    {
      "cell_type": "code",
      "source": [
        "import numpy as np\n",
        "\n",
        "def steepest_descent(A, b, x0, tol=1e-6, max_iter=1000):\n",
        "    x = x0\n",
        "    iteration = 0\n",
        "\n",
        "    while iteration < max_iter:\n",
        "        r = b - np.dot(A, x)  # Compute the residual vector\n",
        "        alpha = np.dot(r, r) / np.dot(r, np.dot(A, r))  # Compute the step size\n",
        "        x = x + alpha * r  # Update the solution\n",
        "        if np.linalg.norm(r) < tol:\n",
        "            break\n",
        "        iteration += 1\n",
        "\n",
        "    return x\n",
        "\n",
        "# Define the matrix A and vector b\n",
        "A = np.array([[1, 1, 1], [350, 700, 1400]]).T  # Transpose A to make it a 3x2 matrix\n",
        "b = np.array([25, 28000, 1])  # Add a zero to make b a 1D array of length 3\n",
        "\n",
        "# Initial guess\n",
        "x0 = np.array([0, 0, 0])\n",
        "\n",
        "# Solve the system of equations using the steepest descent method\n",
        "x = steepest_descent(A, b, x0)\n",
        "\n",
        "print(f\"The solution is: {x}\")\n"
      ],
      "metadata": {
        "colab": {
          "base_uri": "https://localhost:8080/",
          "height": 332
        },
        "id": "mZeT--47H-S5",
        "outputId": "c8a13c54-698a-4732-bdcb-b1667510d546"
      },
      "execution_count": 23,
      "outputs": [
        {
          "output_type": "error",
          "ename": "ValueError",
          "evalue": "shapes (3,2) and (3,) not aligned: 2 (dim 1) != 3 (dim 0)",
          "traceback": [
            "\u001b[0;31m---------------------------------------------------------------------------\u001b[0m",
            "\u001b[0;31mValueError\u001b[0m                                Traceback (most recent call last)",
            "\u001b[0;32m<ipython-input-23-01d5b741f83b>\u001b[0m in \u001b[0;36m<cell line: 25>\u001b[0;34m()\u001b[0m\n\u001b[1;32m     23\u001b[0m \u001b[0;34m\u001b[0m\u001b[0m\n\u001b[1;32m     24\u001b[0m \u001b[0;31m# Solve the system of equations using the steepest descent method\u001b[0m\u001b[0;34m\u001b[0m\u001b[0;34m\u001b[0m\u001b[0m\n\u001b[0;32m---> 25\u001b[0;31m \u001b[0mx\u001b[0m \u001b[0;34m=\u001b[0m \u001b[0msteepest_descent\u001b[0m\u001b[0;34m(\u001b[0m\u001b[0mA\u001b[0m\u001b[0;34m,\u001b[0m \u001b[0mb\u001b[0m\u001b[0;34m,\u001b[0m \u001b[0mx0\u001b[0m\u001b[0;34m)\u001b[0m\u001b[0;34m\u001b[0m\u001b[0;34m\u001b[0m\u001b[0m\n\u001b[0m\u001b[1;32m     26\u001b[0m \u001b[0;34m\u001b[0m\u001b[0m\n\u001b[1;32m     27\u001b[0m \u001b[0mprint\u001b[0m\u001b[0;34m(\u001b[0m\u001b[0;34mf\"The solution is: {x}\"\u001b[0m\u001b[0;34m)\u001b[0m\u001b[0;34m\u001b[0m\u001b[0;34m\u001b[0m\u001b[0m\n",
            "\u001b[0;32m<ipython-input-23-01d5b741f83b>\u001b[0m in \u001b[0;36msteepest_descent\u001b[0;34m(A, b, x0, tol, max_iter)\u001b[0m\n\u001b[1;32m      6\u001b[0m \u001b[0;34m\u001b[0m\u001b[0m\n\u001b[1;32m      7\u001b[0m     \u001b[0;32mwhile\u001b[0m \u001b[0miteration\u001b[0m \u001b[0;34m<\u001b[0m \u001b[0mmax_iter\u001b[0m\u001b[0;34m:\u001b[0m\u001b[0;34m\u001b[0m\u001b[0;34m\u001b[0m\u001b[0m\n\u001b[0;32m----> 8\u001b[0;31m         \u001b[0mr\u001b[0m \u001b[0;34m=\u001b[0m \u001b[0mb\u001b[0m \u001b[0;34m-\u001b[0m \u001b[0mnp\u001b[0m\u001b[0;34m.\u001b[0m\u001b[0mdot\u001b[0m\u001b[0;34m(\u001b[0m\u001b[0mA\u001b[0m\u001b[0;34m,\u001b[0m \u001b[0mx\u001b[0m\u001b[0;34m)\u001b[0m  \u001b[0;31m# Compute the residual vector\u001b[0m\u001b[0;34m\u001b[0m\u001b[0;34m\u001b[0m\u001b[0m\n\u001b[0m\u001b[1;32m      9\u001b[0m         \u001b[0malpha\u001b[0m \u001b[0;34m=\u001b[0m \u001b[0mnp\u001b[0m\u001b[0;34m.\u001b[0m\u001b[0mdot\u001b[0m\u001b[0;34m(\u001b[0m\u001b[0mr\u001b[0m\u001b[0;34m,\u001b[0m \u001b[0mr\u001b[0m\u001b[0;34m)\u001b[0m \u001b[0;34m/\u001b[0m \u001b[0mnp\u001b[0m\u001b[0;34m.\u001b[0m\u001b[0mdot\u001b[0m\u001b[0;34m(\u001b[0m\u001b[0mr\u001b[0m\u001b[0;34m,\u001b[0m \u001b[0mnp\u001b[0m\u001b[0;34m.\u001b[0m\u001b[0mdot\u001b[0m\u001b[0;34m(\u001b[0m\u001b[0mA\u001b[0m\u001b[0;34m,\u001b[0m \u001b[0mr\u001b[0m\u001b[0;34m)\u001b[0m\u001b[0;34m)\u001b[0m  \u001b[0;31m# Compute the step size\u001b[0m\u001b[0;34m\u001b[0m\u001b[0;34m\u001b[0m\u001b[0m\n\u001b[1;32m     10\u001b[0m         \u001b[0mx\u001b[0m \u001b[0;34m=\u001b[0m \u001b[0mx\u001b[0m \u001b[0;34m+\u001b[0m \u001b[0malpha\u001b[0m \u001b[0;34m*\u001b[0m \u001b[0mr\u001b[0m  \u001b[0;31m# Update the solution\u001b[0m\u001b[0;34m\u001b[0m\u001b[0;34m\u001b[0m\u001b[0m\n",
            "\u001b[0;31mValueError\u001b[0m: shapes (3,2) and (3,) not aligned: 2 (dim 1) != 3 (dim 0)"
          ]
        }
      ]
    },
    {
      "cell_type": "markdown",
      "source": [
        "**Question 4 :**"
      ],
      "metadata": {
        "id": "TXbQC7_TOzvu"
      }
    },
    {
      "cell_type": "code",
      "source": [
        "import pandas as pd\n",
        "import numpy as np\n",
        "import matplotlib.pyplot as plt\n",
        "from scipy.optimize import curve_fit\n",
        "\n",
        "# Define a function for the curve\n",
        "def func(x, a, b, c):\n",
        "    return a * np.exp(-b * x) + c\n",
        "\n",
        "# Load the data from the CSV file\n",
        "data = pd.read_csv(\"/content/oneyearTempData.csv\")\n",
        "\n",
        "# Convert the 'DATE' column to datetime\n",
        "data['DATE'] = pd.to_datetime(data['DATE'])\n",
        "\n",
        "# Create a 'DAY_OF_YEAR' column\n",
        "data['DAY_OF_YEAR'] = data['DATE'].dt.dayofyear\n",
        "\n",
        "# Fit the curve for MinTemp\n",
        "popt_min, pcov_min = curve_fit(func, data['DAY_OF_YEAR'], data['MinTemp'])\n",
        "\n",
        "# Fit the curve for MaxTemp\n",
        "popt_max, pcov_max = curve_fit(func, data['DAY_OF_YEAR'], data['MaxTemp'])\n",
        "\n",
        "# Generate x values\n",
        "x = np.linspace(1, 365, 365)\n",
        "\n",
        "# Generate y values for the fitted curves\n",
        "y_min = func(x, *popt_min)\n",
        "y_max = func(x, *popt_max)\n",
        "\n",
        "# Plot the data and the fitted curves\n",
        "plt.figure(figsize=(10, 6))\n",
        "plt.scatter(data['DAY_OF_YEAR'], data['MinTemp'], label='MinTemp')\n",
        "plt.scatter(data['DAY_OF_YEAR'], data['MaxTemp'], label='MaxTemp')\n",
        "plt.plot(x, y_min, 'r-', label='fit: a=%5.3f, b=%5.3f, c=%5.3f' % tuple(popt_min))\n",
        "plt.plot(x, y_max, 'b-', label='fit: a=%5.3f, b=%5.3f, c=%5.3f' % tuple(popt_max))\n",
        "plt.xlabel('Day of the Year')\n",
        "plt.ylabel('Temperature')\n",
        "plt.legend()\n",
        "plt.show()\n"
      ],
      "metadata": {
        "colab": {
          "base_uri": "https://localhost:8080/",
          "height": 356
        },
        "id": "7f6ObZOUO3AO",
        "outputId": "5060c30d-789d-4da3-c9b7-cf28c0db8e99"
      },
      "execution_count": 22,
      "outputs": [
        {
          "output_type": "error",
          "ename": "ValueError",
          "evalue": "array must not contain infs or NaNs",
          "traceback": [
            "\u001b[0;31m---------------------------------------------------------------------------\u001b[0m",
            "\u001b[0;31mValueError\u001b[0m                                Traceback (most recent call last)",
            "\u001b[0;32m<ipython-input-22-cd995c4f642e>\u001b[0m in \u001b[0;36m<cell line: 20>\u001b[0;34m()\u001b[0m\n\u001b[1;32m     18\u001b[0m \u001b[0;34m\u001b[0m\u001b[0m\n\u001b[1;32m     19\u001b[0m \u001b[0;31m# Fit the curve for MinTemp\u001b[0m\u001b[0;34m\u001b[0m\u001b[0;34m\u001b[0m\u001b[0m\n\u001b[0;32m---> 20\u001b[0;31m \u001b[0mpopt_min\u001b[0m\u001b[0;34m,\u001b[0m \u001b[0mpcov_min\u001b[0m \u001b[0;34m=\u001b[0m \u001b[0mcurve_fit\u001b[0m\u001b[0;34m(\u001b[0m\u001b[0mfunc\u001b[0m\u001b[0;34m,\u001b[0m \u001b[0mdata\u001b[0m\u001b[0;34m[\u001b[0m\u001b[0;34m'DAY_OF_YEAR'\u001b[0m\u001b[0;34m]\u001b[0m\u001b[0;34m,\u001b[0m \u001b[0mdata\u001b[0m\u001b[0;34m[\u001b[0m\u001b[0;34m'MinTemp'\u001b[0m\u001b[0;34m]\u001b[0m\u001b[0;34m)\u001b[0m\u001b[0;34m\u001b[0m\u001b[0;34m\u001b[0m\u001b[0m\n\u001b[0m\u001b[1;32m     21\u001b[0m \u001b[0;34m\u001b[0m\u001b[0m\n\u001b[1;32m     22\u001b[0m \u001b[0;31m# Fit the curve for MaxTemp\u001b[0m\u001b[0;34m\u001b[0m\u001b[0;34m\u001b[0m\u001b[0m\n",
            "\u001b[0;32m/usr/local/lib/python3.10/dist-packages/scipy/optimize/_minpack_py.py\u001b[0m in \u001b[0;36mcurve_fit\u001b[0;34m(f, xdata, ydata, p0, sigma, absolute_sigma, check_finite, bounds, method, jac, full_output, nan_policy, **kwargs)\u001b[0m\n\u001b[1;32m    886\u001b[0m     \u001b[0;31m# optimization may produce garbage for float32 inputs, cast them to float64\u001b[0m\u001b[0;34m\u001b[0m\u001b[0;34m\u001b[0m\u001b[0m\n\u001b[1;32m    887\u001b[0m     \u001b[0;32mif\u001b[0m \u001b[0mcheck_finite\u001b[0m\u001b[0;34m:\u001b[0m\u001b[0;34m\u001b[0m\u001b[0;34m\u001b[0m\u001b[0m\n\u001b[0;32m--> 888\u001b[0;31m         \u001b[0mydata\u001b[0m \u001b[0;34m=\u001b[0m \u001b[0mnp\u001b[0m\u001b[0;34m.\u001b[0m\u001b[0masarray_chkfinite\u001b[0m\u001b[0;34m(\u001b[0m\u001b[0mydata\u001b[0m\u001b[0;34m,\u001b[0m \u001b[0mfloat\u001b[0m\u001b[0;34m)\u001b[0m\u001b[0;34m\u001b[0m\u001b[0;34m\u001b[0m\u001b[0m\n\u001b[0m\u001b[1;32m    889\u001b[0m     \u001b[0;32melse\u001b[0m\u001b[0;34m:\u001b[0m\u001b[0;34m\u001b[0m\u001b[0;34m\u001b[0m\u001b[0m\n\u001b[1;32m    890\u001b[0m         \u001b[0mydata\u001b[0m \u001b[0;34m=\u001b[0m \u001b[0mnp\u001b[0m\u001b[0;34m.\u001b[0m\u001b[0masarray\u001b[0m\u001b[0;34m(\u001b[0m\u001b[0mydata\u001b[0m\u001b[0;34m,\u001b[0m \u001b[0mfloat\u001b[0m\u001b[0;34m)\u001b[0m\u001b[0;34m\u001b[0m\u001b[0;34m\u001b[0m\u001b[0m\n",
            "\u001b[0;32m/usr/local/lib/python3.10/dist-packages/numpy/lib/function_base.py\u001b[0m in \u001b[0;36masarray_chkfinite\u001b[0;34m(a, dtype, order)\u001b[0m\n\u001b[1;32m    628\u001b[0m     \u001b[0ma\u001b[0m \u001b[0;34m=\u001b[0m \u001b[0masarray\u001b[0m\u001b[0;34m(\u001b[0m\u001b[0ma\u001b[0m\u001b[0;34m,\u001b[0m \u001b[0mdtype\u001b[0m\u001b[0;34m=\u001b[0m\u001b[0mdtype\u001b[0m\u001b[0;34m,\u001b[0m \u001b[0morder\u001b[0m\u001b[0;34m=\u001b[0m\u001b[0morder\u001b[0m\u001b[0;34m)\u001b[0m\u001b[0;34m\u001b[0m\u001b[0;34m\u001b[0m\u001b[0m\n\u001b[1;32m    629\u001b[0m     \u001b[0;32mif\u001b[0m \u001b[0ma\u001b[0m\u001b[0;34m.\u001b[0m\u001b[0mdtype\u001b[0m\u001b[0;34m.\u001b[0m\u001b[0mchar\u001b[0m \u001b[0;32min\u001b[0m \u001b[0mtypecodes\u001b[0m\u001b[0;34m[\u001b[0m\u001b[0;34m'AllFloat'\u001b[0m\u001b[0;34m]\u001b[0m \u001b[0;32mand\u001b[0m \u001b[0;32mnot\u001b[0m \u001b[0mnp\u001b[0m\u001b[0;34m.\u001b[0m\u001b[0misfinite\u001b[0m\u001b[0;34m(\u001b[0m\u001b[0ma\u001b[0m\u001b[0;34m)\u001b[0m\u001b[0;34m.\u001b[0m\u001b[0mall\u001b[0m\u001b[0;34m(\u001b[0m\u001b[0;34m)\u001b[0m\u001b[0;34m:\u001b[0m\u001b[0;34m\u001b[0m\u001b[0;34m\u001b[0m\u001b[0m\n\u001b[0;32m--> 630\u001b[0;31m         raise ValueError(\n\u001b[0m\u001b[1;32m    631\u001b[0m             \"array must not contain infs or NaNs\")\n\u001b[1;32m    632\u001b[0m     \u001b[0;32mreturn\u001b[0m \u001b[0ma\u001b[0m\u001b[0;34m\u001b[0m\u001b[0;34m\u001b[0m\u001b[0m\n",
            "\u001b[0;31mValueError\u001b[0m: array must not contain infs or NaNs"
          ]
        }
      ]
    },
    {
      "cell_type": "markdown",
      "source": [
        "**Question 5 :**"
      ],
      "metadata": {
        "id": "aq4DGEa9O3bu"
      }
    },
    {
      "cell_type": "code",
      "source": [],
      "metadata": {
        "id": "1e-YHEZEO5a2"
      },
      "execution_count": 22,
      "outputs": []
    }
  ]
}