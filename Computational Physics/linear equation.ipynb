{
 "cells": [
  {
   "cell_type": "code",
   "execution_count": 12,
   "outputs": [
    {
     "name": "stdout",
     "output_type": "stream",
     "text": [
      "Matrix A:\n",
      "[[ 2  2  2  4]\n",
      " [ 6 -6  6 12]\n",
      " [ 4  3  3 -3]\n",
      " [ 2  2  3  4]]\n",
      "\n",
      "Vector x (variables):\n",
      "[x1, x2, x3, x4]\n",
      "\n",
      "Vector b:\n",
      "[ 6 36 -1 10]\n"
     ]
    }
   ],
   "source": [
    "# Converting linear equations to matrix form\n",
    "\n",
    "import re\n",
    "import numpy as np\n",
    "\n",
    "def parse_equation(equation, variables):\n",
    "    # Initialize coefficients for each variable to 0\n",
    "    coeffs = {var: 0 for var in variables}\n",
    "    \n",
    "    # Extract terms with their signs and coefficients\n",
    "    terms = re.findall(r'[+-]?\\s*\\d*\\s*[a-zA-Z]\\d*', equation)\n",
    "    \n",
    "    for term in terms:\n",
    "        # Extract the variable and coefficient in each term\n",
    "        var = re.findall(r'[a-zA-Z]\\d*', term)[0]\n",
    "        coeff = re.findall(r'[+-]?\\s*\\d+', term)\n",
    "        \n",
    "        # Handle cases with implicit coefficients (e.g., +x1 => +1x1)\n",
    "        if coeff:\n",
    "            coeff = int(coeff[0].replace(\" \", \"\"))\n",
    "        else:\n",
    "            coeff = 1 if term[0] not in '-+' else int(term[0] + '1')\n",
    "        \n",
    "        # Assign the coefficient to the corresponding variable\n",
    "        coeffs[var] = coeff\n",
    "    \n",
    "    # Extract the constant on the right-hand side of the equation\n",
    "    constant = re.findall(r'(?<=\\=)\\s*[+-]?\\d+', equation)\n",
    "    constant = int(constant[0]) if constant else 0\n",
    "    \n",
    "    # Return the list of coefficients and the constant\n",
    "    return [coeffs[var] for var in variables], constant\n",
    "\n",
    "def extract_variables(equations):\n",
    "    # Extract variables in the format 'x', 'y', 'z', 'x1', 'x2', etc.\n",
    "    variables = set(re.findall(r'[a-zA-Z]\\d*', ' '.join(equations)))\n",
    "    return sorted(variables, key=lambda x: (re.sub(r'\\d+', '', x), int(re.findall(r'\\d+', x)[0]) if re.findall(r'\\d+', x) else 0))\n",
    "\n",
    "def create_matrix_form(equations):\n",
    "    variables = extract_variables(equations)\n",
    "    \n",
    "    A = []\n",
    "    b = []\n",
    "    \n",
    "    for equation in equations:\n",
    "        coeffs, constant = parse_equation(equation, variables)\n",
    "        A.append(coeffs)\n",
    "        b.append(constant)\n",
    "    \n",
    "    return np.array(A), np.array(b), variables\n",
    "\n",
    "def print_matrix_form(A, b, variables):\n",
    "    # Print matrix A\n",
    "    print(\"Matrix A:\")\n",
    "    print(np.array_str(A, precision=2, suppress_small=True))\n",
    "\n",
    "    # Print vector x (variables)\n",
    "    print(\"\\nVector x (variables):\")\n",
    "    print(f\"[{', '.join(variables)}]\")\n",
    "\n",
    "    # Print vector b\n",
    "    print(\"\\nVector b:\")\n",
    "    print(np.array_str(b, precision=2, suppress_small=True))\n",
    "\n",
    "def main():\n",
    "    equations = [\n",
    "        # Uncomment either of these two blocks to test different cases\n",
    "\n",
    "        # Case 1: Variables without subscripts\n",
    "        # \"4y + 2z = 1\",\n",
    "        # \"2x + 3y + 5z = 0\",\n",
    "        # \"3x + y + z = 11\"\n",
    "        \n",
    "        # Case 2: Variables with subscripts\n",
    "        \"2x1 + x2 + 2x3 + x4 = 6\",\n",
    "        \"6x1 - 6x2 + 6x3 + 12x4 = 36\",\n",
    "        \"4x1 + 3x2 + 3x3 - 3x4 = -1\",\n",
    "        \"2x1 + 2x2 - x3 + x4 = 10\"\n",
    "    ]\n",
    "    \n",
    "    A, b, variables = create_matrix_form(equations)\n",
    "    print_matrix_form(A, b, variables)\n",
    "\n",
    "if __name__ == \"__main__\":\n",
    "    main()\n"
   ],
   "metadata": {
    "collapsed": false,
    "ExecuteTime": {
     "end_time": "2024-08-30T19:28:53.549482Z",
     "start_time": "2024-08-30T19:28:53.542410Z"
    }
   },
   "id": "ace2b0801d1f9878"
  },
  {
   "cell_type": "code",
   "execution_count": 9,
   "outputs": [],
   "source": [],
   "metadata": {
    "collapsed": false,
    "ExecuteTime": {
     "end_time": "2024-08-30T19:26:04.067868Z",
     "start_time": "2024-08-30T19:26:04.045665Z"
    }
   },
   "id": "9cf40d7b9c1cf8fc"
  },
  {
   "cell_type": "code",
   "execution_count": 9,
   "outputs": [],
   "source": [],
   "metadata": {
    "collapsed": false,
    "ExecuteTime": {
     "end_time": "2024-08-30T19:26:04.214733Z",
     "start_time": "2024-08-30T19:26:04.205245Z"
    }
   },
   "id": "d621612f06a08104"
  },
  {
   "cell_type": "code",
   "execution_count": 9,
   "outputs": [],
   "source": [],
   "metadata": {
    "collapsed": false,
    "ExecuteTime": {
     "end_time": "2024-08-30T19:26:04.362289Z",
     "start_time": "2024-08-30T19:26:04.353946Z"
    }
   },
   "id": "2121ca0c254fdc36"
  },
  {
   "cell_type": "code",
   "execution_count": null,
   "outputs": [],
   "source": [],
   "metadata": {
    "collapsed": false
   },
   "id": "b99dd2f9dbc424ba"
  }
 ],
 "metadata": {
  "kernelspec": {
   "display_name": "Python 3",
   "language": "python",
   "name": "python3"
  },
  "language_info": {
   "codemirror_mode": {
    "name": "ipython",
    "version": 2
   },
   "file_extension": ".py",
   "mimetype": "text/x-python",
   "name": "python",
   "nbconvert_exporter": "python",
   "pygments_lexer": "ipython2",
   "version": "2.7.6"
  }
 },
 "nbformat": 4,
 "nbformat_minor": 5
}
