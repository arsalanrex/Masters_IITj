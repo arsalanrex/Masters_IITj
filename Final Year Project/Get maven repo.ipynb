{
 "cells": [
  {
   "cell_type": "code",
   "execution_count": null,
   "outputs": [],
   "source": [
    "import requests\n",
    "import csv\n",
    "import time\n",
    "\n",
    "def write_to_csv(data):\n",
    "    with open('maven_artifacts.csv', 'a') as f:\n",
    "        writer = csv.writer(f)\n",
    "        writer.writerow(data)\n",
    "\n",
    "def get_artifacts():\n",
    "    url = \"https://search.maven.org/solrsearch/select\"\n",
    "    rows = 20\n",
    "    start = 0\n",
    "\n",
    "    # Write the headers to the CSV file\n",
    "    write_to_csv(['groupId', 'artifactId', 'version'])\n",
    "\n",
    "    while True:\n",
    "        params = {\n",
    "            \"q\": \"*:*\",\n",
    "            \"rows\": rows,\n",
    "            \"start\": start,\n",
    "            \"wt\": \"json\"\n",
    "        }\n",
    "\n",
    "        try:\n",
    "            response = requests.get(url, params=params)\n",
    "            response.raise_for_status()\n",
    "        except requests.exceptions.HTTPError as errh:\n",
    "            print (\"HTTP Error:\", errh)\n",
    "            break\n",
    "        except requests.exceptions.ConnectionError as errc:\n",
    "            print (\"Error Connecting:\", errc)\n",
    "            break\n",
    "        except requests.exceptions.Timeout as errt:\n",
    "            print (\"Timeout Error:\", errt)\n",
    "            break\n",
    "        except requests.exceptions.RequestException as err:\n",
    "            print (\"Something went wrong:\", err)\n",
    "            break\n",
    "\n",
    "        data = response.json()\n",
    "\n",
    "        docs = data['response']['docs']\n",
    "\n",
    "        for doc in docs:\n",
    "            groupId = doc.get('g', 'N/A')\n",
    "            artifactId = doc.get('a', 'N/A')\n",
    "            version = doc.get('latestVersion', 'N/A')\n",
    "            write_to_csv([groupId, artifactId, version])\n",
    "\n",
    "        num_found = data['response']['numFound']\n",
    "        if start + rows >= num_found:\n",
    "            break\n",
    "\n",
    "        start += rows\n",
    "        time.sleep(1)  # To prevent rate limiting\n",
    "\n",
    "get_artifacts()\n"
   ],
   "metadata": {
    "collapsed": false,
    "is_executing": true,
    "ExecuteTime": {
     "start_time": "2024-04-16T06:17:39.438408Z"
    }
   },
   "id": "463254030beab628"
  },
  {
   "cell_type": "code",
   "execution_count": 9,
   "outputs": [],
   "source": [],
   "metadata": {
    "collapsed": false,
    "ExecuteTime": {
     "end_time": "2024-04-16T06:17:35.911462Z",
     "start_time": "2024-04-16T06:17:35.861469Z"
    }
   },
   "id": "dc6543ea51f9f212"
  },
  {
   "cell_type": "code",
   "execution_count": null,
   "outputs": [],
   "source": [],
   "metadata": {
    "collapsed": false
   },
   "id": "480c938c26bdd149"
  }
 ],
 "metadata": {
  "kernelspec": {
   "display_name": "Python 3",
   "language": "python",
   "name": "python3"
  },
  "language_info": {
   "codemirror_mode": {
    "name": "ipython",
    "version": 2
   },
   "file_extension": ".py",
   "mimetype": "text/x-python",
   "name": "python",
   "nbconvert_exporter": "python",
   "pygments_lexer": "ipython2",
   "version": "2.7.6"
  }
 },
 "nbformat": 4,
 "nbformat_minor": 5
}
