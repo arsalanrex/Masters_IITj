{
 "cells": [
  {
   "cell_type": "code",
   "execution_count": 3,
   "id": "initial_id",
   "metadata": {
    "collapsed": true,
    "ExecuteTime": {
     "end_time": "2024-04-16T05:47:19.337090Z",
     "start_time": "2024-04-16T05:47:18.282569Z"
    }
   },
   "outputs": [],
   "source": [
    "import requests\n",
    "\n",
    "def get_all_artifacts():\n",
    "    artifacts = []\n",
    "    page = 1\n",
    "    while True:\n",
    "        url = f\"https://search.maven.org/solrsearch/select?q=g%3A%22*%22&rows=100&start={100 * (page - 1)}&wt=json\"\n",
    "        response = requests.get(url)\n",
    "        data = response.json()\n",
    "\n",
    "        for doc in data[\"response\"][\"docs\"]:\n",
    "            group_id = doc[\"g\"]\n",
    "            artifact_id = doc[\"a\"]\n",
    "            version = doc[\"latestVersion\"]\n",
    "            artifacts.append((group_id, artifact_id, version))\n",
    "\n",
    "        # Check if there are more pages\n",
    "        if (page * 100) >= data[\"response\"][\"numFound\"]:\n",
    "            break\n",
    "        \n",
    "        page += 1\n",
    "\n",
    "    return artifacts\n",
    "\n",
    "if __name__ == \"__main__\":\n",
    "    all_artifacts = get_all_artifacts()\n",
    "    for group_id, artifact_id, version in all_artifacts:\n",
    "        print(f\"GroupId: {group_id}, ArtifactId: {artifact_id}, Version: {version}\")\n"
   ]
  },
  {
   "cell_type": "code",
   "execution_count": 4,
   "outputs": [],
   "source": [
    "import csv\n",
    "import requests\n",
    "\n",
    "def get_all_artifacts():\n",
    "    artifacts = []\n",
    "    page = 1\n",
    "    while True:\n",
    "        url = f\"https://search.maven.org/solrsearch/select?q=g%3A%22*%22&rows=100&start={100 * (page - 1)}&wt=json\"\n",
    "        response = requests.get(url)\n",
    "        data = response.json()\n",
    "\n",
    "        for doc in data[\"response\"][\"docs\"]:\n",
    "            group_id = doc[\"g\"]\n",
    "            artifact_id = doc[\"a\"]\n",
    "            version = doc[\"latestVersion\"]\n",
    "            artifacts.append((group_id, artifact_id, version))\n",
    "\n",
    "        # Check if there are more pages\n",
    "        if (page * 100) >= data[\"response\"][\"numFound\"]:\n",
    "            break\n",
    "        \n",
    "        page += 1\n",
    "\n",
    "    return artifacts\n",
    "\n",
    "if __name__ == \"__main__\":\n",
    "    all_artifacts = get_all_artifacts()\n",
    "    with open(\"artifacts.csv\", \"w\", newline=\"\") as csvfile:\n",
    "        writer = csv.writer(csvfile)\n",
    "        writer.writerow([\"GroupId\", \"ArtifactId\", \"Version\"])\n",
    "        writer.writerows(all_artifacts)\n"
   ],
   "metadata": {
    "collapsed": false,
    "ExecuteTime": {
     "end_time": "2024-04-16T05:48:51.979980Z",
     "start_time": "2024-04-16T05:48:50.543346Z"
    }
   },
   "id": "47af123f7e1ae3e3"
  },
  {
   "cell_type": "code",
   "execution_count": null,
   "outputs": [],
   "source": [],
   "metadata": {
    "collapsed": false
   },
   "id": "1ba1fe8d6612eb8c"
  }
 ],
 "metadata": {
  "kernelspec": {
   "display_name": "Python 3",
   "language": "python",
   "name": "python3"
  },
  "language_info": {
   "codemirror_mode": {
    "name": "ipython",
    "version": 2
   },
   "file_extension": ".py",
   "mimetype": "text/x-python",
   "name": "python",
   "nbconvert_exporter": "python",
   "pygments_lexer": "ipython2",
   "version": "2.7.6"
  }
 },
 "nbformat": 4,
 "nbformat_minor": 5
}
