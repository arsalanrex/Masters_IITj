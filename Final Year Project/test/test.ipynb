{
 "cells": [
  {
   "cell_type": "code",
   "execution_count": 8,
   "id": "initial_id",
   "metadata": {
    "collapsed": true,
    "ExecuteTime": {
     "end_time": "2024-04-25T11:51:07.346845Z",
     "start_time": "2024-04-25T11:51:07.340496Z"
    }
   },
   "outputs": [
    {
     "name": "stdout",
     "output_type": "stream",
     "text": [
      "+---------+-------+----------------+\n",
      "| Name    |   Age | Occupation     |\n",
      "+=========+=======+================+\n",
      "| Alice   |    30 | Engineer       |\n",
      "+---------+-------+----------------+\n",
      "| Bob     |    25 | Data Scientist |\n",
      "+---------+-------+----------------+\n",
      "| Charlie |    35 | Teacher        |\n",
      "+---------+-------+----------------+\n",
      "\n",
      "\n",
      "╒═════════╤═══════╤════════════════╕\n",
      "│ Name    │   Age │ Occupation     │\n",
      "╞═════════╪═══════╪════════════════╡\n",
      "│ Alice   │    30 │ Engineer       │\n",
      "├─────────┼───────┼────────────────┤\n",
      "│ Bob     │    25 │ Data Scientist │\n",
      "├─────────┼───────┼────────────────┤\n",
      "│ Charlie │    35 │ Teacher        │\n",
      "╘═════════╧═══════╧════════════════╛\n",
      "\n",
      "\n",
      "+---------+-----+----------------+\n",
      "|  Name   | Age |   Occupation   |\n",
      "+---------+-----+----------------+\n",
      "|  Alice  | 30  |    Engineer    |\n",
      "|   Bob   | 25  | Data Scientist |\n",
      "| Charlie | 35  |    Teacher     |\n",
      "+---------+-----+----------------+\n",
      "\n",
      "\n",
      "| Name    |   Age | Occupation     |\n",
      "|:--------|------:|:---------------|\n",
      "| Alice   |    30 | Engineer       |\n",
      "| Bob     |    25 | Data Scientist |\n",
      "| Charlie |    35 | Teacher        |\n",
      "\n",
      "\n",
      "| Name    |   Age | Occupation     |\n",
      "|---------|-------|----------------|\n",
      "| Alice   |    30 | Engineer       |\n",
      "| Bob     |    25 | Data Scientist |\n",
      "| Charlie |    35 | Teacher        |\n",
      "\n"
     ]
    }
   ],
   "source": [
    "from tabulate import tabulate\n",
    "\n",
    "# Example data for the table\n",
    "data = [\n",
    "    {\"Name\": \"Alice\", \"Age\": 30, \"Occupation\": \"Engineer\"},\n",
    "    {\"Name\": \"Bob\", \"Age\": 25, \"Occupation\": \"Data Scientist\"},\n",
    "    {\"Name\": \"Charlie\", \"Age\": 35, \"Occupation\": \"Teacher\"}\n",
    "]\n",
    "\n",
    "# Print the table using tabulate\n",
    "print(tabulate(data, headers=\"keys\", tablefmt=\"grid\"))\n",
    "print(\"\\n\")\n",
    "print(tabulate(data, headers=\"keys\", tablefmt=\"fancy_grid\"))\n",
    "print(\"\\n\")\n",
    "print(tabulate(data, headers=\"keys\", tablefmt=\"pretty\"))\n",
    "print(\"\\n\")\n",
    "print(tabulate(data, headers=\"keys\", tablefmt=\"pipe\"))\n",
    "print(\"\\n\")\n",
    "print(tabulate(data, headers=\"keys\", tablefmt=\"github\"))\n",
    "print(\"\\n\")\n",
    "\n"
   ]
  },
  {
   "cell_type": "code",
   "execution_count": 6,
   "outputs": [
    {
     "name": "stdout",
     "output_type": "stream",
     "text": [
      "  Name   Age   Occupation  \n",
      "  Alice  30        Engineer\n",
      "    Bob  25  Data Scientist\n",
      "Charlie  35         Teacher\n"
     ]
    }
   ],
   "source": [],
   "metadata": {
    "collapsed": false,
    "ExecuteTime": {
     "end_time": "2024-04-25T11:49:20.718699Z",
     "start_time": "2024-04-25T11:49:19.170055Z"
    }
   },
   "id": "3c071b8a179d76bd"
  }
 ],
 "metadata": {
  "kernelspec": {
   "display_name": "Python 3",
   "language": "python",
   "name": "python3"
  },
  "language_info": {
   "codemirror_mode": {
    "name": "ipython",
    "version": 2
   },
   "file_extension": ".py",
   "mimetype": "text/x-python",
   "name": "python",
   "nbconvert_exporter": "python",
   "pygments_lexer": "ipython2",
   "version": "2.7.6"
  }
 },
 "nbformat": 4,
 "nbformat_minor": 5
}
